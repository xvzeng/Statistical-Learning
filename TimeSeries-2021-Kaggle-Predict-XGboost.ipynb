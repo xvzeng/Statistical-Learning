{
 "cells": [
  {
   "cell_type": "markdown",
   "metadata": {},
   "source": [
    "# 2021 Kaggle_Time Series_XGboost\n",
    "By Vivian Zeng       01/17/2021"
   ]
  },
  {
   "cell_type": "code",
   "execution_count": 242,
   "metadata": {},
   "outputs": [],
   "source": [
    "import numpy as np \n",
    "import pandas as pd \n",
    "import seaborn as sns\n",
    "import matplotlib.pyplot as plt\n",
    "import xgboost as xgb\n",
    "from xgboost import plot_importance, plot_tree\n",
    "from sklearn.metrics import mean_squared_error, mean_absolute_error\n",
    "plt.style.use('fivethirtyeight')"
   ]
  },
  {
   "cell_type": "code",
   "execution_count": 243,
   "metadata": {},
   "outputs": [
    {
     "name": "stdout",
     "output_type": "stream",
     "text": [
      "\u001b[34mCrossroads_Datathon-main\u001b[m\u001b[m/\r\n",
      "Crossroads_Datathon-main (1).zip\r\n",
      "\u001b[34mCrossroads_Datathon-main 2\u001b[m\u001b[m/\r\n",
      "Crossroads_Datathon-main.zip\r\n",
      "DataDictionary.xlsx\r\n",
      "Kaggle-Predict-Vivian-01132021.pdf\r\n",
      "Kaggle-Predict-Vivian-AllBranches_0113.ipynb\r\n",
      "Kaggle-Predict-Vivian-SplitBranches_0113.Rmd\r\n",
      "Kaggle-Predict-Vivian-SplitBranches_0113.ipynb\r\n",
      "Kaggle-Predict-Vivian-SplitBranches_0113.pdf\r\n",
      "Kaggle-Predict-Vivian-SplitBranches_0117.Rmd\r\n",
      "Kaggle-Predict-Vivian-SplitBranches_0117.ipynb\r\n",
      "Kaggle-Predict-XGboost-Vivian-SplitBranches_0117.ipynb\r\n",
      "Pre_Seasonality_V\r\n",
      "Time Series-EDA-Vivian_0112.ipynb\r\n",
      "Time Series-Predict.ipynb\r\n",
      "Time Series.ipynb\r\n",
      "\u001b[34m__pycache__\u001b[m\u001b[m/\r\n",
      "cv_results\r\n",
      "\u001b[34mdask-worker-space\u001b[m\u001b[m/\r\n",
      "earth_data_plot.py\r\n",
      "kaggle.csv\r\n",
      "kaggle_ver1\r\n",
      "\u001b[31mseattle_weather_2012-2015.csv\u001b[m\u001b[m*\r\n",
      "\u001b[31mseattle_weather_2015_2016.csv\u001b[m\u001b[m*\r\n"
     ]
    }
   ],
   "source": [
    "ls"
   ]
  },
  {
   "cell_type": "code",
   "execution_count": 244,
   "metadata": {
    "scrolled": true
   },
   "outputs": [
    {
     "data": {
      "text/html": [
       "<div>\n",
       "<style scoped>\n",
       "    .dataframe tbody tr th:only-of-type {\n",
       "        vertical-align: middle;\n",
       "    }\n",
       "\n",
       "    .dataframe tbody tr th {\n",
       "        vertical-align: top;\n",
       "    }\n",
       "\n",
       "    .dataframe thead th {\n",
       "        text-align: right;\n",
       "    }\n",
       "</style>\n",
       "<table border=\"1\" class=\"dataframe\">\n",
       "  <thead>\n",
       "    <tr style=\"text-align: right;\">\n",
       "      <th></th>\n",
       "      <th>Unnamed: 0</th>\n",
       "      <th>BusinessDate</th>\n",
       "      <th>BranchID</th>\n",
       "      <th>CashOrdersReceived</th>\n",
       "      <th>CashBalance_StartOfDay</th>\n",
       "      <th>TotalCashUsed</th>\n",
       "      <th>CashToVault</th>\n",
       "      <th>CashUnder</th>\n",
       "      <th>CashOver</th>\n",
       "      <th>TotalCashDisbursed</th>\n",
       "      <th>TotalCashOpeningBalance</th>\n",
       "      <th>TotalCashReceivedAllSources</th>\n",
       "    </tr>\n",
       "  </thead>\n",
       "  <tbody>\n",
       "    <tr>\n",
       "      <th>0</th>\n",
       "      <td>1</td>\n",
       "      <td>2020-07-31</td>\n",
       "      <td>99</td>\n",
       "      <td>0.00</td>\n",
       "      <td>775054.00</td>\n",
       "      <td>-43718.13</td>\n",
       "      <td>0.0</td>\n",
       "      <td>0.0</td>\n",
       "      <td>0.0</td>\n",
       "      <td>1196392.62</td>\n",
       "      <td>1095684.09</td>\n",
       "      <td>875762.53</td>\n",
       "    </tr>\n",
       "    <tr>\n",
       "      <th>1</th>\n",
       "      <td>2</td>\n",
       "      <td>2020-07-30</td>\n",
       "      <td>99</td>\n",
       "      <td>0.00</td>\n",
       "      <td>1036464.13</td>\n",
       "      <td>261410.14</td>\n",
       "      <td>0.0</td>\n",
       "      <td>0.0</td>\n",
       "      <td>0.0</td>\n",
       "      <td>0.00</td>\n",
       "      <td>1036464.13</td>\n",
       "      <td>0.00</td>\n",
       "    </tr>\n",
       "    <tr>\n",
       "      <th>2</th>\n",
       "      <td>3</td>\n",
       "      <td>2020-07-29</td>\n",
       "      <td>99</td>\n",
       "      <td>400540.11</td>\n",
       "      <td>1141386.84</td>\n",
       "      <td>104922.70</td>\n",
       "      <td>0.0</td>\n",
       "      <td>0.0</td>\n",
       "      <td>0.0</td>\n",
       "      <td>0.00</td>\n",
       "      <td>1141386.84</td>\n",
       "      <td>0.00</td>\n",
       "    </tr>\n",
       "    <tr>\n",
       "      <th>3</th>\n",
       "      <td>4</td>\n",
       "      <td>2020-07-28</td>\n",
       "      <td>99</td>\n",
       "      <td>0.00</td>\n",
       "      <td>864871.20</td>\n",
       "      <td>124024.48</td>\n",
       "      <td>0.0</td>\n",
       "      <td>0.0</td>\n",
       "      <td>0.0</td>\n",
       "      <td>0.00</td>\n",
       "      <td>864871.20</td>\n",
       "      <td>0.00</td>\n",
       "    </tr>\n",
       "    <tr>\n",
       "      <th>4</th>\n",
       "      <td>5</td>\n",
       "      <td>2020-07-27</td>\n",
       "      <td>99</td>\n",
       "      <td>0.00</td>\n",
       "      <td>923948.57</td>\n",
       "      <td>59077.37</td>\n",
       "      <td>0.0</td>\n",
       "      <td>0.0</td>\n",
       "      <td>0.0</td>\n",
       "      <td>0.00</td>\n",
       "      <td>923948.57</td>\n",
       "      <td>0.00</td>\n",
       "    </tr>\n",
       "  </tbody>\n",
       "</table>\n",
       "</div>"
      ],
      "text/plain": [
       "   Unnamed: 0 BusinessDate  BranchID  CashOrdersReceived  \\\n",
       "0           1   2020-07-31        99                0.00   \n",
       "1           2   2020-07-30        99                0.00   \n",
       "2           3   2020-07-29        99           400540.11   \n",
       "3           4   2020-07-28        99                0.00   \n",
       "4           5   2020-07-27        99                0.00   \n",
       "\n",
       "   CashBalance_StartOfDay  TotalCashUsed  CashToVault  CashUnder  CashOver  \\\n",
       "0               775054.00      -43718.13          0.0        0.0       0.0   \n",
       "1              1036464.13      261410.14          0.0        0.0       0.0   \n",
       "2              1141386.84      104922.70          0.0        0.0       0.0   \n",
       "3               864871.20      124024.48          0.0        0.0       0.0   \n",
       "4               923948.57       59077.37          0.0        0.0       0.0   \n",
       "\n",
       "   TotalCashDisbursed  TotalCashOpeningBalance  TotalCashReceivedAllSources  \n",
       "0          1196392.62               1095684.09                    875762.53  \n",
       "1                0.00               1036464.13                         0.00  \n",
       "2                0.00               1141386.84                         0.00  \n",
       "3                0.00                864871.20                         0.00  \n",
       "4                0.00                923948.57                         0.00  "
      ]
     },
     "execution_count": 244,
     "metadata": {},
     "output_type": "execute_result"
    }
   ],
   "source": [
    "kaggle = pd.read_csv(\"kaggle.csv\")\n",
    "kaggle.head()"
   ]
  },
  {
   "cell_type": "code",
   "execution_count": 245,
   "metadata": {
    "scrolled": true
   },
   "outputs": [
    {
     "data": {
      "text/html": [
       "<div>\n",
       "<style scoped>\n",
       "    .dataframe tbody tr th:only-of-type {\n",
       "        vertical-align: middle;\n",
       "    }\n",
       "\n",
       "    .dataframe tbody tr th {\n",
       "        vertical-align: top;\n",
       "    }\n",
       "\n",
       "    .dataframe thead th {\n",
       "        text-align: right;\n",
       "    }\n",
       "</style>\n",
       "<table border=\"1\" class=\"dataframe\">\n",
       "  <thead>\n",
       "    <tr style=\"text-align: right;\">\n",
       "      <th></th>\n",
       "      <th>BusinessDate</th>\n",
       "      <th>BranchID</th>\n",
       "      <th>TotalCashUsed</th>\n",
       "    </tr>\n",
       "  </thead>\n",
       "  <tbody>\n",
       "    <tr>\n",
       "      <th>0</th>\n",
       "      <td>2020-07-31</td>\n",
       "      <td>99</td>\n",
       "      <td>-43718.13</td>\n",
       "    </tr>\n",
       "    <tr>\n",
       "      <th>1</th>\n",
       "      <td>2020-07-30</td>\n",
       "      <td>99</td>\n",
       "      <td>261410.14</td>\n",
       "    </tr>\n",
       "    <tr>\n",
       "      <th>2</th>\n",
       "      <td>2020-07-29</td>\n",
       "      <td>99</td>\n",
       "      <td>104922.70</td>\n",
       "    </tr>\n",
       "    <tr>\n",
       "      <th>3</th>\n",
       "      <td>2020-07-28</td>\n",
       "      <td>99</td>\n",
       "      <td>124024.48</td>\n",
       "    </tr>\n",
       "    <tr>\n",
       "      <th>4</th>\n",
       "      <td>2020-07-27</td>\n",
       "      <td>99</td>\n",
       "      <td>59077.37</td>\n",
       "    </tr>\n",
       "  </tbody>\n",
       "</table>\n",
       "</div>"
      ],
      "text/plain": [
       "  BusinessDate  BranchID  TotalCashUsed\n",
       "0   2020-07-31        99      -43718.13\n",
       "1   2020-07-30        99      261410.14\n",
       "2   2020-07-29        99      104922.70\n",
       "3   2020-07-28        99      124024.48\n",
       "4   2020-07-27        99       59077.37"
      ]
     },
     "execution_count": 245,
     "metadata": {},
     "output_type": "execute_result"
    }
   ],
   "source": [
    "kaggle=kaggle.drop(kaggle.columns[0], axis=1)\n",
    "kaggle=kaggle[['BusinessDate', \"BranchID\",\"TotalCashUsed\"]]\n",
    "kaggle.head()"
   ]
  },
  {
   "cell_type": "code",
   "execution_count": 246,
   "metadata": {
    "scrolled": true
   },
   "outputs": [
    {
     "data": {
      "text/html": [
       "<div>\n",
       "<style scoped>\n",
       "    .dataframe tbody tr th:only-of-type {\n",
       "        vertical-align: middle;\n",
       "    }\n",
       "\n",
       "    .dataframe tbody tr th {\n",
       "        vertical-align: top;\n",
       "    }\n",
       "\n",
       "    .dataframe thead th {\n",
       "        text-align: right;\n",
       "    }\n",
       "</style>\n",
       "<table border=\"1\" class=\"dataframe\">\n",
       "  <thead>\n",
       "    <tr style=\"text-align: right;\">\n",
       "      <th></th>\n",
       "      <th>BusinessDate</th>\n",
       "      <th>BranchID</th>\n",
       "      <th>TotalCashUsed</th>\n",
       "    </tr>\n",
       "  </thead>\n",
       "  <tbody>\n",
       "    <tr>\n",
       "      <th>0</th>\n",
       "      <td>2020-07-31</td>\n",
       "      <td>99</td>\n",
       "      <td>-43718.13</td>\n",
       "    </tr>\n",
       "    <tr>\n",
       "      <th>1</th>\n",
       "      <td>2020-07-30</td>\n",
       "      <td>99</td>\n",
       "      <td>261410.14</td>\n",
       "    </tr>\n",
       "    <tr>\n",
       "      <th>2</th>\n",
       "      <td>2020-07-29</td>\n",
       "      <td>99</td>\n",
       "      <td>104922.70</td>\n",
       "    </tr>\n",
       "    <tr>\n",
       "      <th>3</th>\n",
       "      <td>2020-07-28</td>\n",
       "      <td>99</td>\n",
       "      <td>124024.48</td>\n",
       "    </tr>\n",
       "    <tr>\n",
       "      <th>4</th>\n",
       "      <td>2020-07-27</td>\n",
       "      <td>99</td>\n",
       "      <td>59077.37</td>\n",
       "    </tr>\n",
       "  </tbody>\n",
       "</table>\n",
       "</div>"
      ],
      "text/plain": [
       "  BusinessDate  BranchID  TotalCashUsed\n",
       "0   2020-07-31        99      -43718.13\n",
       "1   2020-07-30        99      261410.14\n",
       "2   2020-07-29        99      104922.70\n",
       "3   2020-07-28        99      124024.48\n",
       "4   2020-07-27        99       59077.37"
      ]
     },
     "execution_count": 246,
     "metadata": {},
     "output_type": "execute_result"
    }
   ],
   "source": [
    "# Convert date to a datetime object\n",
    "kaggle.BusinessDate = pd.to_datetime(kaggle.BusinessDate)\n",
    "kaggle.head()"
   ]
  },
  {
   "cell_type": "code",
   "execution_count": 247,
   "metadata": {
    "scrolled": true
   },
   "outputs": [
    {
     "data": {
      "text/plain": [
       "DatetimeIndex(['2020-07-31', '2020-07-30', '2020-07-29', '2020-07-28',\n",
       "               '2020-07-27', '2020-07-26', '2020-07-25', '2020-07-24',\n",
       "               '2020-07-23', '2020-07-22',\n",
       "               ...\n",
       "               '2010-01-10', '2010-01-09', '2010-01-08', '2010-01-07',\n",
       "               '2010-01-06', '2010-01-05', '2010-01-04', '2010-01-03',\n",
       "               '2010-01-02', '2010-01-01'],\n",
       "              dtype='datetime64[ns]', name='BusinessDate', length=171230, freq=None)"
      ]
     },
     "execution_count": 247,
     "metadata": {},
     "output_type": "execute_result"
    }
   ],
   "source": [
    "# Set date to be index\n",
    "kaggle.set_index('BusinessDate', inplace = True)\n",
    "kaggle.index"
   ]
  },
  {
   "cell_type": "code",
   "execution_count": 248,
   "metadata": {},
   "outputs": [
    {
     "data": {
      "image/png": "[encoded data removed]",
      "text/plain": [
       "<Figure size 1080x360 with 1 Axes>"
      ]
     },
     "metadata": {},
     "output_type": "display_data"
    }
   ],
   "source": [
    "color_pal = [\"#F8766D\", \"#D39200\", \"#93AA00\", \"#00BA38\", \"#00C19F\", \"#00B9E3\", \"#619CFF\", \"#DB72FB\"]\n",
    "_ = kaggle.TotalCashUsed.plot(style='.', figsize=(15,5), color=color_pal[0], title='Cash')"
   ]
  },
  {
   "cell_type": "code",
   "execution_count": 252,
   "metadata": {},
   "outputs": [],
   "source": [
    "df=kaggle.loc['2019-01-01':'2020-07-31']"
   ]
  },
  {
   "cell_type": "code",
   "execution_count": 253,
   "metadata": {},
   "outputs": [],
   "source": [
    "df=df[df['BranchID'] == 99]"
   ]
  },
  {
   "cell_type": "code",
   "execution_count": 254,
   "metadata": {},
   "outputs": [
    {
     "data": {
      "text/plain": [
       "(576, 2)"
      ]
     },
     "execution_count": 254,
     "metadata": {},
     "output_type": "execute_result"
    }
   ],
   "source": [
    "df.shape"
   ]
  },
  {
   "cell_type": "code",
   "execution_count": 255,
   "metadata": {},
   "outputs": [
    {
     "data": {
      "text/html": [
       "<div>\n",
       "<style scoped>\n",
       "    .dataframe tbody tr th:only-of-type {\n",
       "        vertical-align: middle;\n",
       "    }\n",
       "\n",
       "    .dataframe tbody tr th {\n",
       "        vertical-align: top;\n",
       "    }\n",
       "\n",
       "    .dataframe thead th {\n",
       "        text-align: right;\n",
       "    }\n",
       "</style>\n",
       "<table border=\"1\" class=\"dataframe\">\n",
       "  <thead>\n",
       "    <tr style=\"text-align: right;\">\n",
       "      <th></th>\n",
       "      <th>BranchID</th>\n",
       "      <th>TotalCashUsed</th>\n",
       "    </tr>\n",
       "    <tr>\n",
       "      <th>BusinessDate</th>\n",
       "      <th></th>\n",
       "      <th></th>\n",
       "    </tr>\n",
       "  </thead>\n",
       "  <tbody>\n",
       "    <tr>\n",
       "      <th>2020-07-31</th>\n",
       "      <td>99</td>\n",
       "      <td>-43718.13</td>\n",
       "    </tr>\n",
       "    <tr>\n",
       "      <th>2020-07-30</th>\n",
       "      <td>99</td>\n",
       "      <td>261410.14</td>\n",
       "    </tr>\n",
       "    <tr>\n",
       "      <th>2020-07-29</th>\n",
       "      <td>99</td>\n",
       "      <td>104922.70</td>\n",
       "    </tr>\n",
       "    <tr>\n",
       "      <th>2020-07-28</th>\n",
       "      <td>99</td>\n",
       "      <td>124024.48</td>\n",
       "    </tr>\n",
       "    <tr>\n",
       "      <th>2020-07-27</th>\n",
       "      <td>99</td>\n",
       "      <td>59077.37</td>\n",
       "    </tr>\n",
       "  </tbody>\n",
       "</table>\n",
       "</div>"
      ],
      "text/plain": [
       "              BranchID  TotalCashUsed\n",
       "BusinessDate                         \n",
       "2020-07-31          99      -43718.13\n",
       "2020-07-30          99      261410.14\n",
       "2020-07-29          99      104922.70\n",
       "2020-07-28          99      124024.48\n",
       "2020-07-27          99       59077.37"
      ]
     },
     "execution_count": 255,
     "metadata": {},
     "output_type": "execute_result"
    }
   ],
   "source": [
    "df.head()"
   ]
  },
  {
   "cell_type": "code",
   "execution_count": 405,
   "metadata": {},
   "outputs": [],
   "source": [
    "split_date = '2020-5-15'\n",
    "train = df.loc[df.index <= split_date].copy()\n",
    "test = df.loc[df.index > split_date].copy()"
   ]
  },
  {
   "cell_type": "code",
   "execution_count": 406,
   "metadata": {},
   "outputs": [
    {
     "data": {
      "text/html": [
       "<div>\n",
       "<style scoped>\n",
       "    .dataframe tbody tr th:only-of-type {\n",
       "        vertical-align: middle;\n",
       "    }\n",
       "\n",
       "    .dataframe tbody tr th {\n",
       "        vertical-align: top;\n",
       "    }\n",
       "\n",
       "    .dataframe thead th {\n",
       "        text-align: right;\n",
       "    }\n",
       "</style>\n",
       "<table border=\"1\" class=\"dataframe\">\n",
       "  <thead>\n",
       "    <tr style=\"text-align: right;\">\n",
       "      <th></th>\n",
       "      <th>BusinessDate</th>\n",
       "      <th>BranchID</th>\n",
       "      <th>TotalCashUsed</th>\n",
       "    </tr>\n",
       "  </thead>\n",
       "  <tbody>\n",
       "    <tr>\n",
       "      <th>0</th>\n",
       "      <td>2020-05-15</td>\n",
       "      <td>99</td>\n",
       "      <td>87363.60</td>\n",
       "    </tr>\n",
       "    <tr>\n",
       "      <th>1</th>\n",
       "      <td>2020-05-14</td>\n",
       "      <td>99</td>\n",
       "      <td>207134.45</td>\n",
       "    </tr>\n",
       "  </tbody>\n",
       "</table>\n",
       "</div>"
      ],
      "text/plain": [
       "  BusinessDate  BranchID  TotalCashUsed\n",
       "0   2020-05-15        99       87363.60\n",
       "1   2020-05-14        99      207134.45"
      ]
     },
     "execution_count": 406,
     "metadata": {},
     "output_type": "execute_result"
    }
   ],
   "source": [
    "train.reset_index(inplace = True)\n",
    "train.head(2)"
   ]
  },
  {
   "cell_type": "code",
   "execution_count": 407,
   "metadata": {},
   "outputs": [
    {
     "data": {
      "text/html": [
       "<div>\n",
       "<style scoped>\n",
       "    .dataframe tbody tr th:only-of-type {\n",
       "        vertical-align: middle;\n",
       "    }\n",
       "\n",
       "    .dataframe tbody tr th {\n",
       "        vertical-align: top;\n",
       "    }\n",
       "\n",
       "    .dataframe thead th {\n",
       "        text-align: right;\n",
       "    }\n",
       "</style>\n",
       "<table border=\"1\" class=\"dataframe\">\n",
       "  <thead>\n",
       "    <tr style=\"text-align: right;\">\n",
       "      <th></th>\n",
       "      <th>BusinessDate</th>\n",
       "      <th>BranchID</th>\n",
       "      <th>TotalCashUsed</th>\n",
       "    </tr>\n",
       "  </thead>\n",
       "  <tbody>\n",
       "    <tr>\n",
       "      <th>0</th>\n",
       "      <td>2020-07-31</td>\n",
       "      <td>99</td>\n",
       "      <td>-43718.13</td>\n",
       "    </tr>\n",
       "    <tr>\n",
       "      <th>1</th>\n",
       "      <td>2020-07-30</td>\n",
       "      <td>99</td>\n",
       "      <td>261410.14</td>\n",
       "    </tr>\n",
       "  </tbody>\n",
       "</table>\n",
       "</div>"
      ],
      "text/plain": [
       "  BusinessDate  BranchID  TotalCashUsed\n",
       "0   2020-07-31        99      -43718.13\n",
       "1   2020-07-30        99      261410.14"
      ]
     },
     "execution_count": 407,
     "metadata": {},
     "output_type": "execute_result"
    }
   ],
   "source": [
    "test.reset_index(inplace = True)\n",
    "test.head(2)"
   ]
  },
  {
   "cell_type": "code",
   "execution_count": 409,
   "metadata": {},
   "outputs": [
    {
     "data": {
      "text/plain": [
       "(77, 3)"
      ]
     },
     "execution_count": 409,
     "metadata": {},
     "output_type": "execute_result"
    }
   ],
   "source": [
    "test.shape"
   ]
  },
  {
   "cell_type": "code",
   "execution_count": 410,
   "metadata": {},
   "outputs": [],
   "source": [
    "#test.date = pd.to_numeric(test.date)"
   ]
  },
  {
   "cell_type": "code",
   "execution_count": 411,
   "metadata": {
    "scrolled": true
   },
   "outputs": [],
   "source": [
    "#print(test.dtypes)"
   ]
  },
  {
   "cell_type": "code",
   "execution_count": 412,
   "metadata": {},
   "outputs": [],
   "source": [
    "#train.date = pd.to_numeric(train.date)"
   ]
  },
  {
   "cell_type": "code",
   "execution_count": 413,
   "metadata": {},
   "outputs": [],
   "source": [
    "#print(train.dtypes)"
   ]
  },
  {
   "cell_type": "code",
   "execution_count": 414,
   "metadata": {},
   "outputs": [],
   "source": [
    "# _ = test \\\n",
    "#     .rename(columns={'TotalCashUsed': 'TEST SET'}) \\\n",
    "#     .join(train.rename(columns={'TotalCashUsed': 'TRAINING SET'}), how='outer') \\\n",
    "#     .plot(figsize=(15,5), title='TotalCashUsed', style='.')"
   ]
  },
  {
   "cell_type": "code",
   "execution_count": 415,
   "metadata": {},
   "outputs": [],
   "source": [
    "def create_features(df, label=None):\n",
    "    \"\"\"\n",
    "    Creates time series features from datetime index\n",
    "    \"\"\"\n",
    "    df['BusinessDate'] = df.BusinessDate\n",
    "    df['hour'] = df['BusinessDate'].dt.hour\n",
    "    df['dayofweek'] = df['BusinessDate'].dt.dayofweek\n",
    "    df['quarter'] = df['BusinessDate'].dt.quarter\n",
    "    df['month'] = df['BusinessDate'].dt.month\n",
    "    df['year'] = df['BusinessDate'].dt.year\n",
    "    df['dayofyear'] = df['BusinessDate'].dt.dayofyear\n",
    "    df['dayofmonth'] = df['BusinessDate'].dt.day\n",
    "    #df['weekofyear'] = df['date'].dt.isocalendar().week\n",
    "    #df['BranchID']=df['BranchID']\n",
    "    \n",
    "    X = df[['hour','dayofweek','quarter','month','year',\n",
    "           'dayofyear','dayofmonth']]\n",
    "    if label:\n",
    "        y = df[label]\n",
    "        return X, y\n",
    "    return X"
   ]
  },
  {
   "cell_type": "code",
   "execution_count": 416,
   "metadata": {},
   "outputs": [],
   "source": [
    "X_train, y_train = create_features(train, label='TotalCashUsed')\n",
    "X_test, y_test = create_features(test, label='TotalCashUsed')"
   ]
  },
  {
   "cell_type": "code",
   "execution_count": 417,
   "metadata": {},
   "outputs": [
    {
     "data": {
      "text/html": [
       "<div>\n",
       "<style scoped>\n",
       "    .dataframe tbody tr th:only-of-type {\n",
       "        vertical-align: middle;\n",
       "    }\n",
       "\n",
       "    .dataframe tbody tr th {\n",
       "        vertical-align: top;\n",
       "    }\n",
       "\n",
       "    .dataframe thead th {\n",
       "        text-align: right;\n",
       "    }\n",
       "</style>\n",
       "<table border=\"1\" class=\"dataframe\">\n",
       "  <thead>\n",
       "    <tr style=\"text-align: right;\">\n",
       "      <th></th>\n",
       "      <th>hour</th>\n",
       "      <th>dayofweek</th>\n",
       "      <th>quarter</th>\n",
       "      <th>month</th>\n",
       "      <th>year</th>\n",
       "      <th>dayofyear</th>\n",
       "      <th>dayofmonth</th>\n",
       "    </tr>\n",
       "  </thead>\n",
       "  <tbody>\n",
       "    <tr>\n",
       "      <th>0</th>\n",
       "      <td>0</td>\n",
       "      <td>4</td>\n",
       "      <td>2</td>\n",
       "      <td>5</td>\n",
       "      <td>2020</td>\n",
       "      <td>136</td>\n",
       "      <td>15</td>\n",
       "    </tr>\n",
       "    <tr>\n",
       "      <th>1</th>\n",
       "      <td>0</td>\n",
       "      <td>3</td>\n",
       "      <td>2</td>\n",
       "      <td>5</td>\n",
       "      <td>2020</td>\n",
       "      <td>135</td>\n",
       "      <td>14</td>\n",
       "    </tr>\n",
       "  </tbody>\n",
       "</table>\n",
       "</div>"
      ],
      "text/plain": [
       "   hour  dayofweek  quarter  month  year  dayofyear  dayofmonth\n",
       "0     0          4        2      5  2020        136          15\n",
       "1     0          3        2      5  2020        135          14"
      ]
     },
     "execution_count": 417,
     "metadata": {},
     "output_type": "execute_result"
    }
   ],
   "source": [
    "X_train.head(2)"
   ]
  },
  {
   "cell_type": "code",
   "execution_count": 418,
   "metadata": {},
   "outputs": [
    {
     "data": {
      "text/plain": [
       "(499, 7)"
      ]
     },
     "execution_count": 418,
     "metadata": {},
     "output_type": "execute_result"
    }
   ],
   "source": [
    "X_train.shape"
   ]
  },
  {
   "cell_type": "code",
   "execution_count": 419,
   "metadata": {},
   "outputs": [
    {
     "data": {
      "text/plain": [
       "(499,)"
      ]
     },
     "execution_count": 419,
     "metadata": {},
     "output_type": "execute_result"
    }
   ],
   "source": [
    "y_train.shape"
   ]
  },
  {
   "cell_type": "code",
   "execution_count": 420,
   "metadata": {},
   "outputs": [
    {
     "data": {
      "text/plain": [
       "0       87363.60\n",
       "1      207134.45\n",
       "2       71167.63\n",
       "3      113230.82\n",
       "4       50066.23\n",
       "         ...    \n",
       "494         0.00\n",
       "495     29072.91\n",
       "496    112373.81\n",
       "497     63580.01\n",
       "498    111853.80\n",
       "Name: TotalCashUsed, Length: 499, dtype: float64"
      ]
     },
     "execution_count": 420,
     "metadata": {},
     "output_type": "execute_result"
    }
   ],
   "source": [
    "y_train"
   ]
  },
  {
   "cell_type": "code",
   "execution_count": 421,
   "metadata": {},
   "outputs": [
    {
     "data": {
      "text/html": [
       "<div>\n",
       "<style scoped>\n",
       "    .dataframe tbody tr th:only-of-type {\n",
       "        vertical-align: middle;\n",
       "    }\n",
       "\n",
       "    .dataframe tbody tr th {\n",
       "        vertical-align: top;\n",
       "    }\n",
       "\n",
       "    .dataframe thead th {\n",
       "        text-align: right;\n",
       "    }\n",
       "</style>\n",
       "<table border=\"1\" class=\"dataframe\">\n",
       "  <thead>\n",
       "    <tr style=\"text-align: right;\">\n",
       "      <th></th>\n",
       "      <th>hour</th>\n",
       "      <th>dayofweek</th>\n",
       "      <th>quarter</th>\n",
       "      <th>month</th>\n",
       "      <th>year</th>\n",
       "      <th>dayofyear</th>\n",
       "      <th>dayofmonth</th>\n",
       "    </tr>\n",
       "  </thead>\n",
       "  <tbody>\n",
       "    <tr>\n",
       "      <th>0</th>\n",
       "      <td>0</td>\n",
       "      <td>4</td>\n",
       "      <td>3</td>\n",
       "      <td>7</td>\n",
       "      <td>2020</td>\n",
       "      <td>213</td>\n",
       "      <td>31</td>\n",
       "    </tr>\n",
       "    <tr>\n",
       "      <th>1</th>\n",
       "      <td>0</td>\n",
       "      <td>3</td>\n",
       "      <td>3</td>\n",
       "      <td>7</td>\n",
       "      <td>2020</td>\n",
       "      <td>212</td>\n",
       "      <td>30</td>\n",
       "    </tr>\n",
       "  </tbody>\n",
       "</table>\n",
       "</div>"
      ],
      "text/plain": [
       "   hour  dayofweek  quarter  month  year  dayofyear  dayofmonth\n",
       "0     0          4        3      7  2020        213          31\n",
       "1     0          3        3      7  2020        212          30"
      ]
     },
     "execution_count": 421,
     "metadata": {},
     "output_type": "execute_result"
    }
   ],
   "source": [
    "X_test.head(2)"
   ]
  },
  {
   "cell_type": "code",
   "execution_count": 422,
   "metadata": {},
   "outputs": [
    {
     "data": {
      "text/plain": [
       "0     -43718.13\n",
       "1     261410.14\n",
       "2     104922.70\n",
       "3     124024.48\n",
       "4      59077.37\n",
       "        ...    \n",
       "72    105844.29\n",
       "73     73780.28\n",
       "74    124959.43\n",
       "75     91758.17\n",
       "76         0.00\n",
       "Name: TotalCashUsed, Length: 77, dtype: float64"
      ]
     },
     "execution_count": 422,
     "metadata": {},
     "output_type": "execute_result"
    }
   ],
   "source": [
    "y_test"
   ]
  },
  {
   "cell_type": "code",
   "execution_count": 423,
   "metadata": {},
   "outputs": [
    {
     "name": "stdout",
     "output_type": "stream",
     "text": [
      "hour          int64\n",
      "dayofweek     int64\n",
      "quarter       int64\n",
      "month         int64\n",
      "year          int64\n",
      "dayofyear     int64\n",
      "dayofmonth    int64\n",
      "dtype: object\n",
      "hour          int64\n",
      "dayofweek     int64\n",
      "quarter       int64\n",
      "month         int64\n",
      "year          int64\n",
      "dayofyear     int64\n",
      "dayofmonth    int64\n",
      "dtype: object\n"
     ]
    }
   ],
   "source": [
    "print(X_train.dtypes)\n",
    "print(X_test.dtypes)"
   ]
  },
  {
   "cell_type": "code",
   "execution_count": 424,
   "metadata": {},
   "outputs": [
    {
     "name": "stdout",
     "output_type": "stream",
     "text": [
      "float64\n",
      "float64\n"
     ]
    }
   ],
   "source": [
    "print(y_train.dtypes)\n",
    "print(y_test.dtypes)"
   ]
  },
  {
   "cell_type": "code",
   "execution_count": 425,
   "metadata": {},
   "outputs": [],
   "source": [
    "# X_train.weekofyear = pd.to_numeric(X_train.weekofyear)\n",
    "# X_test.weekofyear = pd.to_numeric(X_test.weekofyear)"
   ]
  },
  {
   "cell_type": "code",
   "execution_count": 426,
   "metadata": {},
   "outputs": [],
   "source": [
    "# print(X_train.dtypes)\n",
    "# print(X_test.dtypes)"
   ]
  },
  {
   "cell_type": "code",
   "execution_count": 427,
   "metadata": {
    "scrolled": false
   },
   "outputs": [
    {
     "data": {
      "text/plain": [
       "XGBRegressor(base_score=0.5, booster='gbtree', colsample_bylevel=1,\n",
       "             colsample_bynode=1, colsample_bytree=1, gamma=0, gpu_id=-1,\n",
       "             importance_type='gain', interaction_constraints='',\n",
       "             learning_rate=0.300000012, max_delta_step=0, max_depth=6,\n",
       "             min_child_weight=1, missing=nan, monotone_constraints='()',\n",
       "             n_estimators=500, n_jobs=0, num_parallel_tree=1, random_state=123,\n",
       "             reg_alpha=0, reg_lambda=1, scale_pos_weight=1, seed=123,\n",
       "             subsample=1, tree_method='exact', validate_parameters=1,\n",
       "             verbosity=None)"
      ]
     },
     "execution_count": 427,
     "metadata": {},
     "output_type": "execute_result"
    }
   ],
   "source": [
    "reg = xgb.XGBRegressor(n_estimators = 500, seed = 123)\n",
    "reg.fit(X_train, y_train,\n",
    "        eval_set=[(X_train, y_train), (X_test, y_test)],\n",
    "        early_stopping_rounds=50,\n",
    "        verbose=False) # Change verbose to True if you want to see it train"
   ]
  },
  {
   "cell_type": "code",
   "execution_count": 428,
   "metadata": {},
   "outputs": [
    {
     "data": {
      "text/plain": [
       "<Figure size 1080x720 with 0 Axes>"
      ]
     },
     "metadata": {},
     "output_type": "display_data"
    },
    {
     "data": {
      "image/png": "[encoded data removed]",
      "text/plain": [
       "<Figure size 432x288 with 1 Axes>"
      ]
     },
     "metadata": {},
     "output_type": "display_data"
    }
   ],
   "source": [
    "plt.figure(figsize=(15,10))\n",
    "_ = plot_importance(reg, height=0.9)"
   ]
  },
  {
   "cell_type": "code",
   "execution_count": 429,
   "metadata": {},
   "outputs": [],
   "source": [
    "#len(y_test)"
   ]
  },
  {
   "cell_type": "code",
   "execution_count": 430,
   "metadata": {},
   "outputs": [],
   "source": [
    "#X_test.shape"
   ]
  },
  {
   "cell_type": "code",
   "execution_count": 431,
   "metadata": {},
   "outputs": [],
   "source": [
    "y_pred = reg.predict(X_test)"
   ]
  },
  {
   "cell_type": "code",
   "execution_count": 432,
   "metadata": {},
   "outputs": [
    {
     "data": {
      "text/plain": [
       "52789.524593209695"
      ]
     },
     "execution_count": 432,
     "metadata": {},
     "output_type": "execute_result"
    }
   ],
   "source": [
    "np.sqrt(mean_squared_error(y_test,y_pred))\n",
    "#56795.504460914424"
   ]
  },
  {
   "cell_type": "code",
   "execution_count": 433,
   "metadata": {},
   "outputs": [
    {
     "data": {
      "text/plain": [
       "35733.7176893338"
      ]
     },
     "execution_count": 433,
     "metadata": {},
     "output_type": "execute_result"
    }
   ],
   "source": [
    "mean_absolute_error(y_test,y_pred)\n",
    "#38735.10017546106"
   ]
  },
  {
   "cell_type": "code",
   "execution_count": 434,
   "metadata": {},
   "outputs": [
    {
     "name": "stdout",
     "output_type": "stream",
     "text": [
      "RMSE :  68320.125545\n",
      "MAE :  54565.353545\n"
     ]
    }
   ],
   "source": [
    "# Train and test set are converted to DMatrix objects, \n",
    "# as it is required by learning API. \n",
    "train_dmatrix = xgb.DMatrix(data = X_train, label = y_train) \n",
    "test_dmatrix = xgb.DMatrix(data = X_test, label = y_test) \n",
    "  \n",
    "# Parameter dictionary specifying base learner \n",
    "param = {\"booster\":\"gblinear\", \"objective\":\"reg:squarederror\"} \n",
    "  \n",
    "xgb_r = xgb.train(params = param, dtrain = train_dmatrix, num_boost_round = 10) \n",
    "pred = xgb_r.predict(test_dmatrix) \n",
    "  \n",
    "# RMSE Computation \n",
    "rmse = np.sqrt(mean_squared_error(y_test, pred))\n",
    "mae=mean_absolute_error(y_test,pred)\n",
    "print(\"RMSE : % f\" %(rmse))\n",
    "print(\"MAE : % f\" %(mae))"
   ]
  }
 ],
 "metadata": {
  "kernelspec": {
   "display_name": "Python 3",
   "language": "python",
   "name": "python3"
  },
  "language_info": {
   "codemirror_mode": {
    "name": "ipython",
    "version": 3
   },
   "file_extension": ".py",
   "mimetype": "text/x-python",
   "name": "python",
   "nbconvert_exporter": "python",
   "pygments_lexer": "ipython3",
   "version": "3.7.4"
  }
 },
 "nbformat": 4,
 "nbformat_minor": 4
}

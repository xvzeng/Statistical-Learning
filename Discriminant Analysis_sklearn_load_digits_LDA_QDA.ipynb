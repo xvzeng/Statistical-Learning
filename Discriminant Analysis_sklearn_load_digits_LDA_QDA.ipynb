{
 "cells": [
  {
   "cell_type": "markdown",
   "metadata": {},
   "source": [
    "# Discriminant Analysis: sklearn, load_digits\n",
    "## 1. Load packages"
   ]
  },
  {
   "cell_type": "code",
   "execution_count": 25,
   "metadata": {},
   "outputs": [],
   "source": [
    "import numpy as np\n",
    "import pandas as pd\n",
    "import matplotlib as mpl\n",
    "import matplotlib.pyplot as plt\n",
    "from sklearn.model_selection import train_test_split\n",
    "from sklearn.metrics import classification_report, accuracy_score\n",
    "from sklearn.discriminant_analysis import LinearDiscriminantAnalysis as LDA, QuadraticDiscriminantAnalysis as QDA\n",
    "from sklearn.svm import SVC\n",
    "from sklearn.datasets import load_digits"
   ]
  },
  {
   "cell_type": "markdown",
   "metadata": {},
   "source": [
    "## 2. Load handwritten digits dataset, and split into training and testing"
   ]
  },
  {
   "cell_type": "code",
   "execution_count": 26,
   "metadata": {},
   "outputs": [],
   "source": [
    "digits = load_digits()\n",
    "\n",
    "X = digits.data\n",
    "y = digits.target\n",
    "X_train, X_test, y_train, y_test = train_test_split(X, y, test_size=.3, stratify=y, random_state=1)"
   ]
  },
  {
   "cell_type": "markdown",
   "metadata": {},
   "source": [
    "## 3. Plot a few examples"
   ]
  },
  {
   "cell_type": "code",
   "execution_count": 27,
   "metadata": {},
   "outputs": [
    {
     "name": "stdout",
     "output_type": "stream",
     "text": [
      "3\n"
     ]
    },
    {
     "data": {
      "image/png": "[encoded data removed]",
      "text/plain": [
       "<Figure size 432x288 with 1 Axes>"
      ]
     },
     "metadata": {
      "needs_background": "light"
     },
     "output_type": "display_data"
    }
   ],
   "source": [
    "plt.imshow(X_train[2].reshape(8,8), plt.cm.binary)\n",
    "print(y_train[2])"
   ]
  },
  {
   "cell_type": "markdown",
   "metadata": {},
   "source": [
    "## 4. Train an LDA model"
   ]
  },
  {
   "cell_type": "code",
   "execution_count": 28,
   "metadata": {},
   "outputs": [],
   "source": [
    "lda = LDA().fit(X_train, y_train)\n",
    "\n",
    "preds = lda.predict(X_test)\n",
    "probs = lda.predict_proba(X_test)"
   ]
  },
  {
   "cell_type": "markdown",
   "metadata": {},
   "source": [
    "## 5. Print metrics"
   ]
  },
  {
   "cell_type": "code",
   "execution_count": 29,
   "metadata": {},
   "outputs": [
    {
     "name": "stdout",
     "output_type": "stream",
     "text": [
      "              precision    recall  f1-score   support\n",
      "\n",
      "           0       1.00      0.98      0.99        54\n",
      "           1       0.88      0.91      0.89        55\n",
      "           2       0.98      0.98      0.98        53\n",
      "           3       0.98      0.91      0.94        55\n",
      "           4       1.00      0.93      0.96        54\n",
      "           5       0.96      0.95      0.95        55\n",
      "           6       0.96      0.98      0.97        54\n",
      "           7       0.96      0.96      0.96        54\n",
      "           8       0.88      0.87      0.87        52\n",
      "           9       0.87      1.00      0.93        54\n",
      "\n",
      "    accuracy                           0.95       540\n",
      "   macro avg       0.95      0.95      0.95       540\n",
      "weighted avg       0.95      0.95      0.95       540\n",
      "\n"
     ]
    }
   ],
   "source": [
    "print(classification_report(y_test, preds))"
   ]
  },
  {
   "cell_type": "code",
   "execution_count": 30,
   "metadata": {},
   "outputs": [
    {
     "data": {
      "text/plain": [
       "0.9462962962962963"
      ]
     },
     "execution_count": 30,
     "metadata": {},
     "output_type": "execute_result"
    }
   ],
   "source": [
    "accuracy_score(y_test, preds)"
   ]
  },
  {
   "cell_type": "code",
   "execution_count": 37,
   "metadata": {},
   "outputs": [],
   "source": [
    "import numpy as np\n",
    "import pandas as pd\n",
    "import matplotlib as mpl\n",
    "import matplotlib.pyplot as plt\n",
    "from sklearn.model_selection import train_test_split\n",
    "from sklearn.metrics import classification_report, accuracy_score\n",
    "from sklearn.metrics import mean_squared_error, accuracy_score, recall_score, precision_score, confusion_matrix, roc_auc_score, roc_curve\n",
    "from sklearn.discriminant_analysis import LinearDiscriminantAnalysis as LDA, QuadraticDiscriminantAnalysis as QDA\n",
    "from sklearn.svm import SVC\n",
    "from sklearn.datasets import load_digits\n",
    "from sklearn.preprocessing import PolynomialFeatures, StandardScaler"
   ]
  },
  {
   "cell_type": "code",
   "execution_count": 70,
   "metadata": {},
   "outputs": [
    {
     "data": {
      "text/plain": [
       "SVC(C=1.0, break_ties=False, cache_size=200, class_weight=None, coef0=0.0,\n",
       "    decision_function_shape='ovr', degree=3, gamma='scale', kernel='linear',\n",
       "    max_iter=-1, probability=True, random_state=1, shrinking=True, tol=0.001,\n",
       "    verbose=False)"
      ]
     },
     "execution_count": 70,
     "metadata": {},
     "output_type": "execute_result"
    }
   ],
   "source": [
    "clf=SVC(probability=True, random_state=1, kernel='linear')\n",
    "clf.fit(X_train, y_train)"
   ]
  },
  {
   "cell_type": "code",
   "execution_count": 71,
   "metadata": {},
   "outputs": [],
   "source": [
    "preds = clf.predict(X_test)\n",
    "probs = clf.predict_proba(X_test)"
   ]
  },
  {
   "cell_type": "code",
   "execution_count": 72,
   "metadata": {},
   "outputs": [
    {
     "name": "stdout",
     "output_type": "stream",
     "text": [
      "              precision    recall  f1-score   support\n",
      "\n",
      "           0       1.00      0.98      0.99        54\n",
      "           1       0.93      0.98      0.96        55\n",
      "           2       1.00      1.00      1.00        53\n",
      "           3       1.00      0.96      0.98        55\n",
      "           4       0.98      1.00      0.99        54\n",
      "           5       0.96      0.96      0.96        55\n",
      "           6       0.98      0.98      0.98        54\n",
      "           7       0.96      1.00      0.98        54\n",
      "           8       0.94      0.88      0.91        52\n",
      "           9       0.96      0.96      0.96        54\n",
      "\n",
      "    accuracy                           0.97       540\n",
      "   macro avg       0.97      0.97      0.97       540\n",
      "weighted avg       0.97      0.97      0.97       540\n",
      "\n"
     ]
    }
   ],
   "source": [
    "print(classification_report(y_test, preds))"
   ]
  },
  {
   "cell_type": "code",
   "execution_count": 73,
   "metadata": {},
   "outputs": [
    {
     "data": {
      "text/plain": [
       "array([1, 3, 7, 0, 4, 8, 6, 7, 1, 1, 9, 6, 4, 9, 3, 7, 9, 8, 5, 3, 5, 4,\n",
       "       2, 8, 2, 0, 7, 2, 9, 7, 2, 9, 6, 7, 1, 6, 9, 3, 1, 9, 5, 5, 5, 7,\n",
       "       5, 4, 6, 9, 5, 6, 8, 4, 4, 9, 6, 1, 2, 1, 3, 6, 7, 7, 5, 2, 3, 2,\n",
       "       9, 4, 8, 5, 0, 9, 9, 1, 6, 4, 4, 7, 1, 3, 3, 9, 5, 6, 0, 5, 8, 6,\n",
       "       7, 5, 7, 8, 4, 3, 3, 9, 7, 4, 5, 4, 7, 4, 3, 1, 8, 9, 6, 2, 8, 2,\n",
       "       8, 5, 6, 9, 5, 5, 0, 0, 4, 0, 6, 7, 5, 1, 7, 3, 0, 4, 9, 0, 3, 5,\n",
       "       0, 9, 3, 7, 9, 4, 2, 4, 2, 6, 9, 5, 9, 3, 1, 2, 3, 2, 6, 3, 6, 2,\n",
       "       0, 7, 4, 4, 8, 8, 4, 3, 8, 3, 8, 0, 1, 7, 5, 6, 7, 5, 2, 6, 0, 7,\n",
       "       1, 0, 7, 2, 6, 2, 0, 0, 7, 1, 8, 0, 6, 3, 0, 0, 7, 5, 5, 3, 9, 0,\n",
       "       0, 5, 3, 7, 8, 5, 3, 9, 9, 8, 6, 1, 9, 0, 2, 6, 5, 6, 0, 9, 7, 1,\n",
       "       0, 8, 3, 0, 6, 9, 5, 3, 3, 9, 4, 4, 3, 9, 3, 9, 2, 2, 7, 8, 8, 6,\n",
       "       1, 0, 1, 2, 8, 4, 1, 9, 6, 5, 9, 6, 8, 4, 9, 0, 7, 5, 3, 1, 1, 6,\n",
       "       9, 7, 5, 6, 2, 7, 4, 4, 4, 6, 9, 2, 4, 0, 7, 5, 7, 8, 1, 6, 9, 2,\n",
       "       7, 5, 2, 5, 0, 2, 4, 7, 1, 1, 7, 2, 2, 6, 3, 3, 1, 8, 1, 2, 3, 5,\n",
       "       8, 1, 1, 2, 2, 1, 8, 6, 3, 8, 8, 6, 8, 0, 2, 9, 4, 6, 1, 8, 3, 8,\n",
       "       4, 4, 1, 4, 1, 1, 4, 5, 7, 6, 1, 9, 7, 1, 8, 1, 2, 5, 5, 6, 9, 3,\n",
       "       8, 5, 1, 0, 5, 3, 3, 8, 6, 5, 4, 5, 6, 8, 9, 0, 3, 0, 0, 2, 2, 3,\n",
       "       5, 6, 0, 8, 0, 9, 1, 7, 4, 6, 6, 3, 6, 1, 1, 4, 3, 6, 0, 8, 1, 0,\n",
       "       0, 8, 6, 0, 1, 9, 9, 2, 9, 4, 3, 2, 8, 8, 7, 7, 5, 0, 7, 3, 4, 7,\n",
       "       2, 0, 0, 8, 1, 5, 2, 7, 4, 9, 0, 9, 1, 1, 3, 7, 0, 4, 2, 4, 4, 8,\n",
       "       7, 6, 5, 1, 5, 9, 7, 0, 4, 2, 3, 7, 4, 2, 0, 9, 1, 0, 2, 7, 8, 5,\n",
       "       7, 4, 5, 5, 7, 8, 3, 8, 4, 1, 0, 0, 9, 1, 9, 2, 4, 4, 2, 7, 8, 3,\n",
       "       0, 4, 2, 3, 5, 9, 1, 3, 1, 3, 5, 1, 1, 8, 3, 1, 6, 6, 0, 2, 9, 3,\n",
       "       1, 9, 4, 2, 2, 5, 6, 4, 7, 4, 8, 2, 5, 6, 3, 8, 7, 7, 1, 2, 6, 4,\n",
       "       7, 2, 6, 1, 2, 0, 9, 5, 4, 7, 5, 6])"
      ]
     },
     "execution_count": 73,
     "metadata": {},
     "output_type": "execute_result"
    }
   ],
   "source": [
    "preds"
   ]
  },
  {
   "cell_type": "code",
   "execution_count": 77,
   "metadata": {},
   "outputs": [
    {
     "name": "stdout",
     "output_type": "stream",
     "text": [
      "8\n"
     ]
    },
    {
     "data": {
      "image/png": "[encoded data removed]",
      "text/plain": [
       "<Figure size 432x288 with 1 Axes>"
      ]
     },
     "metadata": {
      "needs_background": "light"
     },
     "output_type": "display_data"
    }
   ],
   "source": [
    "plt.imshow(X_test[77].reshape(8,8), plt.cm.binary)\n",
    "print(y_test[77])"
   ]
  },
  {
   "cell_type": "code",
   "execution_count": 75,
   "metadata": {},
   "outputs": [
    {
     "data": {
      "text/plain": [
       "array([1, 3, 7, 0, 4, 8, 6, 7, 1, 1, 9, 6, 4, 9, 3, 7, 9, 8, 5, 3, 5, 4,\n",
       "       2, 8, 2, 0, 7, 2, 9, 7, 2, 9, 6, 7, 1, 6, 9, 3, 1, 9, 5, 5, 5, 7,\n",
       "       5, 4, 6, 9, 5, 6, 8, 4, 4, 9, 6, 1, 2, 1, 3, 6, 7, 7, 5, 2, 3, 2,\n",
       "       9, 4, 8, 5, 0, 9, 9, 1, 6, 4, 4, 8, 1, 3, 3, 9, 5, 6, 0, 5, 8, 6,\n",
       "       7, 5, 7, 8, 4, 3, 3, 9, 7, 4, 5, 4, 7, 4, 3, 1, 8, 9, 6, 2, 8, 2,\n",
       "       8, 5, 6, 9, 5, 5, 0, 0, 4, 0, 6, 7, 5, 1, 7, 3, 0, 4, 9, 0, 3, 5,\n",
       "       0, 9, 3, 7, 9, 4, 2, 4, 2, 6, 9, 5, 9, 3, 1, 2, 3, 2, 6, 3, 6, 2,\n",
       "       0, 7, 4, 4, 8, 8, 4, 3, 8, 3, 8, 0, 8, 7, 5, 6, 7, 5, 2, 6, 0, 7,\n",
       "       1, 0, 7, 2, 6, 2, 0, 0, 7, 1, 8, 0, 6, 3, 0, 0, 7, 5, 5, 3, 9, 0,\n",
       "       0, 5, 3, 7, 9, 5, 3, 9, 9, 8, 6, 1, 9, 0, 2, 6, 5, 6, 0, 9, 7, 8,\n",
       "       0, 8, 3, 0, 6, 9, 5, 3, 3, 5, 4, 4, 3, 9, 3, 8, 2, 2, 7, 8, 8, 6,\n",
       "       1, 0, 1, 2, 8, 4, 1, 9, 6, 5, 9, 6, 8, 4, 9, 0, 7, 5, 3, 1, 1, 6,\n",
       "       9, 7, 5, 6, 2, 7, 4, 4, 4, 6, 9, 2, 4, 0, 7, 5, 7, 8, 1, 6, 9, 2,\n",
       "       7, 5, 2, 5, 0, 2, 0, 7, 1, 1, 7, 2, 2, 6, 3, 3, 1, 6, 1, 2, 3, 5,\n",
       "       8, 1, 1, 2, 2, 1, 8, 6, 3, 8, 8, 5, 8, 0, 2, 9, 4, 6, 1, 8, 3, 8,\n",
       "       4, 4, 1, 4, 1, 1, 4, 5, 7, 6, 1, 9, 7, 1, 8, 1, 2, 5, 5, 6, 9, 3,\n",
       "       8, 3, 8, 0, 5, 3, 3, 8, 6, 5, 4, 5, 6, 8, 9, 0, 3, 0, 0, 2, 2, 3,\n",
       "       5, 6, 0, 8, 0, 9, 1, 7, 4, 6, 6, 3, 6, 1, 1, 4, 3, 6, 0, 8, 8, 0,\n",
       "       0, 8, 6, 0, 1, 9, 9, 2, 9, 4, 3, 2, 8, 8, 7, 7, 5, 0, 7, 3, 4, 7,\n",
       "       2, 0, 0, 8, 1, 5, 2, 7, 4, 9, 0, 9, 1, 1, 3, 7, 0, 4, 2, 4, 4, 8,\n",
       "       7, 6, 9, 1, 5, 9, 7, 0, 4, 2, 3, 7, 4, 2, 0, 9, 1, 0, 2, 7, 1, 5,\n",
       "       7, 4, 5, 5, 7, 8, 3, 8, 4, 1, 0, 0, 9, 1, 9, 2, 4, 4, 2, 3, 8, 3,\n",
       "       0, 4, 2, 3, 5, 9, 1, 3, 1, 3, 5, 1, 1, 8, 3, 1, 6, 6, 0, 2, 9, 3,\n",
       "       1, 9, 4, 2, 2, 5, 6, 4, 7, 4, 8, 2, 5, 6, 3, 8, 7, 7, 1, 2, 6, 4,\n",
       "       7, 2, 6, 1, 2, 0, 9, 5, 4, 7, 5, 6])"
      ]
     },
     "execution_count": 75,
     "metadata": {},
     "output_type": "execute_result"
    }
   ],
   "source": [
    "y_test"
   ]
  },
  {
   "cell_type": "code",
   "execution_count": 76,
   "metadata": {},
   "outputs": [
    {
     "data": {
      "text/plain": [
       "(array([ 77, 166, 202, 219, 229, 235, 292, 303, 319, 353, 354, 394, 442,\n",
       "        460, 481]),)"
      ]
     },
     "execution_count": 76,
     "metadata": {},
     "output_type": "execute_result"
    }
   ],
   "source": [
    "np.where(y_test != preds)"
   ]
  },
  {
   "cell_type": "code",
   "execution_count": 48,
   "metadata": {},
   "outputs": [
    {
     "name": "stderr",
     "output_type": "stream",
     "text": [
      "/opt/anaconda3/lib/python3.7/site-packages/sklearn/discriminant_analysis.py:691: UserWarning: Variables are collinear\n",
      "  warnings.warn(\"Variables are collinear\")\n",
      "/opt/anaconda3/lib/python3.7/site-packages/sklearn/discriminant_analysis.py:691: UserWarning: Variables are collinear\n",
      "  warnings.warn(\"Variables are collinear\")\n"
     ]
    },
    {
     "data": {
      "text/plain": [
       "QuadraticDiscriminantAnalysis(priors=None, reg_param=0.0,\n",
       "                              store_covariance=False, tol=0.0001)"
      ]
     },
     "execution_count": 48,
     "metadata": {},
     "output_type": "execute_result"
    }
   ],
   "source": [
    "qda = QDA().fit(X_train, y_train)\n",
    "qda.fit(X_train, y_train)"
   ]
  },
  {
   "cell_type": "code",
   "execution_count": 49,
   "metadata": {},
   "outputs": [],
   "source": [
    "preds = qda.predict(X_test)\n",
    "probs = qda.predict_proba(X_test)[:, 1]"
   ]
  },
  {
   "cell_type": "code",
   "execution_count": 50,
   "metadata": {},
   "outputs": [
    {
     "name": "stdout",
     "output_type": "stream",
     "text": [
      "              precision    recall  f1-score   support\n",
      "\n",
      "           0       1.00      0.98      0.99        54\n",
      "           1       1.00      0.25      0.41        55\n",
      "           2       0.93      0.94      0.93        53\n",
      "           3       0.81      0.85      0.83        55\n",
      "           4       0.93      0.78      0.85        54\n",
      "           5       0.83      0.96      0.89        55\n",
      "           6       0.90      0.98      0.94        54\n",
      "           7       0.77      0.98      0.86        54\n",
      "           8       0.52      0.87      0.65        52\n",
      "           9       0.97      0.67      0.79        54\n",
      "\n",
      "    accuracy                           0.83       540\n",
      "   macro avg       0.87      0.83      0.81       540\n",
      "weighted avg       0.87      0.83      0.81       540\n",
      "\n"
     ]
    }
   ],
   "source": [
    "print(classification_report(y_test, preds))"
   ]
  },
  {
   "cell_type": "code",
   "execution_count": 66,
   "metadata": {},
   "outputs": [
    {
     "data": {
      "text/plain": [
       "SVC(C=1.0, break_ties=False, cache_size=200, class_weight=None, coef0=0.0,\n",
       "    decision_function_shape='ovr', degree=3, gamma='scale', kernel='rbf',\n",
       "    max_iter=-1, probability=True, random_state=1, shrinking=True, tol=0.001,\n",
       "    verbose=False)"
      ]
     },
     "execution_count": 66,
     "metadata": {},
     "output_type": "execute_result"
    }
   ],
   "source": [
    "clf=SVC(probability=True, random_state=1, gamma='scale')\n",
    "clf.fit(X_train, y_train)"
   ]
  },
  {
   "cell_type": "code",
   "execution_count": 67,
   "metadata": {},
   "outputs": [],
   "source": [
    "preds = clf.predict(X_test)\n",
    "probs = clf.predict_proba(X_test)"
   ]
  },
  {
   "cell_type": "code",
   "execution_count": 68,
   "metadata": {},
   "outputs": [
    {
     "name": "stdout",
     "output_type": "stream",
     "text": [
      "              precision    recall  f1-score   support\n",
      "\n",
      "           0       1.00      1.00      1.00        54\n",
      "           1       0.96      1.00      0.98        55\n",
      "           2       1.00      1.00      1.00        53\n",
      "           3       1.00      0.96      0.98        55\n",
      "           4       1.00      0.98      0.99        54\n",
      "           5       0.96      0.96      0.96        55\n",
      "           6       0.98      1.00      0.99        54\n",
      "           7       0.96      1.00      0.98        54\n",
      "           8       1.00      0.94      0.97        52\n",
      "           9       0.96      0.98      0.97        54\n",
      "\n",
      "    accuracy                           0.98       540\n",
      "   macro avg       0.98      0.98      0.98       540\n",
      "weighted avg       0.98      0.98      0.98       540\n",
      "\n"
     ]
    }
   ],
   "source": [
    "print(classification_report(y_test, preds))"
   ]
  },
  {
   "cell_type": "code",
   "execution_count": null,
   "metadata": {},
   "outputs": [],
   "source": []
  }
 ],
 "metadata": {
  "kernelspec": {
   "display_name": "Python 3",
   "language": "python",
   "name": "python3"
  },
  "language_info": {
   "codemirror_mode": {
    "name": "ipython",
    "version": 3
   },
   "file_extension": ".py",
   "mimetype": "text/x-python",
   "name": "python",
   "nbconvert_exporter": "python",
   "pygments_lexer": "ipython3",
   "version": "3.7.4"
  }
 },
 "nbformat": 4,
 "nbformat_minor": 2
}

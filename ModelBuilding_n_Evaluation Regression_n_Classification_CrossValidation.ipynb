{
 "cells": [
  {
   "cell_type": "markdown",
   "metadata": {},
   "source": [
    "# Model Building and Evaluation, Regression and Classification, Cross Validation\n",
    "# By Vivian Zeng 08/26/2020\n",
    "\n",
    "# Part One: Regression with the Ames Housing Data Set\n",
    "\n",
    "### 1. Load the Ames housing data. We will use the variables Sale_Price, Lot_Area, Year_Built, Gr_Liv_Area, Total_Bsmt_SF, Full_Bath to predict Sale_Price. Print the first few rows. (5 pts)"
   ]
  },
  {
   "cell_type": "code",
   "execution_count": 2,
   "metadata": {},
   "outputs": [],
   "source": [
    "import numpy as np\n",
    "import pandas as pd\n",
    "from sklearn.linear_model import LinearRegression, LogisticRegression, LogisticRegressionCV\n",
    "from sklearn.preprocessing import StandardScaler, PolynomialFeatures\n",
    "from sklearn.model_selection import KFold, GridSearchCV, cross_validate, train_test_split\n",
    "import matplotlib.pyplot as plt\n",
    "from sklearn.metrics import mean_squared_error, mean_absolute_error, accuracy_score, recall_score, precision_score, confusion_matrix, \\\n",
    "roc_auc_score, roc_curve, precision_recall_curve\n",
    "from math import sqrt"
   ]
  },
  {
   "cell_type": "code",
   "execution_count": 3,
   "metadata": {},
   "outputs": [
    {
     "data": {
      "text/html": [
       "<div>\n",
       "<style scoped>\n",
       "    .dataframe tbody tr th:only-of-type {\n",
       "        vertical-align: middle;\n",
       "    }\n",
       "\n",
       "    .dataframe tbody tr th {\n",
       "        vertical-align: top;\n",
       "    }\n",
       "\n",
       "    .dataframe thead th {\n",
       "        text-align: right;\n",
       "    }\n",
       "</style>\n",
       "<table border=\"1\" class=\"dataframe\">\n",
       "  <thead>\n",
       "    <tr style=\"text-align: right;\">\n",
       "      <th></th>\n",
       "      <th>Sale_Price</th>\n",
       "      <th>Lot_Area</th>\n",
       "      <th>Year_Built</th>\n",
       "      <th>Gr_Liv_Area</th>\n",
       "      <th>Total_Bsmt_SF</th>\n",
       "      <th>Full_Bath</th>\n",
       "    </tr>\n",
       "  </thead>\n",
       "  <tbody>\n",
       "    <tr>\n",
       "      <th>0</th>\n",
       "      <td>215000</td>\n",
       "      <td>31770</td>\n",
       "      <td>1960</td>\n",
       "      <td>1656</td>\n",
       "      <td>1080</td>\n",
       "      <td>1</td>\n",
       "    </tr>\n",
       "    <tr>\n",
       "      <th>1</th>\n",
       "      <td>105000</td>\n",
       "      <td>11622</td>\n",
       "      <td>1961</td>\n",
       "      <td>896</td>\n",
       "      <td>882</td>\n",
       "      <td>1</td>\n",
       "    </tr>\n",
       "    <tr>\n",
       "      <th>2</th>\n",
       "      <td>172000</td>\n",
       "      <td>14267</td>\n",
       "      <td>1958</td>\n",
       "      <td>1329</td>\n",
       "      <td>1329</td>\n",
       "      <td>1</td>\n",
       "    </tr>\n",
       "    <tr>\n",
       "      <th>3</th>\n",
       "      <td>244000</td>\n",
       "      <td>11160</td>\n",
       "      <td>1968</td>\n",
       "      <td>2110</td>\n",
       "      <td>2110</td>\n",
       "      <td>2</td>\n",
       "    </tr>\n",
       "    <tr>\n",
       "      <th>4</th>\n",
       "      <td>189900</td>\n",
       "      <td>13830</td>\n",
       "      <td>1997</td>\n",
       "      <td>1629</td>\n",
       "      <td>928</td>\n",
       "      <td>2</td>\n",
       "    </tr>\n",
       "  </tbody>\n",
       "</table>\n",
       "</div>"
      ],
      "text/plain": [
       "   Sale_Price  Lot_Area  Year_Built  Gr_Liv_Area  Total_Bsmt_SF  Full_Bath\n",
       "0      215000     31770        1960         1656           1080          1\n",
       "1      105000     11622        1961          896            882          1\n",
       "2      172000     14267        1958         1329           1329          1\n",
       "3      244000     11160        1968         2110           2110          2\n",
       "4      189900     13830        1997         1629            928          2"
      ]
     },
     "execution_count": 3,
     "metadata": {},
     "output_type": "execute_result"
    }
   ],
   "source": [
    "ames = pd.read_csv('ames.csv')\n",
    "cols = ['Sale_Price', 'Lot_Area', 'Year_Built', 'Gr_Liv_Area', 'Total_Bsmt_SF', 'Full_Bath']\n",
    "df = ames[cols].copy()\n",
    "df = df.dropna()\n",
    "df.head()"
   ]
  },
  {
   "cell_type": "markdown",
   "metadata": {},
   "source": [
    "### 2. Create a vector \"y\" of the response variable and a matrix \"X\" of predictors. Standardize both so that each column has mean 0 and variance 1. Print the first few rows of X. (5 pts)"
   ]
  },
  {
   "cell_type": "markdown",
   "metadata": {},
   "source": [
    "Create a vector \"y\" of the response variable."
   ]
  },
  {
   "cell_type": "code",
   "execution_count": 761,
   "metadata": {},
   "outputs": [
    {
     "data": {
      "text/plain": [
       "array([[215000],\n",
       "       [105000],\n",
       "       [172000],\n",
       "       ...,\n",
       "       [132000],\n",
       "       [170000],\n",
       "       [188000]])"
      ]
     },
     "execution_count": 761,
     "metadata": {},
     "output_type": "execute_result"
    }
   ],
   "source": [
    "y=df.Sale_Price.values.reshape(-1, 1) #(build up np array, and a column vector for regression)\n",
    "y"
   ]
  },
  {
   "cell_type": "markdown",
   "metadata": {},
   "source": [
    "Creat a matrix \"X\" of predictors"
   ]
  },
  {
   "cell_type": "code",
   "execution_count": 762,
   "metadata": {},
   "outputs": [
    {
     "data": {
      "text/plain": [
       "array([[31770,  1960,  1656,  1080,     1],\n",
       "       [11622,  1961,   896,   882,     1],\n",
       "       [14267,  1958,  1329,  1329,     1],\n",
       "       ...,\n",
       "       [10441,  1992,   970,   912,     1],\n",
       "       [10010,  1974,  1389,  1389,     1],\n",
       "       [ 9627,  1993,  2000,   996,     2]])"
      ]
     },
     "execution_count": 762,
     "metadata": {},
     "output_type": "execute_result"
    }
   ],
   "source": [
    "X = df. drop('Sale_Price', axis=1).values\n",
    "X"
   ]
  },
  {
   "cell_type": "markdown",
   "metadata": {},
   "source": [
    "Standardize both X and y so that each column has mean 0 and variance 1. "
   ]
  },
  {
   "cell_type": "code",
   "execution_count": 763,
   "metadata": {},
   "outputs": [],
   "source": [
    "scaler=StandardScaler()\n",
    "X=scaler.fit_transform(X)"
   ]
  },
  {
   "cell_type": "code",
   "execution_count": 764,
   "metadata": {},
   "outputs": [],
   "source": [
    "scaler=StandardScaler()\n",
    "y=scaler.fit_transform(y)"
   ]
  },
  {
   "cell_type": "code",
   "execution_count": 765,
   "metadata": {},
   "outputs": [
    {
     "name": "stdout",
     "output_type": "stream",
     "text": [
      "[[ 2.74438073 -0.37553701  0.30926506  0.06519583 -1.02479289]\n",
      " [ 0.18709726 -0.34246845 -1.19442705 -0.38389297 -1.02479289]\n",
      " [ 0.5228137  -0.44167415 -0.33771825  0.62995901 -1.02479289]\n",
      " [ 0.12845795 -0.11098849  1.20752324  2.40136483  0.7840283 ]\n",
      " [ 0.46734751  0.84799991  0.25584442 -0.27955921  0.7840283 ]]\n"
     ]
    }
   ],
   "source": [
    "print(X[:5, ])"
   ]
  },
  {
   "cell_type": "markdown",
   "metadata": {},
   "source": [
    "### 3. Fit 3 linear regression models to predict y from X. For each model, print the RMSE using the entire dataset (i.e. you don't need to split into training and testing). (10 pts)\n",
    "\n",
    "### 3.1 Model 1: Use all of the variables as predictors"
   ]
  },
  {
   "cell_type": "code",
   "execution_count": 766,
   "metadata": {},
   "outputs": [
    {
     "data": {
      "text/plain": [
       "LinearRegression(copy_X=True, fit_intercept=True, n_jobs=None, normalize=False)"
      ]
     },
     "execution_count": 766,
     "metadata": {},
     "output_type": "execute_result"
    }
   ],
   "source": [
    "lm=LinearRegression()\n",
    "lm"
   ]
  },
  {
   "cell_type": "code",
   "execution_count": 767,
   "metadata": {},
   "outputs": [
    {
     "data": {
      "text/plain": [
       "LinearRegression(copy_X=True, fit_intercept=True, n_jobs=None, normalize=False)"
      ]
     },
     "execution_count": 767,
     "metadata": {},
     "output_type": "execute_result"
    }
   ],
   "source": [
    "lm.fit(X,y)"
   ]
  },
  {
   "cell_type": "code",
   "execution_count": 768,
   "metadata": {},
   "outputs": [
    {
     "name": "stdout",
     "output_type": "stream",
     "text": [
      "0.533662808021502\n"
     ]
    }
   ],
   "source": [
    "preds=lm.predict(X)\n",
    "RMSE=sqrt(mean_squared_error(y, preds))\n",
    "print(RMSE)"
   ]
  },
  {
   "cell_type": "markdown",
   "metadata": {},
   "source": [
    "### 3.2 Model 2: Use all of the variables, but also add interactions and quadratic terms."
   ]
  },
  {
   "cell_type": "code",
   "execution_count": 769,
   "metadata": {},
   "outputs": [],
   "source": [
    "poly=PolynomialFeatures(degree=2)\n",
    "Z=poly.fit_transform(X)"
   ]
  },
  {
   "cell_type": "code",
   "execution_count": 770,
   "metadata": {},
   "outputs": [
    {
     "data": {
      "text/plain": [
       "LinearRegression(copy_X=True, fit_intercept=True, n_jobs=None, normalize=False)"
      ]
     },
     "execution_count": 770,
     "metadata": {},
     "output_type": "execute_result"
    }
   ],
   "source": [
    "lm=LinearRegression()\n",
    "lm.fit(Z,y)"
   ]
  },
  {
   "cell_type": "code",
   "execution_count": 771,
   "metadata": {},
   "outputs": [
    {
     "name": "stdout",
     "output_type": "stream",
     "text": [
      "0.4483468819753568\n"
     ]
    }
   ],
   "source": [
    "preds=lm.predict(Z)\n",
    "RMSE=sqrt(mean_squared_error(y, preds))\n",
    "print(RMSE)"
   ]
  },
  {
   "cell_type": "markdown",
   "metadata": {},
   "source": [
    "### 3.3 Model 3: Use all of the variables, but also add interactions, quadratic and cubic terms."
   ]
  },
  {
   "cell_type": "code",
   "execution_count": 772,
   "metadata": {},
   "outputs": [],
   "source": [
    "poly=PolynomialFeatures(degree=3)\n",
    "V=poly.fit_transform(X)"
   ]
  },
  {
   "cell_type": "code",
   "execution_count": 773,
   "metadata": {},
   "outputs": [
    {
     "data": {
      "text/plain": [
       "LinearRegression(copy_X=True, fit_intercept=True, n_jobs=None, normalize=False)"
      ]
     },
     "execution_count": 773,
     "metadata": {},
     "output_type": "execute_result"
    }
   ],
   "source": [
    "lm=LinearRegression()\n",
    "lm.fit(V,y)"
   ]
  },
  {
   "cell_type": "code",
   "execution_count": 774,
   "metadata": {},
   "outputs": [
    {
     "name": "stdout",
     "output_type": "stream",
     "text": [
      "0.37941846256262046\n"
     ]
    }
   ],
   "source": [
    "preds=lm.predict(V)\n",
    "RMSE=sqrt(mean_squared_error(y, preds))\n",
    "print(RMSE)"
   ]
  },
  {
   "cell_type": "markdown",
   "metadata": {},
   "source": [
    "### 4. Fit each model again, but this time use 10-fold cross validation. For each model fit, calculate the error (RMSE) from the training set and test set. Create a chart that summarizes the training and test error distributions for each model. (20 pts)\n",
    "\n",
    "Hint: For each of the 3 models you should have 10 values of RMSE for the training sets and 10 values of RMSE for the test sets (folds). "
   ]
  },
  {
   "cell_type": "code",
   "execution_count": 775,
   "metadata": {},
   "outputs": [],
   "source": [
    "y=df.Sale_Price.values.reshape(-1, 1)\n",
    "X = df. drop('Sale_Price', axis=1).values"
   ]
  },
  {
   "cell_type": "code",
   "execution_count": 776,
   "metadata": {},
   "outputs": [],
   "source": [
    "X_train, X_test, y_train, y_test = train_test_split(X,y, test_size=.2)"
   ]
  },
  {
   "cell_type": "code",
   "execution_count": 777,
   "metadata": {},
   "outputs": [],
   "source": [
    "scaler=StandardScaler()\n",
    "X_train=scaler.fit_transform(X_train)\n",
    "X_test=scaler.fit_transform(X_test)\n",
    "y_train=scaler.fit_transform(y_train)\n",
    "y_test=scaler.fit_transform(y_test)"
   ]
  },
  {
   "cell_type": "code",
   "execution_count": 778,
   "metadata": {},
   "outputs": [
    {
     "data": {
      "text/plain": [
       "1.0"
      ]
     },
     "execution_count": 778,
     "metadata": {},
     "output_type": "execute_result"
    }
   ],
   "source": [
    "np.var(y_test)"
   ]
  },
  {
   "cell_type": "markdown",
   "metadata": {},
   "source": [
    "### Model 1: Use all of the variables as predictors"
   ]
  },
  {
   "cell_type": "markdown",
   "metadata": {},
   "source": [
    "Build up model"
   ]
  },
  {
   "cell_type": "code",
   "execution_count": 779,
   "metadata": {},
   "outputs": [
    {
     "data": {
      "text/plain": [
       "LinearRegression(copy_X=True, fit_intercept=True, n_jobs=None, normalize=False)"
      ]
     },
     "execution_count": 779,
     "metadata": {},
     "output_type": "execute_result"
    }
   ],
   "source": [
    "lm=LinearRegression()\n",
    "lm.fit(X_train, y_train)"
   ]
  },
  {
   "cell_type": "code",
   "execution_count": 780,
   "metadata": {},
   "outputs": [
    {
     "data": {
      "text/plain": [
       "0.683600175864542"
      ]
     },
     "execution_count": 780,
     "metadata": {},
     "output_type": "execute_result"
    }
   ],
   "source": [
    "lm.score(X_test,y_test)"
   ]
  },
  {
   "cell_type": "markdown",
   "metadata": {},
   "source": [
    "Create splits of the data for 10-fold cross validation"
   ]
  },
  {
   "cell_type": "code",
   "execution_count": 781,
   "metadata": {},
   "outputs": [
    {
     "data": {
      "text/plain": [
       "<generator object _BaseKFold.split at 0x1a25552a50>"
      ]
     },
     "execution_count": 781,
     "metadata": {},
     "output_type": "execute_result"
    }
   ],
   "source": [
    "cv=KFold(10, shuffle=True)\n",
    "cv.split(X_train)"
   ]
  },
  {
   "cell_type": "markdown",
   "metadata": {},
   "source": [
    "Iterate over the 10 folds of the training data, at each stage using 9 folds for training and 1 for validation.\n",
    "Try values of .01, .1, 1.0 and 10.0,100 for values of the regularization parameter C. Save the accuracy from each fit of the model."
   ]
  },
  {
   "cell_type": "code",
   "execution_count": 782,
   "metadata": {},
   "outputs": [
    {
     "name": "stdout",
     "output_type": "stream",
     "text": [
      "[   0    1    2 ... 2341 2342 2343]\n",
      "[   0    1    2 ... 2341 2342 2343]\n",
      "[   0    2    4 ... 2341 2342 2343]\n",
      "[   1    2    3 ... 2340 2342 2343]\n",
      "[   0    1    2 ... 2339 2341 2342]\n",
      "[   0    1    2 ... 2341 2342 2343]\n",
      "[   0    1    2 ... 2340 2341 2343]\n",
      "[   0    1    2 ... 2341 2342 2343]\n",
      "[   0    1    3 ... 2341 2342 2343]\n",
      "[   0    1    2 ... 2341 2342 2343]\n"
     ]
    }
   ],
   "source": [
    "for train_index, test_index in cv.split(X_train):\n",
    "    print(train_index)"
   ]
  },
  {
   "cell_type": "code",
   "execution_count": 783,
   "metadata": {},
   "outputs": [],
   "source": [
    "lm=LinearRegression()\n",
    "RMSE_train_1=np.empty((10,9))\n",
    "RMSE_test_1=np.empty((10,9))\n",
    "\n",
    "for k, (train_index,test_index) in enumerate(cv.split(X_train)):\n",
    "    lm.fit(X_train[train_index], y_train[train_index])\n",
    "    RMSE_train_1[k]=sqrt(mean_squared_error(y_train[train_index], lm.predict(X_train[train_index])))\n",
    "    RMSE_test_1[k]=sqrt(mean_squared_error(y_train[test_index], lm.predict(X_train[test_index])))"
   ]
  },
  {
   "cell_type": "code",
   "execution_count": 784,
   "metadata": {},
   "outputs": [
    {
     "name": "stdout",
     "output_type": "stream",
     "text": [
      "RMSE for the training sets: \n",
      " [0.53045027 0.53043131 0.53062898 0.52902077 0.52636184 0.53640955\n",
      " 0.52776571 0.4980635  0.5299909  0.52445199]\n",
      "RMSE for the test sets:: \n",
      " [0.49575569 0.49562424 0.49383995 0.51331815 0.53502171 0.43378078\n",
      " 0.52396032 0.75962782 0.50022738 0.55281333]\n"
     ]
    }
   ],
   "source": [
    "print('RMSE for the training sets: \\n', RMSE_train_1.mean(axis=1))\n",
    "print('RMSE for the test sets:: \\n', RMSE_test_1.mean(axis=1))"
   ]
  },
  {
   "cell_type": "markdown",
   "metadata": {},
   "source": [
    "### Model 2:  Use all of the variables, but also add interactions and quadratic terms."
   ]
  },
  {
   "cell_type": "code",
   "execution_count": 785,
   "metadata": {},
   "outputs": [],
   "source": [
    "poly=PolynomialFeatures(degree=2)\n",
    "Z=poly.fit_transform(X)"
   ]
  },
  {
   "cell_type": "code",
   "execution_count": 786,
   "metadata": {},
   "outputs": [],
   "source": [
    "Z_train, Z_test, y_train, y_test = train_test_split(Z,y, test_size=.2)\n",
    "scaler=StandardScaler()\n",
    "Z_train=scaler.fit_transform(Z_train)\n",
    "Z_test=scaler.fit_transform(Z_test)\n",
    "y_train=scaler.fit_transform(y_train)\n",
    "y_test=scaler.fit_transform(y_test)"
   ]
  },
  {
   "cell_type": "code",
   "execution_count": 787,
   "metadata": {},
   "outputs": [
    {
     "data": {
      "text/plain": [
       "LinearRegression(copy_X=True, fit_intercept=True, n_jobs=None, normalize=False)"
      ]
     },
     "execution_count": 787,
     "metadata": {},
     "output_type": "execute_result"
    }
   ],
   "source": [
    "lm=LinearRegression()\n",
    "lm.fit(Z_train, y_train)"
   ]
  },
  {
   "cell_type": "code",
   "execution_count": 788,
   "metadata": {},
   "outputs": [
    {
     "data": {
      "text/plain": [
       "<generator object _BaseKFold.split at 0x1a255520d0>"
      ]
     },
     "execution_count": 788,
     "metadata": {},
     "output_type": "execute_result"
    }
   ],
   "source": [
    "cv=KFold(10, shuffle=True)\n",
    "cv.split(Z_train)"
   ]
  },
  {
   "cell_type": "code",
   "execution_count": 789,
   "metadata": {},
   "outputs": [
    {
     "name": "stdout",
     "output_type": "stream",
     "text": [
      "[   0    1    2 ... 2341 2342 2343]\n",
      "[   0    1    2 ... 2340 2342 2343]\n",
      "[   0    1    2 ... 2340 2341 2342]\n",
      "[   0    1    2 ... 2341 2342 2343]\n",
      "[   0    1    2 ... 2341 2342 2343]\n",
      "[   0    1    2 ... 2341 2342 2343]\n",
      "[   0    1    2 ... 2340 2341 2343]\n",
      "[   3    4    5 ... 2341 2342 2343]\n",
      "[   0    1    2 ... 2341 2342 2343]\n",
      "[   0    1    2 ... 2341 2342 2343]\n"
     ]
    }
   ],
   "source": [
    "for train_index, test_index in cv.split(Z_train):\n",
    "    print(train_index)"
   ]
  },
  {
   "cell_type": "code",
   "execution_count": 790,
   "metadata": {},
   "outputs": [],
   "source": [
    "lm=LinearRegression()\n",
    "RMSE_train_2=np.empty((10,9))\n",
    "RMSE_test_2=np.empty((10,9))\n",
    "\n",
    "for k, (train_index,test_index) in enumerate(cv.split(Z_train)):\n",
    "    lm.fit(Z_train[train_index], y_train[train_index])\n",
    "    RMSE_train_2[k]=sqrt(mean_squared_error(y_train[train_index], lm.predict(Z_train[train_index])))\n",
    "    RMSE_test_2[k]=sqrt(mean_squared_error(y_train[test_index], lm.predict(Z_train[test_index])))"
   ]
  },
  {
   "cell_type": "code",
   "execution_count": 791,
   "metadata": {},
   "outputs": [
    {
     "name": "stdout",
     "output_type": "stream",
     "text": [
      "RMSE for the training sets: \n",
      " [0.3947764  0.45306612 0.4480648  0.44921509 0.45487973 0.45218289\n",
      " 0.44865588 0.45493298 0.45416665 0.44629826]\n",
      "RMSE for the test sets:: \n",
      " [1.39458609 0.42595827 0.47204976 0.46249904 0.41063091 0.43412531\n",
      " 0.46758779 0.4210248  0.4113387  0.4929958 ]\n"
     ]
    }
   ],
   "source": [
    "print('RMSE for the training sets: \\n', RMSE_train_2.mean(axis=1))\n",
    "print('RMSE for the test sets:: \\n', RMSE_test_2.mean(axis=1))"
   ]
  },
  {
   "cell_type": "markdown",
   "metadata": {},
   "source": [
    "### Model 3: Use all of the variables, but also add interactions, quadratic and cubic terms."
   ]
  },
  {
   "cell_type": "code",
   "execution_count": 792,
   "metadata": {},
   "outputs": [],
   "source": [
    "poly=PolynomialFeatures(degree=3)\n",
    "V=poly.fit_transform(X)"
   ]
  },
  {
   "cell_type": "code",
   "execution_count": 793,
   "metadata": {},
   "outputs": [],
   "source": [
    "V_train, V_test, y_train, y_test = train_test_split(V,y, test_size=.2)\n",
    "scaler=StandardScaler()\n",
    "V_train=scaler.fit_transform(V_train)\n",
    "V_test=scaler.fit_transform(V_test)\n",
    "y_train=scaler.fit_transform(y_train)\n",
    "y_test=scaler.fit_transform(y_test)"
   ]
  },
  {
   "cell_type": "code",
   "execution_count": 794,
   "metadata": {},
   "outputs": [
    {
     "data": {
      "text/plain": [
       "LinearRegression(copy_X=True, fit_intercept=True, n_jobs=None, normalize=False)"
      ]
     },
     "execution_count": 794,
     "metadata": {},
     "output_type": "execute_result"
    }
   ],
   "source": [
    "lm=LinearRegression()\n",
    "lm.fit(V_train, y_train)"
   ]
  },
  {
   "cell_type": "code",
   "execution_count": 795,
   "metadata": {},
   "outputs": [
    {
     "data": {
      "text/plain": [
       "<generator object _BaseKFold.split at 0x1a25552650>"
      ]
     },
     "execution_count": 795,
     "metadata": {},
     "output_type": "execute_result"
    }
   ],
   "source": [
    "cv=KFold(10, shuffle=True)\n",
    "cv.split(V_train)"
   ]
  },
  {
   "cell_type": "code",
   "execution_count": 796,
   "metadata": {},
   "outputs": [
    {
     "name": "stdout",
     "output_type": "stream",
     "text": [
      "[   0    1    3 ... 2341 2342 2343]\n",
      "[   1    2    3 ... 2341 2342 2343]\n",
      "[   0    1    2 ... 2341 2342 2343]\n",
      "[   0    1    2 ... 2340 2341 2343]\n",
      "[   0    1    2 ... 2341 2342 2343]\n",
      "[   0    1    2 ... 2341 2342 2343]\n",
      "[   0    1    2 ... 2340 2341 2342]\n",
      "[   0    1    2 ... 2341 2342 2343]\n",
      "[   0    1    2 ... 2340 2342 2343]\n",
      "[   0    2    3 ... 2341 2342 2343]\n"
     ]
    }
   ],
   "source": [
    "for train_index, test_index in cv.split(V_train):\n",
    "    print(train_index)"
   ]
  },
  {
   "cell_type": "code",
   "execution_count": 797,
   "metadata": {},
   "outputs": [],
   "source": [
    "lm=LinearRegression()\n",
    "RMSE_train_3=np.empty((10,9))\n",
    "RMSE_test_3=np.empty((10,9))\n",
    "\n",
    "for k, (train_index,test_index) in enumerate(cv.split(V_train)):\n",
    "    lm.fit(V_train[train_index], y_train[train_index])\n",
    "    RMSE_train_3[k]=sqrt(mean_squared_error(y_train[train_index], lm.predict(V_train[train_index])))\n",
    "    RMSE_test_3[k]=sqrt(mean_squared_error(y_train[test_index], lm.predict(V_train[test_index])))"
   ]
  },
  {
   "cell_type": "code",
   "execution_count": 798,
   "metadata": {},
   "outputs": [
    {
     "name": "stdout",
     "output_type": "stream",
     "text": [
      "RMSE for the training sets: \n",
      " [0.37894283 0.37734878 0.37175351 0.36956985 0.37192529 0.37418666\n",
      " 0.38113593 0.37500845 0.37477503 0.35368207]\n",
      "RMSE for the test sets:: \n",
      " [0.58688979 0.37796636 0.43806426 1.68453666 0.45426082 0.41084452\n",
      " 0.37073611 0.41099339 0.42330148 0.97755318]\n"
     ]
    }
   ],
   "source": [
    "print('RMSE for the training sets: \\n', RMSE_train_3.mean(axis=1))\n",
    "print('RMSE for the test sets:: \\n', RMSE_test_3.mean(axis=1))"
   ]
  },
  {
   "cell_type": "markdown",
   "metadata": {},
   "source": [
    "### Create a chart that summarizes the training and test error distributions for each model."
   ]
  },
  {
   "cell_type": "code",
   "execution_count": 799,
   "metadata": {},
   "outputs": [
    {
     "data": {
      "text/plain": [
       "array(['train', 'train', 'train', 'train', 'train', 'train', 'train',\n",
       "       'train', 'train', 'train', 'test', 'test', 'test', 'test', 'test',\n",
       "       'test', 'test', 'test', 'test', 'test'], dtype='<U5')"
      ]
     },
     "execution_count": 799,
     "metadata": {},
     "output_type": "execute_result"
    }
   ],
   "source": [
    "name = np.array(['train', 'train', 'train', 'train', 'train','train', 'train', 'train', 'train', 'train', 'test', 'test','test','test','test', 'test', 'test','test','test','test'])\n",
    "name"
   ]
  },
  {
   "cell_type": "code",
   "execution_count": 800,
   "metadata": {},
   "outputs": [
    {
     "data": {
      "text/html": [
       "<div>\n",
       "<style scoped>\n",
       "    .dataframe tbody tr th:only-of-type {\n",
       "        vertical-align: middle;\n",
       "    }\n",
       "\n",
       "    .dataframe tbody tr th {\n",
       "        vertical-align: top;\n",
       "    }\n",
       "\n",
       "    .dataframe thead th {\n",
       "        text-align: right;\n",
       "    }\n",
       "</style>\n",
       "<table border=\"1\" class=\"dataframe\">\n",
       "  <thead>\n",
       "    <tr style=\"text-align: right;\">\n",
       "      <th></th>\n",
       "      <th>Value</th>\n",
       "      <th>Model</th>\n",
       "      <th>RMSE</th>\n",
       "    </tr>\n",
       "  </thead>\n",
       "  <tbody>\n",
       "    <tr>\n",
       "      <th>0</th>\n",
       "      <td>0.530450</td>\n",
       "      <td>Linear</td>\n",
       "      <td>train</td>\n",
       "    </tr>\n",
       "    <tr>\n",
       "      <th>1</th>\n",
       "      <td>0.530431</td>\n",
       "      <td>Linear</td>\n",
       "      <td>train</td>\n",
       "    </tr>\n",
       "    <tr>\n",
       "      <th>2</th>\n",
       "      <td>0.530629</td>\n",
       "      <td>Linear</td>\n",
       "      <td>train</td>\n",
       "    </tr>\n",
       "    <tr>\n",
       "      <th>3</th>\n",
       "      <td>0.529021</td>\n",
       "      <td>Linear</td>\n",
       "      <td>train</td>\n",
       "    </tr>\n",
       "    <tr>\n",
       "      <th>4</th>\n",
       "      <td>0.526362</td>\n",
       "      <td>Linear</td>\n",
       "      <td>train</td>\n",
       "    </tr>\n",
       "  </tbody>\n",
       "</table>\n",
       "</div>"
      ],
      "text/plain": [
       "      Value   Model   RMSE\n",
       "0  0.530450  Linear  train\n",
       "1  0.530431  Linear  train\n",
       "2  0.530629  Linear  train\n",
       "3  0.529021  Linear  train\n",
       "4  0.526362  Linear  train"
      ]
     },
     "execution_count": 800,
     "metadata": {},
     "output_type": "execute_result"
    }
   ],
   "source": [
    "df1=pd.DataFrame()\n",
    "\n",
    "df1['Value']=np.concatenate((RMSE_train_1.mean(axis=1),RMSE_test_1.mean(axis=1)), axis=0)\n",
    "df1['Model']='Linear'\n",
    "df1['RMSE']=np.array(name)\n",
    "df1\n",
    "\n",
    "df2=pd.DataFrame()\n",
    "\n",
    "df2['Value']=np.concatenate((RMSE_train_2.mean(axis=1),RMSE_test_2.mean(axis=1)), axis=0)\n",
    "df2['Model']='quadratic'\n",
    "df2['RMSE']=np.array(name)\n",
    "df2\n",
    "\n",
    "df3=pd.DataFrame()\n",
    "\n",
    "df3['Value']=np.concatenate((RMSE_train_3.mean(axis=1),RMSE_test_3.mean(axis=1)), axis=0)\n",
    "df3['Model']='cubic'\n",
    "df3['RMSE']=np.array(name)\n",
    "df3\n",
    "\n",
    "rmse=df1.append(df2).append(df3)\n",
    "rmse.head()"
   ]
  },
  {
   "cell_type": "code",
   "execution_count": 801,
   "metadata": {},
   "outputs": [
    {
     "data": {
      "text/plain": [
       "(0.3, 0.85)"
      ]
     },
     "execution_count": 801,
     "metadata": {},
     "output_type": "execute_result"
    },
    {
     "data": {
      "image/png": "[encoded data removed]",
      "text/plain": [
       "<Figure size 1080x1080 with 1 Axes>"
      ]
     },
     "metadata": {},
     "output_type": "display_data"
    }
   ],
   "source": [
    "import seaborn as sns\n",
    "sns.set(rc={'figure.figsize':(15,15)})\n",
    "ax = sns.boxplot(x=\"Model\", y=\"Value\", hue=\"RMSE\", data=rmse, palette=\"hls\")\n",
    "ax.set_ylim(0.3, 0.85)"
   ]
  },
  {
   "cell_type": "markdown",
   "metadata": {},
   "source": [
    "### 5. We want to predict the sale price of a home not included in this dataset. Write a short paragraph explaining which model you would recommend for this problem and why. (10 pts)"
   ]
  },
  {
   "cell_type": "markdown",
   "metadata": {},
   "source": [
    "Answer: The quadratic regression model could be recommended to predict a new sale price of a home. Compare to simple linear and cubic regression models, the quadratic regression model provide relatively low bias, low variance and importantly, low RMSE. The variance of the simple linear model is low, however it trends to over estimate some area leading to higher RMSE and bias. On the other hand, the median RMSE of cubic model is lower than the simple linear model and close to the quadratic one, but the high variance due to the over fitting. The quadratic regression model could be able to predict responses very close to the true responses, and fit the data better."
   ]
  },
  {
   "cell_type": "markdown",
   "metadata": {},
   "source": [
    "# Part Two: Classification with the Heart Disease Data Set"
   ]
  },
  {
   "cell_type": "markdown",
   "metadata": {},
   "source": [
    "### 1. Load the heart disease data. The response variable, \"hd\", has been encoded as a binary variable (1 for heart disease, 0 without heart disease). Extract this as a vector and call this \"y\". Print the proportion of individuals in this data that have heart disease. (2 pts)"
   ]
  },
  {
   "cell_type": "code",
   "execution_count": 918,
   "metadata": {},
   "outputs": [
    {
     "data": {
      "text/html": [
       "<div>\n",
       "<style scoped>\n",
       "    .dataframe tbody tr th:only-of-type {\n",
       "        vertical-align: middle;\n",
       "    }\n",
       "\n",
       "    .dataframe tbody tr th {\n",
       "        vertical-align: top;\n",
       "    }\n",
       "\n",
       "    .dataframe thead th {\n",
       "        text-align: right;\n",
       "    }\n",
       "</style>\n",
       "<table border=\"1\" class=\"dataframe\">\n",
       "  <thead>\n",
       "    <tr style=\"text-align: right;\">\n",
       "      <th></th>\n",
       "      <th>age</th>\n",
       "      <th>sex</th>\n",
       "      <th>cp</th>\n",
       "      <th>trestbps</th>\n",
       "      <th>chol</th>\n",
       "      <th>fbs</th>\n",
       "      <th>restecg</th>\n",
       "      <th>thalach</th>\n",
       "      <th>exang</th>\n",
       "      <th>oldpeak</th>\n",
       "      <th>slope</th>\n",
       "      <th>ca</th>\n",
       "      <th>thal</th>\n",
       "      <th>hd</th>\n",
       "    </tr>\n",
       "  </thead>\n",
       "  <tbody>\n",
       "    <tr>\n",
       "      <th>0</th>\n",
       "      <td>63</td>\n",
       "      <td>male</td>\n",
       "      <td>typical_angina</td>\n",
       "      <td>145</td>\n",
       "      <td>233</td>\n",
       "      <td>higher_than_120</td>\n",
       "      <td>left_vent_hypertrophy</td>\n",
       "      <td>150</td>\n",
       "      <td>no</td>\n",
       "      <td>2.3</td>\n",
       "      <td>downsloping</td>\n",
       "      <td>0.0</td>\n",
       "      <td>fixed_defect</td>\n",
       "      <td>0</td>\n",
       "    </tr>\n",
       "    <tr>\n",
       "      <th>1</th>\n",
       "      <td>67</td>\n",
       "      <td>male</td>\n",
       "      <td>asymptomatic</td>\n",
       "      <td>160</td>\n",
       "      <td>286</td>\n",
       "      <td>lower_than_120</td>\n",
       "      <td>left_vent_hypertrophy</td>\n",
       "      <td>108</td>\n",
       "      <td>yes</td>\n",
       "      <td>1.5</td>\n",
       "      <td>flat</td>\n",
       "      <td>3.0</td>\n",
       "      <td>normal</td>\n",
       "      <td>1</td>\n",
       "    </tr>\n",
       "    <tr>\n",
       "      <th>2</th>\n",
       "      <td>67</td>\n",
       "      <td>male</td>\n",
       "      <td>asymptomatic</td>\n",
       "      <td>120</td>\n",
       "      <td>229</td>\n",
       "      <td>lower_than_120</td>\n",
       "      <td>left_vent_hypertrophy</td>\n",
       "      <td>129</td>\n",
       "      <td>yes</td>\n",
       "      <td>2.6</td>\n",
       "      <td>flat</td>\n",
       "      <td>2.0</td>\n",
       "      <td>reversable_defect</td>\n",
       "      <td>1</td>\n",
       "    </tr>\n",
       "    <tr>\n",
       "      <th>3</th>\n",
       "      <td>37</td>\n",
       "      <td>male</td>\n",
       "      <td>non_anginal_pain</td>\n",
       "      <td>130</td>\n",
       "      <td>250</td>\n",
       "      <td>lower_than_120</td>\n",
       "      <td>normal</td>\n",
       "      <td>187</td>\n",
       "      <td>no</td>\n",
       "      <td>3.5</td>\n",
       "      <td>downsloping</td>\n",
       "      <td>0.0</td>\n",
       "      <td>normal</td>\n",
       "      <td>0</td>\n",
       "    </tr>\n",
       "    <tr>\n",
       "      <th>4</th>\n",
       "      <td>41</td>\n",
       "      <td>female</td>\n",
       "      <td>atypical_angina</td>\n",
       "      <td>130</td>\n",
       "      <td>204</td>\n",
       "      <td>lower_than_120</td>\n",
       "      <td>left_vent_hypertrophy</td>\n",
       "      <td>172</td>\n",
       "      <td>no</td>\n",
       "      <td>1.4</td>\n",
       "      <td>upsloping</td>\n",
       "      <td>0.0</td>\n",
       "      <td>normal</td>\n",
       "      <td>0</td>\n",
       "    </tr>\n",
       "  </tbody>\n",
       "</table>\n",
       "</div>"
      ],
      "text/plain": [
       "   age     sex                cp  trestbps  chol              fbs  \\\n",
       "0   63    male    typical_angina       145   233  higher_than_120   \n",
       "1   67    male      asymptomatic       160   286   lower_than_120   \n",
       "2   67    male      asymptomatic       120   229   lower_than_120   \n",
       "3   37    male  non_anginal_pain       130   250   lower_than_120   \n",
       "4   41  female   atypical_angina       130   204   lower_than_120   \n",
       "\n",
       "                 restecg  thalach exang  oldpeak        slope   ca  \\\n",
       "0  left_vent_hypertrophy      150    no      2.3  downsloping  0.0   \n",
       "1  left_vent_hypertrophy      108   yes      1.5         flat  3.0   \n",
       "2  left_vent_hypertrophy      129   yes      2.6         flat  2.0   \n",
       "3                 normal      187    no      3.5  downsloping  0.0   \n",
       "4  left_vent_hypertrophy      172    no      1.4    upsloping  0.0   \n",
       "\n",
       "                thal  hd  \n",
       "0       fixed_defect   0  \n",
       "1             normal   1  \n",
       "2  reversable_defect   1  \n",
       "3             normal   0  \n",
       "4             normal   0  "
      ]
     },
     "execution_count": 918,
     "metadata": {},
     "output_type": "execute_result"
    }
   ],
   "source": [
    "heart = pd.read_csv('heart.csv')\n",
    "heart.head()"
   ]
  },
  {
   "cell_type": "code",
   "execution_count": 919,
   "metadata": {},
   "outputs": [],
   "source": [
    "y = heart.hd.values.reshape(-1, 1)"
   ]
  },
  {
   "cell_type": "code",
   "execution_count": 920,
   "metadata": {},
   "outputs": [
    {
     "name": "stdout",
     "output_type": "stream",
     "text": [
      "proportion of individuals with heart disease: 0.459\n"
     ]
    }
   ],
   "source": [
    "print('proportion of individuals with heart disease:', np.mean(y).round(3))"
   ]
  },
  {
   "cell_type": "markdown",
   "metadata": {},
   "source": [
    "### 2. We are going to fit a logistic regression model using the variables, age, trestbps, chol, thalach, sex, restecg, slope, and cp as predictors. Create a data matrix, X, of these predictors, and convert the categorical predictors to dummy variables (dropping the redundant column). Print the first few rows of X. (3 pts)"
   ]
  },
  {
   "cell_type": "code",
   "execution_count": 921,
   "metadata": {},
   "outputs": [
    {
     "data": {
      "text/html": [
       "<div>\n",
       "<style scoped>\n",
       "    .dataframe tbody tr th:only-of-type {\n",
       "        vertical-align: middle;\n",
       "    }\n",
       "\n",
       "    .dataframe tbody tr th {\n",
       "        vertical-align: top;\n",
       "    }\n",
       "\n",
       "    .dataframe thead th {\n",
       "        text-align: right;\n",
       "    }\n",
       "</style>\n",
       "<table border=\"1\" class=\"dataframe\">\n",
       "  <thead>\n",
       "    <tr style=\"text-align: right;\">\n",
       "      <th></th>\n",
       "      <th>age</th>\n",
       "      <th>trestbps</th>\n",
       "      <th>chol</th>\n",
       "      <th>thalach</th>\n",
       "      <th>sex</th>\n",
       "      <th>restecg</th>\n",
       "      <th>slope</th>\n",
       "      <th>cp</th>\n",
       "    </tr>\n",
       "  </thead>\n",
       "  <tbody>\n",
       "    <tr>\n",
       "      <th>0</th>\n",
       "      <td>63</td>\n",
       "      <td>145</td>\n",
       "      <td>233</td>\n",
       "      <td>150</td>\n",
       "      <td>male</td>\n",
       "      <td>left_vent_hypertrophy</td>\n",
       "      <td>downsloping</td>\n",
       "      <td>typical_angina</td>\n",
       "    </tr>\n",
       "    <tr>\n",
       "      <th>1</th>\n",
       "      <td>67</td>\n",
       "      <td>160</td>\n",
       "      <td>286</td>\n",
       "      <td>108</td>\n",
       "      <td>male</td>\n",
       "      <td>left_vent_hypertrophy</td>\n",
       "      <td>flat</td>\n",
       "      <td>asymptomatic</td>\n",
       "    </tr>\n",
       "    <tr>\n",
       "      <th>2</th>\n",
       "      <td>67</td>\n",
       "      <td>120</td>\n",
       "      <td>229</td>\n",
       "      <td>129</td>\n",
       "      <td>male</td>\n",
       "      <td>left_vent_hypertrophy</td>\n",
       "      <td>flat</td>\n",
       "      <td>asymptomatic</td>\n",
       "    </tr>\n",
       "    <tr>\n",
       "      <th>3</th>\n",
       "      <td>37</td>\n",
       "      <td>130</td>\n",
       "      <td>250</td>\n",
       "      <td>187</td>\n",
       "      <td>male</td>\n",
       "      <td>normal</td>\n",
       "      <td>downsloping</td>\n",
       "      <td>non_anginal_pain</td>\n",
       "    </tr>\n",
       "    <tr>\n",
       "      <th>4</th>\n",
       "      <td>41</td>\n",
       "      <td>130</td>\n",
       "      <td>204</td>\n",
       "      <td>172</td>\n",
       "      <td>female</td>\n",
       "      <td>left_vent_hypertrophy</td>\n",
       "      <td>upsloping</td>\n",
       "      <td>atypical_angina</td>\n",
       "    </tr>\n",
       "  </tbody>\n",
       "</table>\n",
       "</div>"
      ],
      "text/plain": [
       "   age  trestbps  chol  thalach     sex                restecg        slope  \\\n",
       "0   63       145   233      150    male  left_vent_hypertrophy  downsloping   \n",
       "1   67       160   286      108    male  left_vent_hypertrophy         flat   \n",
       "2   67       120   229      129    male  left_vent_hypertrophy         flat   \n",
       "3   37       130   250      187    male                 normal  downsloping   \n",
       "4   41       130   204      172  female  left_vent_hypertrophy    upsloping   \n",
       "\n",
       "                 cp  \n",
       "0    typical_angina  \n",
       "1      asymptomatic  \n",
       "2      asymptomatic  \n",
       "3  non_anginal_pain  \n",
       "4   atypical_angina  "
      ]
     },
     "execution_count": 921,
     "metadata": {},
     "output_type": "execute_result"
    }
   ],
   "source": [
    "cols = ['age', 'trestbps', 'chol', 'thalach', 'sex', 'restecg', 'slope', 'cp']\n",
    "X = heart[cols].copy()\n",
    "X.head()"
   ]
  },
  {
   "cell_type": "code",
   "execution_count": 922,
   "metadata": {},
   "outputs": [],
   "source": [
    "X=pd.get_dummies(X, drop_first=True)"
   ]
  },
  {
   "cell_type": "code",
   "execution_count": 923,
   "metadata": {},
   "outputs": [
    {
     "data": {
      "text/html": [
       "<div>\n",
       "<style scoped>\n",
       "    .dataframe tbody tr th:only-of-type {\n",
       "        vertical-align: middle;\n",
       "    }\n",
       "\n",
       "    .dataframe tbody tr th {\n",
       "        vertical-align: top;\n",
       "    }\n",
       "\n",
       "    .dataframe thead th {\n",
       "        text-align: right;\n",
       "    }\n",
       "</style>\n",
       "<table border=\"1\" class=\"dataframe\">\n",
       "  <thead>\n",
       "    <tr style=\"text-align: right;\">\n",
       "      <th></th>\n",
       "      <th>age</th>\n",
       "      <th>trestbps</th>\n",
       "      <th>chol</th>\n",
       "      <th>thalach</th>\n",
       "      <th>sex_male</th>\n",
       "      <th>restecg_normal</th>\n",
       "      <th>restecg_stt_wave_abnormality</th>\n",
       "      <th>slope_flat</th>\n",
       "      <th>slope_upsloping</th>\n",
       "      <th>cp_atypical_angina</th>\n",
       "      <th>cp_non_anginal_pain</th>\n",
       "      <th>cp_typical_angina</th>\n",
       "    </tr>\n",
       "  </thead>\n",
       "  <tbody>\n",
       "    <tr>\n",
       "      <th>0</th>\n",
       "      <td>63</td>\n",
       "      <td>145</td>\n",
       "      <td>233</td>\n",
       "      <td>150</td>\n",
       "      <td>1</td>\n",
       "      <td>0</td>\n",
       "      <td>0</td>\n",
       "      <td>0</td>\n",
       "      <td>0</td>\n",
       "      <td>0</td>\n",
       "      <td>0</td>\n",
       "      <td>1</td>\n",
       "    </tr>\n",
       "    <tr>\n",
       "      <th>1</th>\n",
       "      <td>67</td>\n",
       "      <td>160</td>\n",
       "      <td>286</td>\n",
       "      <td>108</td>\n",
       "      <td>1</td>\n",
       "      <td>0</td>\n",
       "      <td>0</td>\n",
       "      <td>1</td>\n",
       "      <td>0</td>\n",
       "      <td>0</td>\n",
       "      <td>0</td>\n",
       "      <td>0</td>\n",
       "    </tr>\n",
       "    <tr>\n",
       "      <th>2</th>\n",
       "      <td>67</td>\n",
       "      <td>120</td>\n",
       "      <td>229</td>\n",
       "      <td>129</td>\n",
       "      <td>1</td>\n",
       "      <td>0</td>\n",
       "      <td>0</td>\n",
       "      <td>1</td>\n",
       "      <td>0</td>\n",
       "      <td>0</td>\n",
       "      <td>0</td>\n",
       "      <td>0</td>\n",
       "    </tr>\n",
       "    <tr>\n",
       "      <th>3</th>\n",
       "      <td>37</td>\n",
       "      <td>130</td>\n",
       "      <td>250</td>\n",
       "      <td>187</td>\n",
       "      <td>1</td>\n",
       "      <td>1</td>\n",
       "      <td>0</td>\n",
       "      <td>0</td>\n",
       "      <td>0</td>\n",
       "      <td>0</td>\n",
       "      <td>1</td>\n",
       "      <td>0</td>\n",
       "    </tr>\n",
       "    <tr>\n",
       "      <th>4</th>\n",
       "      <td>41</td>\n",
       "      <td>130</td>\n",
       "      <td>204</td>\n",
       "      <td>172</td>\n",
       "      <td>0</td>\n",
       "      <td>0</td>\n",
       "      <td>0</td>\n",
       "      <td>0</td>\n",
       "      <td>1</td>\n",
       "      <td>1</td>\n",
       "      <td>0</td>\n",
       "      <td>0</td>\n",
       "    </tr>\n",
       "  </tbody>\n",
       "</table>\n",
       "</div>"
      ],
      "text/plain": [
       "   age  trestbps  chol  thalach  sex_male  restecg_normal  \\\n",
       "0   63       145   233      150         1               0   \n",
       "1   67       160   286      108         1               0   \n",
       "2   67       120   229      129         1               0   \n",
       "3   37       130   250      187         1               1   \n",
       "4   41       130   204      172         0               0   \n",
       "\n",
       "   restecg_stt_wave_abnormality  slope_flat  slope_upsloping  \\\n",
       "0                             0           0                0   \n",
       "1                             0           1                0   \n",
       "2                             0           1                0   \n",
       "3                             0           0                0   \n",
       "4                             0           0                1   \n",
       "\n",
       "   cp_atypical_angina  cp_non_anginal_pain  cp_typical_angina  \n",
       "0                   0                    0                  1  \n",
       "1                   0                    0                  0  \n",
       "2                   0                    0                  0  \n",
       "3                   0                    1                  0  \n",
       "4                   1                    0                  0  "
      ]
     },
     "execution_count": 923,
     "metadata": {},
     "output_type": "execute_result"
    }
   ],
   "source": [
    "X.head()"
   ]
  },
  {
   "cell_type": "markdown",
   "metadata": {},
   "source": [
    "### 3. Split the data (X and y) into training and testing datasets using a 60%/40% split, stratifying on the response variable. Standardize the training data (features) so that each column has mean 0 and variance 1. Apply this transformation to the test data set. Print the first few rows of each matrix. (10 pts)\n",
    "Note: For this question, it is optional to standardize (or not standardize) the dummy variables. "
   ]
  },
  {
   "cell_type": "code",
   "execution_count": 924,
   "metadata": {},
   "outputs": [],
   "source": [
    "X_train, X_test, y_train, y_test = train_test_split(X,y, test_size=.4,stratify=y)"
   ]
  },
  {
   "cell_type": "code",
   "execution_count": 925,
   "metadata": {},
   "outputs": [
    {
     "name": "stdout",
     "output_type": "stream",
     "text": [
      "X training dataset top 5 rows:\n",
      " [ 1.12710048  0.79045692 -0.67253634 -0.74519606  0.63490218 -0.96204569\n",
      " -0.1298227   1.08661074 -0.96204569 -0.49827288 -0.67799515 -0.24182542]\n",
      "X test dataset top 5 rows:\n",
      " [-0.83481981 -0.17692173 -0.01796066  1.35212374  0.76447079 -1.05045146\n",
      " -0.09090909  1.06787213 -0.90603285  2.7774603  -0.55841558 -0.34534918]\n"
     ]
    }
   ],
   "source": [
    "scaler=StandardScaler()\n",
    "X_train=scaler.fit_transform(X_train)\n",
    "X_test=scaler.fit_transform(X_test)\n",
    "print('X training dataset top 5 rows:\\n', X_train[5,:])\n",
    "print('X test dataset top 5 rows:\\n',X_test[5,:])"
   ]
  },
  {
   "cell_type": "markdown",
   "metadata": {},
   "source": [
    "### 4. Fit two models to the training data. Print the fitted coefficients from each model. (10 pts)\n",
    "### Model 1: a logistic regression model (with no regularization)"
   ]
  },
  {
   "cell_type": "code",
   "execution_count": 927,
   "metadata": {},
   "outputs": [
    {
     "name": "stdout",
     "output_type": "stream",
     "text": [
      "Coefficients of model with no regularization: \n",
      " [[ 0.29797482  0.36352051  0.44703834 -0.40293578  1.33466814 -0.11876284\n",
      "   0.00986561  0.2283318  -0.53746701 -0.78128333 -1.25860792 -0.53447136]]\n"
     ]
    },
    {
     "name": "stderr",
     "output_type": "stream",
     "text": [
      "/opt/anaconda3/lib/python3.7/site-packages/sklearn/utils/validation.py:744: DataConversionWarning: A column-vector y was passed when a 1d array was expected. Please change the shape of y to (n_samples, ), for example using ravel().\n",
      "  y = column_or_1d(y, warn=True)\n"
     ]
    }
   ],
   "source": [
    "lr1 = LogisticRegression(C=1000)\n",
    "lr1.fit(X_train, y_train)\n",
    "print('Coefficients of model with no regularization: \\n', lr1.coef_)"
   ]
  },
  {
   "cell_type": "markdown",
   "metadata": {},
   "source": [
    "### Model 2: an L1 regularized logistic regression model (choose the tuning parameter by using 10-fold cross validation on the training dataset).  (Hint: You might find the LogisticRegressionCV function useful for this part.)"
   ]
  },
  {
   "cell_type": "markdown",
   "metadata": {},
   "source": [
    "Use LogisticRegressionCV function to determine C value"
   ]
  },
  {
   "cell_type": "code",
   "execution_count": 928,
   "metadata": {},
   "outputs": [],
   "source": [
    "lr=LogisticRegressionCV(Cs=Cs, cv=10, penalty='l1', solver='liblinear')"
   ]
  },
  {
   "cell_type": "code",
   "execution_count": 929,
   "metadata": {},
   "outputs": [
    {
     "name": "stderr",
     "output_type": "stream",
     "text": [
      "/opt/anaconda3/lib/python3.7/site-packages/sklearn/utils/validation.py:744: DataConversionWarning: A column-vector y was passed when a 1d array was expected. Please change the shape of y to (n_samples, ), for example using ravel().\n",
      "  y = column_or_1d(y, warn=True)\n"
     ]
    },
    {
     "data": {
      "text/plain": [
       "LogisticRegressionCV(Cs=[0.001, 0.01, 0.1, 1, 10, 100, 1000], class_weight=None,\n",
       "                     cv=10, dual=False, fit_intercept=True,\n",
       "                     intercept_scaling=1.0, l1_ratios=None, max_iter=100,\n",
       "                     multi_class='auto', n_jobs=None, penalty='l1',\n",
       "                     random_state=None, refit=True, scoring=None,\n",
       "                     solver='liblinear', tol=0.0001, verbose=0)"
      ]
     },
     "execution_count": 929,
     "metadata": {},
     "output_type": "execute_result"
    }
   ],
   "source": [
    "lr.fit(X_train, y_train)"
   ]
  },
  {
   "cell_type": "code",
   "execution_count": 930,
   "metadata": {},
   "outputs": [
    {
     "data": {
      "text/plain": [
       "array([1.])"
      ]
     },
     "execution_count": 930,
     "metadata": {},
     "output_type": "execute_result"
    }
   ],
   "source": [
    "lr.C_"
   ]
  },
  {
   "cell_type": "markdown",
   "metadata": {},
   "source": [
    "Build up the model"
   ]
  },
  {
   "cell_type": "code",
   "execution_count": 931,
   "metadata": {},
   "outputs": [
    {
     "name": "stdout",
     "output_type": "stream",
     "text": [
      "Coefficients of an L1 regularized model: \n",
      " [[ 0.27180861  0.33548259  0.39505964 -0.4223912   1.18007687 -0.10527962\n",
      "   0.00141235  0.24168152 -0.46575134 -0.69733527 -1.12474623 -0.46284358]]\n"
     ]
    },
    {
     "name": "stderr",
     "output_type": "stream",
     "text": [
      "/opt/anaconda3/lib/python3.7/site-packages/sklearn/utils/validation.py:744: DataConversionWarning: A column-vector y was passed when a 1d array was expected. Please change the shape of y to (n_samples, ), for example using ravel().\n",
      "  y = column_or_1d(y, warn=True)\n"
     ]
    }
   ],
   "source": [
    "lr2 = LogisticRegression(C=1)\n",
    "lr2.fit(X_train, y_train)\n",
    "print('Coefficients of an L1 regularized model: \\n', lr2.coef_)"
   ]
  },
  {
   "cell_type": "markdown",
   "metadata": {},
   "source": [
    "### 5. For both models, make predictions on the test set, and compute the following metrics: (10 pts)\n",
    "Accuracy,\n",
    "FPR,\n",
    "Recall,\n",
    "Precision,\n",
    "False-discovery rate"
   ]
  },
  {
   "cell_type": "markdown",
   "metadata": {},
   "source": [
    "Predictions of unregularized model"
   ]
  },
  {
   "cell_type": "code",
   "execution_count": 932,
   "metadata": {},
   "outputs": [],
   "source": [
    "preds1 = lr1.predict(X_test)"
   ]
  },
  {
   "cell_type": "code",
   "execution_count": 933,
   "metadata": {},
   "outputs": [],
   "source": [
    "conf_mat = confusion_matrix(y_test, preds1)\n",
    "tn1, fp1, fn1, tp1 = conf_mat.ravel()"
   ]
  },
  {
   "cell_type": "code",
   "execution_count": 934,
   "metadata": {},
   "outputs": [
    {
     "name": "stdout",
     "output_type": "stream",
     "text": [
      "For Unregulzrized model:\n",
      "\n",
      "Accuracy: 0.7540983606557377\n",
      "Recall: 0.7678571428571429\n",
      "Precision: 0.7166666666666667\n",
      "False-discovery rate: 0.2833333333333333\n"
     ]
    }
   ],
   "source": [
    "print('For Unregulzrized model:\\n')\n",
    "print('Accuracy:', accuracy_score(y_test, preds1))\n",
    "print('Recall:', recall_score(y_test, preds1))\n",
    "print('Precision:', precision_score(y_test, preds1))\n",
    "print('False-discovery rate:', fp1 / (fp1 + tp1))"
   ]
  },
  {
   "cell_type": "markdown",
   "metadata": {},
   "source": [
    "Predictions of regularized model"
   ]
  },
  {
   "cell_type": "code",
   "execution_count": 935,
   "metadata": {},
   "outputs": [],
   "source": [
    "preds2 = lr2.predict(X_test)"
   ]
  },
  {
   "cell_type": "code",
   "execution_count": 936,
   "metadata": {},
   "outputs": [],
   "source": [
    "conf_mat = confusion_matrix(y_test, preds2)\n",
    "tn2, fp2, fn2, tp2 = conf_mat.ravel()"
   ]
  },
  {
   "cell_type": "code",
   "execution_count": 937,
   "metadata": {},
   "outputs": [
    {
     "name": "stdout",
     "output_type": "stream",
     "text": [
      "For Regulzrized model:\n",
      "\n",
      "Accuracy: 0.7377049180327869\n",
      "Recall: 0.7321428571428571\n",
      "Precision: 0.7068965517241379\n",
      "False-discovery rate: 0.29310344827586204\n"
     ]
    }
   ],
   "source": [
    "print('For Regulzrized model:\\n')\n",
    "print('Accuracy:', accuracy_score(y_test, preds2))\n",
    "print('Recall:', recall_score(y_test, preds2))\n",
    "print('Precision:', precision_score(y_test, preds2))\n",
    "print('False-discovery rate:', fp2 / (fp2 + tp2))"
   ]
  },
  {
   "cell_type": "markdown",
   "metadata": {},
   "source": [
    "### 6. Plot the ROC curves and compute the AUC for each model. (10 pts)"
   ]
  },
  {
   "cell_type": "markdown",
   "metadata": {},
   "source": [
    "For unregularized model"
   ]
  },
  {
   "cell_type": "code",
   "execution_count": 938,
   "metadata": {},
   "outputs": [
    {
     "data": {
      "text/plain": [
       "Text(0, 0.5, 'TPR / Recall')"
      ]
     },
     "execution_count": 938,
     "metadata": {},
     "output_type": "execute_result"
    },
    {
     "data": {
      "image/png": "[encoded data removed]",
      "text/plain": [
       "<Figure size 1080x1080 with 1 Axes>"
      ]
     },
     "metadata": {},
     "output_type": "display_data"
    }
   ],
   "source": [
    "probs1 = lr1.predict_proba(X_test)[:, 1]\n",
    "fpr, tpr, thresh = roc_curve(y_test, probs1)\n",
    "plt.plot(fpr, tpr)\n",
    "plt.xlabel('FPR')\n",
    "plt.ylabel('TPR / Recall')"
   ]
  },
  {
   "cell_type": "code",
   "execution_count": 939,
   "metadata": {},
   "outputs": [
    {
     "name": "stdout",
     "output_type": "stream",
     "text": [
      "AUC:  0.8438852813852813\n"
     ]
    }
   ],
   "source": [
    "print('AUC: ', roc_auc_score(y_test, probs1))"
   ]
  },
  {
   "cell_type": "markdown",
   "metadata": {},
   "source": [
    "regularized model"
   ]
  },
  {
   "cell_type": "code",
   "execution_count": 940,
   "metadata": {},
   "outputs": [
    {
     "data": {
      "text/plain": [
       "Text(0, 0.5, 'TPR / Recall')"
      ]
     },
     "execution_count": 940,
     "metadata": {},
     "output_type": "execute_result"
    },
    {
     "data": {
      "image/png": "[encoded data removed]",
      "text/plain": [
       "<Figure size 1080x1080 with 1 Axes>"
      ]
     },
     "metadata": {},
     "output_type": "display_data"
    }
   ],
   "source": [
    "probs2 = lr2.predict_proba(X_test)[:, 1]\n",
    "fpr, tpr, thresh = roc_curve(y_test, probs2)\n",
    "plt.plot(fpr, tpr)\n",
    "plt.xlabel('FPR')\n",
    "plt.ylabel('TPR / Recall')"
   ]
  },
  {
   "cell_type": "code",
   "execution_count": 941,
   "metadata": {},
   "outputs": [
    {
     "name": "stdout",
     "output_type": "stream",
     "text": [
      "AUC:  0.8449675324675324\n"
     ]
    }
   ],
   "source": [
    "print('AUC: ', roc_auc_score(y_test, probs2))"
   ]
  },
  {
   "cell_type": "markdown",
   "metadata": {},
   "source": [
    "### 7. The default classification rule for logistic regression is to label heart disease if the predicted probability is greater than 0.5. Based on the metrics and curves you plotted for the best model, what are some reasons you might increase or lower this threshold? What are the tradeoffs between false-positives and false-negatives? (5 pts)"
   ]
  },
  {
   "cell_type": "markdown",
   "metadata": {},
   "source": [
    "The default classification rule for logistic regression is to label heart disease if the predicted probability is greater than 0.5. The AUCs are 0.84 based on both regularized and regularized models. The recalls are around 0.73 and 0.76. Therefore, there is pretty much space allowing us to play with the thresholds that minimizes the miss-classification cost as needed. We could sacrifice some \"recall\" to enhance the false positive rate, let's say down the recall to around 0.6 to achieve the relatively lower FPR at around 0.15. As the recall/sensitivity goes lower, the false-positives goes lower, on the other hand, the false-negatives goes higher. This is the tradeoff between false-positives and false-negatives."
   ]
  },
  {
   "cell_type": "code",
   "execution_count": 9,
   "metadata": {},
   "outputs": [],
   "source": [
    "import numpy as np\n",
    "import pandas as pd\n",
    "import matplotlib as mpl\n",
    "import matplotlib.pyplot as plt\n",
    "from sklearn.linear_model import LinearRegression, LogisticRegression, LogisticRegressionCV \n",
    "from sklearn.metrics import mean_squared_error, accuracy_score, recall_score, precision_score,confusion_matrix, roc_auc_score, roc_curve\n",
    "from sklearn.model_selection import KFold, cross_validate, train_test_split \n",
    "from sklearn.preprocessing import PolynomialFeatures, StandardScaler\n",
    "pd.options.display.max_columns = None # display all columns \n",
    "mpl.rcParams['figure.dpi'] = 150 # Make plots bigger"
   ]
  },
  {
   "cell_type": "code",
   "execution_count": 10,
   "metadata": {},
   "outputs": [
    {
     "data": {
      "text/html": [
       "<div>\n",
       "<style scoped>\n",
       "    .dataframe tbody tr th:only-of-type {\n",
       "        vertical-align: middle;\n",
       "    }\n",
       "\n",
       "    .dataframe tbody tr th {\n",
       "        vertical-align: top;\n",
       "    }\n",
       "\n",
       "    .dataframe thead th {\n",
       "        text-align: right;\n",
       "    }\n",
       "</style>\n",
       "<table border=\"1\" class=\"dataframe\">\n",
       "  <thead>\n",
       "    <tr style=\"text-align: right;\">\n",
       "      <th></th>\n",
       "      <th>Lot_Area</th>\n",
       "      <th>Year_Built</th>\n",
       "      <th>Total_Bsmt_SF</th>\n",
       "      <th>Gr_Liv_Area</th>\n",
       "      <th>Full_Bath</th>\n",
       "      <th>Sale_Price</th>\n",
       "    </tr>\n",
       "  </thead>\n",
       "  <tbody>\n",
       "    <tr>\n",
       "      <th>0</th>\n",
       "      <td>31770</td>\n",
       "      <td>1960</td>\n",
       "      <td>1080</td>\n",
       "      <td>1656</td>\n",
       "      <td>1</td>\n",
       "      <td>215000</td>\n",
       "    </tr>\n",
       "    <tr>\n",
       "      <th>1</th>\n",
       "      <td>11622</td>\n",
       "      <td>1961</td>\n",
       "      <td>882</td>\n",
       "      <td>896</td>\n",
       "      <td>1</td>\n",
       "      <td>105000</td>\n",
       "    </tr>\n",
       "    <tr>\n",
       "      <th>2</th>\n",
       "      <td>14267</td>\n",
       "      <td>1958</td>\n",
       "      <td>1329</td>\n",
       "      <td>1329</td>\n",
       "      <td>1</td>\n",
       "      <td>172000</td>\n",
       "    </tr>\n",
       "    <tr>\n",
       "      <th>3</th>\n",
       "      <td>11160</td>\n",
       "      <td>1968</td>\n",
       "      <td>2110</td>\n",
       "      <td>2110</td>\n",
       "      <td>2</td>\n",
       "      <td>244000</td>\n",
       "    </tr>\n",
       "    <tr>\n",
       "      <th>4</th>\n",
       "      <td>13830</td>\n",
       "      <td>1997</td>\n",
       "      <td>928</td>\n",
       "      <td>1629</td>\n",
       "      <td>2</td>\n",
       "      <td>189900</td>\n",
       "    </tr>\n",
       "  </tbody>\n",
       "</table>\n",
       "</div>"
      ],
      "text/plain": [
       "   Lot_Area  Year_Built  Total_Bsmt_SF  Gr_Liv_Area  Full_Bath  Sale_Price\n",
       "0     31770        1960           1080         1656          1      215000\n",
       "1     11622        1961            882          896          1      105000\n",
       "2     14267        1958           1329         1329          1      172000\n",
       "3     11160        1968           2110         2110          2      244000\n",
       "4     13830        1997            928         1629          2      189900"
      ]
     },
     "execution_count": 10,
     "metadata": {},
     "output_type": "execute_result"
    }
   ],
   "source": [
    "cols = ['Sale_Price','Lot_Area','Year_Built','Gr_Liv_Area','Total_Bsmt_SF','Full_Bath'] \n",
    "ames = pd.read_csv('ames.csv', usecols = cols)\n",
    "ames.head()"
   ]
  },
  {
   "cell_type": "code",
   "execution_count": 11,
   "metadata": {},
   "outputs": [
    {
     "name": "stdout",
     "output_type": "stream",
     "text": [
      "[[ 2.74438073 -0.37553701  0.06519583  0.30926506 -1.02479289]\n",
      " [ 0.18709726 -0.34246845 -0.38389297 -1.19442705 -1.02479289]\n",
      " [ 0.5228137  -0.44167415  0.62995901 -0.33771825 -1.02479289]\n",
      " [ 0.12845795 -0.11098849  2.40136483  1.20752324  0.7840283 ]\n",
      " [ 0.46734751  0.84799991 -0.27955921  0.25584442  0.7840283 ]]\n"
     ]
    }
   ],
   "source": [
    "y = ames['Sale_Price'].values.reshape(-1, 1) \n",
    "X = ames.drop('Sale_Price', axis=1).values \n",
    "y = StandardScaler().fit_transform(y)\n",
    "X = StandardScaler().fit_transform(X) \n",
    "print(X[:5, :])"
   ]
  },
  {
   "cell_type": "code",
   "execution_count": 12,
   "metadata": {},
   "outputs": [],
   "source": [
    "def rmse(y_true, y_pred):\n",
    "    return np.sqrt(mean_squared_error(y_true, y_pred))"
   ]
  },
  {
   "cell_type": "code",
   "execution_count": 13,
   "metadata": {},
   "outputs": [
    {
     "name": "stdout",
     "output_type": "stream",
     "text": [
      "Shape of X: (2930, 5)\n"
     ]
    }
   ],
   "source": [
    "model1 = LinearRegression().fit(X, y) \n",
    "preds1 = model1.predict(X) \n",
    "print('Shape of X:', X.shape)"
   ]
  },
  {
   "cell_type": "code",
   "execution_count": 14,
   "metadata": {},
   "outputs": [
    {
     "name": "stdout",
     "output_type": "stream",
     "text": [
      "Shape of X: (2930, 21)\n"
     ]
    }
   ],
   "source": [
    "quadratic = PolynomialFeatures(2)\n",
    "X2 = quadratic.fit_transform(X) \n",
    "model2 = LinearRegression().fit(X2, y) \n",
    "preds2 = model2.predict(X2) \n",
    "print('Shape of X:', X2.shape)"
   ]
  },
  {
   "cell_type": "code",
   "execution_count": 15,
   "metadata": {},
   "outputs": [
    {
     "name": "stdout",
     "output_type": "stream",
     "text": [
      "Shape of X: (2930, 56)\n"
     ]
    }
   ],
   "source": [
    "cubic = PolynomialFeatures(3)\n",
    "X3 = cubic.fit_transform(X)\n",
    "model3 = LinearRegression().fit(X3, y) \n",
    "preds3 = model3.predict(X3) \n",
    "print('Shape of X:', X3.shape)"
   ]
  },
  {
   "cell_type": "code",
   "execution_count": 16,
   "metadata": {},
   "outputs": [
    {
     "name": "stdout",
     "output_type": "stream",
     "text": [
      "Model 1 RMSE: 0.534\n",
      "Model 2 RMSE: 0.448\n",
      "Model 3 RMSE: 0.379\n"
     ]
    }
   ],
   "source": [
    "print('Model 1 RMSE: {:.3f}'.format(rmse(y, preds1)))\n",
    "print('Model 2 RMSE: {:.3f}'.format(rmse(y, preds2)))\n",
    "print('Model 3 RMSE: {:.3f}'.format(rmse(y, preds3)))"
   ]
  },
  {
   "cell_type": "code",
   "execution_count": 17,
   "metadata": {},
   "outputs": [],
   "source": [
    "k = 10\n",
    "train_rmse = np.empty((k, 3))\n",
    "test_rmse = np.empty((k, 3))\n",
    "cv = KFold(k, shuffle=True)\n",
    "for j, (train, test) in enumerate(cv.split(X)):\n",
    "    # Fit each model to training folds\n",
    "    model1 = LinearRegression().fit(X[train], y[train]) \n",
    "    model2 = LinearRegression().fit(X2[train, :], y[train]) \n",
    "    model3 = LinearRegression().fit(X3[train, :], y[train])\n",
    "    # Get RMSE on training data\n",
    "    train_rmse[j, 0] = rmse(y[train], model1.predict(X[train, :])) \n",
    "    train_rmse[j, 1] = rmse(y[train], model2.predict(X2[train, :])) \n",
    "    train_rmse[j, 2] = rmse(y[train], model3.predict(X3[train, :]))\n",
    "    # Get RMSE on test data\n",
    "    test_rmse[j, 0] = rmse(y[test], model1.predict(X[test, :])) \n",
    "    test_rmse[j, 1] = rmse(y[test], model2.predict(X2[test, :])) \n",
    "    test_rmse[j, 2] = rmse(y[test], model3.predict(X3[test, :]))"
   ]
  },
  {
   "cell_type": "code",
   "execution_count": 18,
   "metadata": {},
   "outputs": [],
   "source": [
    "r1 = cross_validate(LinearRegression(), X, y,\n",
    "                    scoring = 'neg_mean_squared_error', cv = 10, return_train_score=True)\n",
    "r2 = cross_validate(LinearRegression(), X2, y,\n",
    "                    scoring = 'neg_mean_squared_error', cv = 10, return_train_score=True)\n",
    "r3 = cross_validate(LinearRegression(), X3, y,\n",
    "                    scoring = 'neg_mean_squared_error', cv = 10, return_train_score=True)\n",
    "# Get training and testing RMSEs\n",
    "train_neg_mse = np.array([r1['train_score'], r2['train_score'], r3['train_score']]).T \n",
    "test_neg_mse = np.array([r1['test_score'], r2['test_score'], r3['test_score']]).T \n",
    "train_rmse = np.sqrt(-train_neg_mse)\n",
    "test_rmse = np.sqrt(-test_neg_mse)"
   ]
  },
  {
   "cell_type": "code",
   "execution_count": 19,
   "metadata": {},
   "outputs": [
    {
     "data": {
      "text/plain": [
       "array([<matplotlib.axes._subplots.AxesSubplot object at 0x10112e950>,\n",
       "       <matplotlib.axes._subplots.AxesSubplot object at 0x1a17081c90>],\n",
       "      dtype=object)"
      ]
     },
     "execution_count": 19,
     "metadata": {},
     "output_type": "execute_result"
    },
    {
     "data": {
      "image/png": "[encoded data removed]",
      "text/plain": [
       "<Figure size 900x600 with 2 Axes>"
      ]
     },
     "metadata": {
      "needs_background": "light"
     },
     "output_type": "display_data"
    }
   ],
   "source": [
    "# Create data frame of RMSEs\n",
    "train_df = pd.DataFrame(train_rmse, columns=['1', '2', '3']) \n",
    "test_df = pd.DataFrame(test_rmse, columns=['1', '2', '3']) \n",
    "train_df['fold'] = np.arange(10)\n",
    "test_df['fold'] = np.arange(10)\n",
    "# Convert from wide to long format and merge\n",
    "train_df = pd.melt(train_df, id_vars='fold', var_name='Model', value_name='Train') \n",
    "test_df = pd.melt(test_df, id_vars='fold', var_name='Model', value_name='Test')\n",
    "df = train_df.merge(test_df)\n",
    "# Print boxplot\n",
    "df.boxplot(column=['Train', 'Test'], by=['Model'])"
   ]
  },
  {
   "cell_type": "code",
   "execution_count": 20,
   "metadata": {},
   "outputs": [
    {
     "name": "stderr",
     "output_type": "stream",
     "text": [
      "/opt/anaconda3/lib/python3.7/site-packages/ipykernel_launcher.py:2: FutureWarning: Indexing with multiple keys (implicitly converted to a tuple of keys) will be deprecated, use a list instead.\n",
      "  \n"
     ]
    },
    {
     "data": {
      "text/html": [
       "<div>\n",
       "<style scoped>\n",
       "    .dataframe tbody tr th:only-of-type {\n",
       "        vertical-align: middle;\n",
       "    }\n",
       "\n",
       "    .dataframe tbody tr th {\n",
       "        vertical-align: top;\n",
       "    }\n",
       "\n",
       "    .dataframe thead th {\n",
       "        text-align: right;\n",
       "    }\n",
       "</style>\n",
       "<table border=\"1\" class=\"dataframe\">\n",
       "  <thead>\n",
       "    <tr style=\"text-align: right;\">\n",
       "      <th></th>\n",
       "      <th>Train</th>\n",
       "      <th>Test</th>\n",
       "    </tr>\n",
       "    <tr>\n",
       "      <th>Model</th>\n",
       "      <th></th>\n",
       "      <th></th>\n",
       "    </tr>\n",
       "  </thead>\n",
       "  <tbody>\n",
       "    <tr>\n",
       "      <th>1</th>\n",
       "      <td>0.533001</td>\n",
       "      <td>0.531593</td>\n",
       "    </tr>\n",
       "    <tr>\n",
       "      <th>2</th>\n",
       "      <td>0.446705</td>\n",
       "      <td>0.475835</td>\n",
       "    </tr>\n",
       "    <tr>\n",
       "      <th>3</th>\n",
       "      <td>0.375681</td>\n",
       "      <td>0.717070</td>\n",
       "    </tr>\n",
       "  </tbody>\n",
       "</table>\n",
       "</div>"
      ],
      "text/plain": [
       "          Train      Test\n",
       "Model                    \n",
       "1      0.533001  0.531593\n",
       "2      0.446705  0.475835\n",
       "3      0.375681  0.717070"
      ]
     },
     "execution_count": 20,
     "metadata": {},
     "output_type": "execute_result"
    }
   ],
   "source": [
    "# Print average RMSE for each model\n",
    "df.groupby('Model')['Train', 'Test'].mean()"
   ]
  },
  {
   "cell_type": "markdown",
   "metadata": {},
   "source": [
    "Model 3 has the best performance (lowest RMSE) on the training data, but it's overfitting and doesn't perform as well on the test set.\n",
    "Model 2 has the lowest average test error, so it will be the best at predicting the sales price for a home outside of this sample."
   ]
  },
  {
   "cell_type": "code",
   "execution_count": 21,
   "metadata": {},
   "outputs": [],
   "source": [
    "heart = pd.read_csv('heart.csv')"
   ]
  },
  {
   "cell_type": "code",
   "execution_count": 22,
   "metadata": {},
   "outputs": [
    {
     "name": "stdout",
     "output_type": "stream",
     "text": [
      "Proportion with heart disease: 0.459\n"
     ]
    }
   ],
   "source": [
    "y = heart.hd.values\n",
    "print('Proportion with heart disease: {:.3f}'.format(y.mean()))"
   ]
  },
  {
   "cell_type": "code",
   "execution_count": 24,
   "metadata": {},
   "outputs": [
    {
     "data": {
      "text/plain": [
       "array([[ 63, 145, 233, 150,   1,   0,   0,   0,   0,   0,   0,   1],\n",
       "       [ 67, 160, 286, 108,   1,   0,   0,   1,   0,   0,   0,   0],\n",
       "       [ 67, 120, 229, 129,   1,   0,   0,   1,   0,   0,   0,   0],\n",
       "       [ 37, 130, 250, 187,   1,   1,   0,   0,   0,   0,   1,   0],\n",
       "       [ 41, 130, 204, 172,   0,   0,   0,   0,   1,   1,   0,   0]])"
      ]
     },
     "execution_count": 24,
     "metadata": {},
     "output_type": "execute_result"
    }
   ],
   "source": [
    "cols = ['age', 'trestbps', 'chol', 'thalach', 'sex', 'restecg', 'slope', 'cp'] \n",
    "X_df = heart[cols]\n",
    "X_df = pd.get_dummies(X_df, drop_first=True)\n",
    "X = X_df.values\n",
    "X[:5, :]"
   ]
  },
  {
   "cell_type": "code",
   "execution_count": 25,
   "metadata": {},
   "outputs": [],
   "source": [
    "X_train, X_test, y_train, y_test = train_test_split(X, y, test_size=.4, stratify=y, random_state=7)"
   ]
  },
  {
   "cell_type": "code",
   "execution_count": 26,
   "metadata": {},
   "outputs": [],
   "source": [
    "scaler = StandardScaler()\n",
    "X_train = scaler.fit_transform(X_train)\n",
    "X_test = scaler.transform(X_test)\n",
    "# Note: You can also just standardize the numeric features."
   ]
  },
  {
   "cell_type": "code",
   "execution_count": 27,
   "metadata": {},
   "outputs": [
    {
     "name": "stdout",
     "output_type": "stream",
     "text": [
      "[[-1.05310229  0.60525034  1.10945804 -0.13944168  0.68669114 -0.97274691\n",
      "  -0.10570328  1.03945167 -0.93058013 -0.4095631  -0.66068747 -0.27817432]\n",
      " [-0.82699136 -1.40484713 -0.0964      0.08234166  0.68669114  1.02801663\n",
      "  -0.10570328 -0.96204569  1.07459849 -0.4095631   1.51357494 -0.27817432]\n",
      " [ 1.66022888  1.66941959 -0.26083519 -0.84914836  0.68669114 -0.97274691\n",
      "  -0.10570328  1.03945167 -0.93058013 -0.4095631  -0.66068747  3.59486814]\n",
      " [-0.0356031   1.07821446 -0.29737634  0.65897834  0.68669114 -0.97274691\n",
      "  -0.10570328 -0.96204569  1.07459849 -0.4095631   1.51357494 -0.27817432]\n",
      " [-1.27921323 -0.10419582  1.21908149  0.52590833  0.68669114  1.02801663\n",
      "  -0.10570328 -0.96204569  1.07459849 -0.4095631   1.51357494 -0.27817432]]\n",
      "[[-1.73143509  0.36876829 -0.51662326  0.08234166 -1.45625879  1.02801663\n",
      "  -0.10570328  1.03945167 -0.93058013 -0.4095631   1.51357494 -0.27817432]\n",
      " [-0.26171403  0.13228623 -0.86376421  0.34848166  0.68669114  1.02801663\n",
      "  -0.10570328 -0.96204569  1.07459849  2.44162619 -0.66068747 -0.27817432]\n",
      " [ 0.64272969  1.55117857  1.03637573  0.48155167 -1.45625879 -0.97274691\n",
      "  -0.10570328 -0.96204569  1.07459849 -0.4095631  -0.66068747 -0.27817432]\n",
      " [ 0.75578516  0.78261189  1.07291688 -0.18379835 -1.45625879 -0.97274691\n",
      "  -0.10570328  1.03945167 -0.93058013 -0.4095631  -0.66068747 -0.27817432]\n",
      " [ 0.64272969 -0.10419582  0.08630576 -0.27251168  0.68669114  1.02801663\n",
      "  -0.10570328 -0.96204569  1.07459849 -0.4095631  -0.66068747 -0.27817432]]\n"
     ]
    }
   ],
   "source": [
    "print(X_train[:5, :])\n",
    "print(X_test[:5, :])"
   ]
  },
  {
   "cell_type": "code",
   "execution_count": 28,
   "metadata": {},
   "outputs": [
    {
     "data": {
      "text/plain": [
       "LogisticRegressionCV(Cs=100, cv=10, penalty='l1', solver='liblinear')"
      ]
     },
     "execution_count": 28,
     "metadata": {},
     "output_type": "execute_result"
    }
   ],
   "source": [
    "model1 = LogisticRegression(penalty='none') # You can also set C to a very large value e.g. >1000 \n",
    "model2 = LogisticRegressionCV(Cs=100, cv=10, penalty='l1', solver='liblinear')\n",
    "model1.fit(X_train, y_train)\n",
    "model2.fit(X_train, y_train)"
   ]
  },
  {
   "cell_type": "code",
   "execution_count": 29,
   "metadata": {},
   "outputs": [
    {
     "data": {
      "text/html": [
       "<div>\n",
       "<style scoped>\n",
       "    .dataframe tbody tr th:only-of-type {\n",
       "        vertical-align: middle;\n",
       "    }\n",
       "\n",
       "    .dataframe tbody tr th {\n",
       "        vertical-align: top;\n",
       "    }\n",
       "\n",
       "    .dataframe thead th {\n",
       "        text-align: right;\n",
       "    }\n",
       "</style>\n",
       "<table border=\"1\" class=\"dataframe\">\n",
       "  <thead>\n",
       "    <tr style=\"text-align: right;\">\n",
       "      <th></th>\n",
       "      <th>Variable</th>\n",
       "      <th>Model 1</th>\n",
       "      <th>Model 2</th>\n",
       "    </tr>\n",
       "  </thead>\n",
       "  <tbody>\n",
       "    <tr>\n",
       "      <th>0</th>\n",
       "      <td>age</td>\n",
       "      <td>0.338297</td>\n",
       "      <td>0.300839</td>\n",
       "    </tr>\n",
       "    <tr>\n",
       "      <th>1</th>\n",
       "      <td>trestbps</td>\n",
       "      <td>0.478560</td>\n",
       "      <td>0.423813</td>\n",
       "    </tr>\n",
       "    <tr>\n",
       "      <th>2</th>\n",
       "      <td>chol</td>\n",
       "      <td>0.433400</td>\n",
       "      <td>0.327181</td>\n",
       "    </tr>\n",
       "    <tr>\n",
       "      <th>3</th>\n",
       "      <td>thalach</td>\n",
       "      <td>-0.100505</td>\n",
       "      <td>-0.099689</td>\n",
       "    </tr>\n",
       "    <tr>\n",
       "      <th>4</th>\n",
       "      <td>sex_male</td>\n",
       "      <td>1.180168</td>\n",
       "      <td>0.996659</td>\n",
       "    </tr>\n",
       "    <tr>\n",
       "      <th>5</th>\n",
       "      <td>restecg_normal</td>\n",
       "      <td>-0.228136</td>\n",
       "      <td>-0.194519</td>\n",
       "    </tr>\n",
       "    <tr>\n",
       "      <th>6</th>\n",
       "      <td>restecg_stt_wave_abnormality</td>\n",
       "      <td>1.604541</td>\n",
       "      <td>0.262568</td>\n",
       "    </tr>\n",
       "    <tr>\n",
       "      <th>7</th>\n",
       "      <td>slope_flat</td>\n",
       "      <td>-0.421636</td>\n",
       "      <td>0.000000</td>\n",
       "    </tr>\n",
       "    <tr>\n",
       "      <th>8</th>\n",
       "      <td>slope_upsloping</td>\n",
       "      <td>-1.018268</td>\n",
       "      <td>-0.569334</td>\n",
       "    </tr>\n",
       "    <tr>\n",
       "      <th>9</th>\n",
       "      <td>cp_atypical_angina</td>\n",
       "      <td>-0.938373</td>\n",
       "      <td>-0.806414</td>\n",
       "    </tr>\n",
       "    <tr>\n",
       "      <th>10</th>\n",
       "      <td>cp_non_anginal_pain</td>\n",
       "      <td>-1.331934</td>\n",
       "      <td>-1.200023</td>\n",
       "    </tr>\n",
       "    <tr>\n",
       "      <th>11</th>\n",
       "      <td>cp_typical_angina</td>\n",
       "      <td>-0.752243</td>\n",
       "      <td>-0.652233</td>\n",
       "    </tr>\n",
       "  </tbody>\n",
       "</table>\n",
       "</div>"
      ],
      "text/plain": [
       "                        Variable   Model 1   Model 2\n",
       "0                            age  0.338297  0.300839\n",
       "1                       trestbps  0.478560  0.423813\n",
       "2                           chol  0.433400  0.327181\n",
       "3                        thalach -0.100505 -0.099689\n",
       "4                       sex_male  1.180168  0.996659\n",
       "5                 restecg_normal -0.228136 -0.194519\n",
       "6   restecg_stt_wave_abnormality  1.604541  0.262568\n",
       "7                     slope_flat -0.421636  0.000000\n",
       "8                slope_upsloping -1.018268 -0.569334\n",
       "9             cp_atypical_angina -0.938373 -0.806414\n",
       "10           cp_non_anginal_pain -1.331934 -1.200023\n",
       "11             cp_typical_angina -0.752243 -0.652233"
      ]
     },
     "execution_count": 29,
     "metadata": {},
     "output_type": "execute_result"
    }
   ],
   "source": [
    "pd.DataFrame({'Variable':X_df.columns,\n",
    "              'Model 1':model1.coef_.reshape(-1),\n",
    "              'Model 2':model2.coef_.reshape(-1)})"
   ]
  },
  {
   "cell_type": "code",
   "execution_count": 30,
   "metadata": {},
   "outputs": [],
   "source": [
    "# Get predictions from both models\n",
    "preds1 = model1.predict(X_test) \n",
    "preds2 = model2.predict(X_test)"
   ]
  },
  {
   "cell_type": "code",
   "execution_count": 31,
   "metadata": {},
   "outputs": [],
   "source": [
    "# Helper function to calculate the metrics\n",
    "def get_metrics(y_true, y_preds):\n",
    "    tn, fp, fn, tp = confusion_matrix(y_true, y_preds).ravel() \n",
    "    accuracy = accuracy_score(y_true, y_preds)\n",
    "    recall = recall_score(y_true, y_preds)\n",
    "    precision = precision_score(y_true, y_preds)\n",
    "    fpr = fp / (fp + tn)\n",
    "    fdr = fp / (fp + tp)\n",
    "    return (accuracy, recall, precision, fpr, fdr)"
   ]
  },
  {
   "cell_type": "code",
   "execution_count": 32,
   "metadata": {},
   "outputs": [
    {
     "data": {
      "text/html": [
       "<div>\n",
       "<style scoped>\n",
       "    .dataframe tbody tr th:only-of-type {\n",
       "        vertical-align: middle;\n",
       "    }\n",
       "\n",
       "    .dataframe tbody tr th {\n",
       "        vertical-align: top;\n",
       "    }\n",
       "\n",
       "    .dataframe thead th {\n",
       "        text-align: right;\n",
       "    }\n",
       "</style>\n",
       "<table border=\"1\" class=\"dataframe\">\n",
       "  <thead>\n",
       "    <tr style=\"text-align: right;\">\n",
       "      <th></th>\n",
       "      <th>Metrics</th>\n",
       "      <th>Model 1</th>\n",
       "      <th>Model 2</th>\n",
       "    </tr>\n",
       "  </thead>\n",
       "  <tbody>\n",
       "    <tr>\n",
       "      <th>0</th>\n",
       "      <td>Accuracy</td>\n",
       "      <td>0.729508</td>\n",
       "      <td>0.745902</td>\n",
       "    </tr>\n",
       "    <tr>\n",
       "      <th>1</th>\n",
       "      <td>Recall</td>\n",
       "      <td>0.732143</td>\n",
       "      <td>0.767857</td>\n",
       "    </tr>\n",
       "    <tr>\n",
       "      <th>2</th>\n",
       "      <td>Precision</td>\n",
       "      <td>0.694915</td>\n",
       "      <td>0.704918</td>\n",
       "    </tr>\n",
       "    <tr>\n",
       "      <th>3</th>\n",
       "      <td>FPR</td>\n",
       "      <td>0.272727</td>\n",
       "      <td>0.272727</td>\n",
       "    </tr>\n",
       "    <tr>\n",
       "      <th>4</th>\n",
       "      <td>FDR</td>\n",
       "      <td>0.305085</td>\n",
       "      <td>0.295082</td>\n",
       "    </tr>\n",
       "  </tbody>\n",
       "</table>\n",
       "</div>"
      ],
      "text/plain": [
       "     Metrics   Model 1   Model 2\n",
       "0   Accuracy  0.729508  0.745902\n",
       "1     Recall  0.732143  0.767857\n",
       "2  Precision  0.694915  0.704918\n",
       "3        FPR  0.272727  0.272727\n",
       "4        FDR  0.305085  0.295082"
      ]
     },
     "execution_count": 32,
     "metadata": {},
     "output_type": "execute_result"
    }
   ],
   "source": [
    "pd.DataFrame({'Metrics':['Accuracy', 'Recall', 'Precision', 'FPR', 'FDR'],\n",
    "              'Model 1': get_metrics(y_test, preds1),\n",
    "              'Model 2': get_metrics(y_test, preds2)})\n",
    "# NOTE: You may get different metrics based on train/test split"
   ]
  },
  {
   "cell_type": "code",
   "execution_count": 33,
   "metadata": {},
   "outputs": [],
   "source": [
    "probs1 = model1.predict_proba(X_test)\n",
    "probs2 = model2.predict_proba(X_test)\n",
    "fpr1, tpr1, _ = roc_curve(y_test, probs1[:, 1]) \n",
    "fpr2, tpr2, _ = roc_curve(y_test, probs2[:, 1]) \n",
    "auc1 = roc_auc_score(y_test, probs1[:, 1]) \n",
    "auc2 = roc_auc_score(y_test, probs2[:, 1])"
   ]
  },
  {
   "cell_type": "code",
   "execution_count": 34,
   "metadata": {},
   "outputs": [
    {
     "data": {
      "image/png": "[encoded data removed]",
      "text/plain": [
       "<Figure size 900x600 with 1 Axes>"
      ]
     },
     "metadata": {
      "needs_background": "light"
     },
     "output_type": "display_data"
    }
   ],
   "source": [
    "plt.title('Receiver Operating Characteristic')\n",
    "plt.plot(fpr1, tpr1, 'b', label = 'Model 1 (AUC={:.3f})'.format(auc1), c='blue') \n",
    "plt.plot(fpr2, tpr2, 'b', label = 'Model 2 (AUC={:.3f})'.format(auc2), c='orange') \n",
    "plt.legend(loc = 'lower right')\n",
    "plt.plot([0, 1], [0, 1],'r--')\n",
    "plt.xlim([0, 1])\n",
    "plt.ylim([0, 1])\n",
    "plt.ylabel('True Positive Rate')\n",
    "plt.xlabel('False Positive Rate')\n",
    "plt.show()\n",
    "# NOTE: You may get different metrics based on train/test split"
   ]
  },
  {
   "cell_type": "markdown",
   "metadata": {},
   "source": [
    "It depends on how these predictions will be used. If it's used as a screening tool, then we need to consider the costs of false positive and false negatives.\n",
    "We probably want to increase the recall (true-positive rate) at the risk of having more false-positive because we probably don't want patients to not be diagnosed.\n",
    "However, it also depends on the potential treatments and consequences of following up with patients. If we have too many false positives it can cause additional anxiety and expenses to otherwise healthy patients. This might be more important if this was a rare disease with limited treatment options."
   ]
  },
  {
   "cell_type": "code",
   "execution_count": null,
   "metadata": {},
   "outputs": [],
   "source": []
  }
 ],
 "metadata": {
  "kernelspec": {
   "display_name": "Python 3",
   "language": "python",
   "name": "python3"
  },
  "language_info": {
   "codemirror_mode": {
    "name": "ipython",
    "version": 3
   },
   "file_extension": ".py",
   "mimetype": "text/x-python",
   "name": "python",
   "nbconvert_exporter": "python",
   "pygments_lexer": "ipython3",
   "version": "3.7.4"
  }
 },
 "nbformat": 4,
 "nbformat_minor": 2
}

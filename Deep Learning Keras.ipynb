{
 "cells": [
  {
   "cell_type": "markdown",
   "metadata": {},
   "source": [
    "# Deep Learning Keras\n",
    "# Xiaoqiao Zeng"
   ]
  },
  {
   "cell_type": "code",
   "execution_count": 15,
   "metadata": {},
   "outputs": [],
   "source": [
    "import pandas as pd\n",
    "import numpy as np\n",
    "import matplotlib as mpl\n",
    "import matplotlib.pyplot as plt\n",
    "from sklearn.datasets import make_classification\n",
    "from sklearn.metrics import accuracy_score, mean_squared_error\n",
    "from sklearn.model_selection import train_test_split\n",
    "from sklearn.linear_model import LogisticRegressionCV\n",
    "from sklearn.preprocessing import StandardScaler, MinMaxScaler\n",
    "\n",
    "# TensorFlow / Keras functions\n",
    "import tensorflow as tf\n",
    "from tensorflow import keras\n",
    "from tensorflow.keras import Sequential\n",
    "from tensorflow.keras.layers import Dense, Dropout\n",
    "from tensorflow.keras.callbacks import EarlyStopping"
   ]
  },
  {
   "cell_type": "markdown",
   "metadata": {},
   "source": [
    "1. Load the Ames Housing dataset. Create dummy variables for all of the categorical features. Print the first few rows of this dataset. (5 pts)"
   ]
  },
  {
   "cell_type": "code",
   "execution_count": 16,
   "metadata": {
    "scrolled": true
   },
   "outputs": [
    {
     "data": {
      "text/html": [
       "<div>\n",
       "<style scoped>\n",
       "    .dataframe tbody tr th:only-of-type {\n",
       "        vertical-align: middle;\n",
       "    }\n",
       "\n",
       "    .dataframe tbody tr th {\n",
       "        vertical-align: top;\n",
       "    }\n",
       "\n",
       "    .dataframe thead th {\n",
       "        text-align: right;\n",
       "    }\n",
       "</style>\n",
       "<table border=\"1\" class=\"dataframe\">\n",
       "  <thead>\n",
       "    <tr style=\"text-align: right;\">\n",
       "      <th></th>\n",
       "      <th>MS_SubClass</th>\n",
       "      <th>MS_Zoning</th>\n",
       "      <th>Lot_Frontage</th>\n",
       "      <th>Lot_Area</th>\n",
       "      <th>Street</th>\n",
       "      <th>Alley</th>\n",
       "      <th>Lot_Shape</th>\n",
       "      <th>Land_Contour</th>\n",
       "      <th>Utilities</th>\n",
       "      <th>Lot_Config</th>\n",
       "      <th>...</th>\n",
       "      <th>Fence</th>\n",
       "      <th>Misc_Feature</th>\n",
       "      <th>Misc_Val</th>\n",
       "      <th>Mo_Sold</th>\n",
       "      <th>Year_Sold</th>\n",
       "      <th>Sale_Type</th>\n",
       "      <th>Sale_Condition</th>\n",
       "      <th>Sale_Price</th>\n",
       "      <th>Longitude</th>\n",
       "      <th>Latitude</th>\n",
       "    </tr>\n",
       "  </thead>\n",
       "  <tbody>\n",
       "    <tr>\n",
       "      <th>0</th>\n",
       "      <td>One_Story_1946_and_Newer_All_Styles</td>\n",
       "      <td>Residential_Low_Density</td>\n",
       "      <td>141</td>\n",
       "      <td>31770</td>\n",
       "      <td>Pave</td>\n",
       "      <td>No_Alley_Access</td>\n",
       "      <td>Slightly_Irregular</td>\n",
       "      <td>Lvl</td>\n",
       "      <td>AllPub</td>\n",
       "      <td>Corner</td>\n",
       "      <td>...</td>\n",
       "      <td>No_Fence</td>\n",
       "      <td>None</td>\n",
       "      <td>0</td>\n",
       "      <td>5</td>\n",
       "      <td>2010</td>\n",
       "      <td>WD</td>\n",
       "      <td>Normal</td>\n",
       "      <td>215000</td>\n",
       "      <td>-93.619754</td>\n",
       "      <td>42.054035</td>\n",
       "    </tr>\n",
       "    <tr>\n",
       "      <th>1</th>\n",
       "      <td>One_Story_1946_and_Newer_All_Styles</td>\n",
       "      <td>Residential_High_Density</td>\n",
       "      <td>80</td>\n",
       "      <td>11622</td>\n",
       "      <td>Pave</td>\n",
       "      <td>No_Alley_Access</td>\n",
       "      <td>Regular</td>\n",
       "      <td>Lvl</td>\n",
       "      <td>AllPub</td>\n",
       "      <td>Inside</td>\n",
       "      <td>...</td>\n",
       "      <td>Minimum_Privacy</td>\n",
       "      <td>None</td>\n",
       "      <td>0</td>\n",
       "      <td>6</td>\n",
       "      <td>2010</td>\n",
       "      <td>WD</td>\n",
       "      <td>Normal</td>\n",
       "      <td>105000</td>\n",
       "      <td>-93.619756</td>\n",
       "      <td>42.053014</td>\n",
       "    </tr>\n",
       "    <tr>\n",
       "      <th>2</th>\n",
       "      <td>One_Story_1946_and_Newer_All_Styles</td>\n",
       "      <td>Residential_Low_Density</td>\n",
       "      <td>81</td>\n",
       "      <td>14267</td>\n",
       "      <td>Pave</td>\n",
       "      <td>No_Alley_Access</td>\n",
       "      <td>Slightly_Irregular</td>\n",
       "      <td>Lvl</td>\n",
       "      <td>AllPub</td>\n",
       "      <td>Corner</td>\n",
       "      <td>...</td>\n",
       "      <td>No_Fence</td>\n",
       "      <td>Gar2</td>\n",
       "      <td>12500</td>\n",
       "      <td>6</td>\n",
       "      <td>2010</td>\n",
       "      <td>WD</td>\n",
       "      <td>Normal</td>\n",
       "      <td>172000</td>\n",
       "      <td>-93.619387</td>\n",
       "      <td>42.052659</td>\n",
       "    </tr>\n",
       "    <tr>\n",
       "      <th>3</th>\n",
       "      <td>One_Story_1946_and_Newer_All_Styles</td>\n",
       "      <td>Residential_Low_Density</td>\n",
       "      <td>93</td>\n",
       "      <td>11160</td>\n",
       "      <td>Pave</td>\n",
       "      <td>No_Alley_Access</td>\n",
       "      <td>Regular</td>\n",
       "      <td>Lvl</td>\n",
       "      <td>AllPub</td>\n",
       "      <td>Corner</td>\n",
       "      <td>...</td>\n",
       "      <td>No_Fence</td>\n",
       "      <td>None</td>\n",
       "      <td>0</td>\n",
       "      <td>4</td>\n",
       "      <td>2010</td>\n",
       "      <td>WD</td>\n",
       "      <td>Normal</td>\n",
       "      <td>244000</td>\n",
       "      <td>-93.617320</td>\n",
       "      <td>42.051245</td>\n",
       "    </tr>\n",
       "    <tr>\n",
       "      <th>4</th>\n",
       "      <td>Two_Story_1946_and_Newer</td>\n",
       "      <td>Residential_Low_Density</td>\n",
       "      <td>74</td>\n",
       "      <td>13830</td>\n",
       "      <td>Pave</td>\n",
       "      <td>No_Alley_Access</td>\n",
       "      <td>Slightly_Irregular</td>\n",
       "      <td>Lvl</td>\n",
       "      <td>AllPub</td>\n",
       "      <td>Inside</td>\n",
       "      <td>...</td>\n",
       "      <td>Minimum_Privacy</td>\n",
       "      <td>None</td>\n",
       "      <td>0</td>\n",
       "      <td>3</td>\n",
       "      <td>2010</td>\n",
       "      <td>WD</td>\n",
       "      <td>Normal</td>\n",
       "      <td>189900</td>\n",
       "      <td>-93.638933</td>\n",
       "      <td>42.060899</td>\n",
       "    </tr>\n",
       "  </tbody>\n",
       "</table>\n",
       "<p>5 rows × 81 columns</p>\n",
       "</div>"
      ],
      "text/plain": [
       "                           MS_SubClass                 MS_Zoning  \\\n",
       "0  One_Story_1946_and_Newer_All_Styles   Residential_Low_Density   \n",
       "1  One_Story_1946_and_Newer_All_Styles  Residential_High_Density   \n",
       "2  One_Story_1946_and_Newer_All_Styles   Residential_Low_Density   \n",
       "3  One_Story_1946_and_Newer_All_Styles   Residential_Low_Density   \n",
       "4             Two_Story_1946_and_Newer   Residential_Low_Density   \n",
       "\n",
       "   Lot_Frontage  Lot_Area Street            Alley           Lot_Shape  \\\n",
       "0           141     31770   Pave  No_Alley_Access  Slightly_Irregular   \n",
       "1            80     11622   Pave  No_Alley_Access             Regular   \n",
       "2            81     14267   Pave  No_Alley_Access  Slightly_Irregular   \n",
       "3            93     11160   Pave  No_Alley_Access             Regular   \n",
       "4            74     13830   Pave  No_Alley_Access  Slightly_Irregular   \n",
       "\n",
       "  Land_Contour Utilities Lot_Config  ...            Fence Misc_Feature  \\\n",
       "0          Lvl    AllPub     Corner  ...         No_Fence         None   \n",
       "1          Lvl    AllPub     Inside  ...  Minimum_Privacy         None   \n",
       "2          Lvl    AllPub     Corner  ...         No_Fence         Gar2   \n",
       "3          Lvl    AllPub     Corner  ...         No_Fence         None   \n",
       "4          Lvl    AllPub     Inside  ...  Minimum_Privacy         None   \n",
       "\n",
       "  Misc_Val Mo_Sold Year_Sold Sale_Type Sale_Condition Sale_Price  Longitude  \\\n",
       "0        0       5      2010       WD          Normal     215000 -93.619754   \n",
       "1        0       6      2010       WD          Normal     105000 -93.619756   \n",
       "2    12500       6      2010       WD          Normal     172000 -93.619387   \n",
       "3        0       4      2010       WD          Normal     244000 -93.617320   \n",
       "4        0       3      2010       WD          Normal     189900 -93.638933   \n",
       "\n",
       "    Latitude  \n",
       "0  42.054035  \n",
       "1  42.053014  \n",
       "2  42.052659  \n",
       "3  42.051245  \n",
       "4  42.060899  \n",
       "\n",
       "[5 rows x 81 columns]"
      ]
     },
     "execution_count": 16,
     "metadata": {},
     "output_type": "execute_result"
    }
   ],
   "source": [
    "ames = pd.read_csv('ames.csv')\n",
    "ames.head()"
   ]
  },
  {
   "cell_type": "code",
   "execution_count": 17,
   "metadata": {
    "scrolled": true
   },
   "outputs": [
    {
     "data": {
      "text/html": [
       "<div>\n",
       "<style scoped>\n",
       "    .dataframe tbody tr th:only-of-type {\n",
       "        vertical-align: middle;\n",
       "    }\n",
       "\n",
       "    .dataframe tbody tr th {\n",
       "        vertical-align: top;\n",
       "    }\n",
       "\n",
       "    .dataframe thead th {\n",
       "        text-align: right;\n",
       "    }\n",
       "</style>\n",
       "<table border=\"1\" class=\"dataframe\">\n",
       "  <thead>\n",
       "    <tr style=\"text-align: right;\">\n",
       "      <th></th>\n",
       "      <th>Lot_Frontage</th>\n",
       "      <th>Lot_Area</th>\n",
       "      <th>Year_Built</th>\n",
       "      <th>Year_Remod_Add</th>\n",
       "      <th>Mas_Vnr_Area</th>\n",
       "      <th>BsmtFin_SF_1</th>\n",
       "      <th>BsmtFin_SF_2</th>\n",
       "      <th>Bsmt_Unf_SF</th>\n",
       "      <th>Total_Bsmt_SF</th>\n",
       "      <th>First_Flr_SF</th>\n",
       "      <th>...</th>\n",
       "      <th>Sale_Type_ConLw</th>\n",
       "      <th>Sale_Type_New</th>\n",
       "      <th>Sale_Type_Oth</th>\n",
       "      <th>Sale_Type_VWD</th>\n",
       "      <th>Sale_Type_WD</th>\n",
       "      <th>Sale_Condition_AdjLand</th>\n",
       "      <th>Sale_Condition_Alloca</th>\n",
       "      <th>Sale_Condition_Family</th>\n",
       "      <th>Sale_Condition_Normal</th>\n",
       "      <th>Sale_Condition_Partial</th>\n",
       "    </tr>\n",
       "  </thead>\n",
       "  <tbody>\n",
       "    <tr>\n",
       "      <th>0</th>\n",
       "      <td>141</td>\n",
       "      <td>31770</td>\n",
       "      <td>1960</td>\n",
       "      <td>1960</td>\n",
       "      <td>112</td>\n",
       "      <td>2</td>\n",
       "      <td>0</td>\n",
       "      <td>441</td>\n",
       "      <td>1080</td>\n",
       "      <td>1656</td>\n",
       "      <td>...</td>\n",
       "      <td>0</td>\n",
       "      <td>0</td>\n",
       "      <td>0</td>\n",
       "      <td>0</td>\n",
       "      <td>1</td>\n",
       "      <td>0</td>\n",
       "      <td>0</td>\n",
       "      <td>0</td>\n",
       "      <td>1</td>\n",
       "      <td>0</td>\n",
       "    </tr>\n",
       "    <tr>\n",
       "      <th>1</th>\n",
       "      <td>80</td>\n",
       "      <td>11622</td>\n",
       "      <td>1961</td>\n",
       "      <td>1961</td>\n",
       "      <td>0</td>\n",
       "      <td>6</td>\n",
       "      <td>144</td>\n",
       "      <td>270</td>\n",
       "      <td>882</td>\n",
       "      <td>896</td>\n",
       "      <td>...</td>\n",
       "      <td>0</td>\n",
       "      <td>0</td>\n",
       "      <td>0</td>\n",
       "      <td>0</td>\n",
       "      <td>1</td>\n",
       "      <td>0</td>\n",
       "      <td>0</td>\n",
       "      <td>0</td>\n",
       "      <td>1</td>\n",
       "      <td>0</td>\n",
       "    </tr>\n",
       "    <tr>\n",
       "      <th>2</th>\n",
       "      <td>81</td>\n",
       "      <td>14267</td>\n",
       "      <td>1958</td>\n",
       "      <td>1958</td>\n",
       "      <td>108</td>\n",
       "      <td>1</td>\n",
       "      <td>0</td>\n",
       "      <td>406</td>\n",
       "      <td>1329</td>\n",
       "      <td>1329</td>\n",
       "      <td>...</td>\n",
       "      <td>0</td>\n",
       "      <td>0</td>\n",
       "      <td>0</td>\n",
       "      <td>0</td>\n",
       "      <td>1</td>\n",
       "      <td>0</td>\n",
       "      <td>0</td>\n",
       "      <td>0</td>\n",
       "      <td>1</td>\n",
       "      <td>0</td>\n",
       "    </tr>\n",
       "    <tr>\n",
       "      <th>3</th>\n",
       "      <td>93</td>\n",
       "      <td>11160</td>\n",
       "      <td>1968</td>\n",
       "      <td>1968</td>\n",
       "      <td>0</td>\n",
       "      <td>1</td>\n",
       "      <td>0</td>\n",
       "      <td>1045</td>\n",
       "      <td>2110</td>\n",
       "      <td>2110</td>\n",
       "      <td>...</td>\n",
       "      <td>0</td>\n",
       "      <td>0</td>\n",
       "      <td>0</td>\n",
       "      <td>0</td>\n",
       "      <td>1</td>\n",
       "      <td>0</td>\n",
       "      <td>0</td>\n",
       "      <td>0</td>\n",
       "      <td>1</td>\n",
       "      <td>0</td>\n",
       "    </tr>\n",
       "    <tr>\n",
       "      <th>4</th>\n",
       "      <td>74</td>\n",
       "      <td>13830</td>\n",
       "      <td>1997</td>\n",
       "      <td>1998</td>\n",
       "      <td>0</td>\n",
       "      <td>3</td>\n",
       "      <td>0</td>\n",
       "      <td>137</td>\n",
       "      <td>928</td>\n",
       "      <td>928</td>\n",
       "      <td>...</td>\n",
       "      <td>0</td>\n",
       "      <td>0</td>\n",
       "      <td>0</td>\n",
       "      <td>0</td>\n",
       "      <td>1</td>\n",
       "      <td>0</td>\n",
       "      <td>0</td>\n",
       "      <td>0</td>\n",
       "      <td>1</td>\n",
       "      <td>0</td>\n",
       "    </tr>\n",
       "  </tbody>\n",
       "</table>\n",
       "<p>5 rows × 307 columns</p>\n",
       "</div>"
      ],
      "text/plain": [
       "   Lot_Frontage  Lot_Area  Year_Built  Year_Remod_Add  Mas_Vnr_Area  \\\n",
       "0           141     31770        1960            1960           112   \n",
       "1            80     11622        1961            1961             0   \n",
       "2            81     14267        1958            1958           108   \n",
       "3            93     11160        1968            1968             0   \n",
       "4            74     13830        1997            1998             0   \n",
       "\n",
       "   BsmtFin_SF_1  BsmtFin_SF_2  Bsmt_Unf_SF  Total_Bsmt_SF  First_Flr_SF  ...  \\\n",
       "0             2             0          441           1080          1656  ...   \n",
       "1             6           144          270            882           896  ...   \n",
       "2             1             0          406           1329          1329  ...   \n",
       "3             1             0         1045           2110          2110  ...   \n",
       "4             3             0          137            928           928  ...   \n",
       "\n",
       "   Sale_Type_ConLw  Sale_Type_New  Sale_Type_Oth  Sale_Type_VWD  \\\n",
       "0                0              0              0              0   \n",
       "1                0              0              0              0   \n",
       "2                0              0              0              0   \n",
       "3                0              0              0              0   \n",
       "4                0              0              0              0   \n",
       "\n",
       "   Sale_Type_WD   Sale_Condition_AdjLand  Sale_Condition_Alloca  \\\n",
       "0              1                       0                      0   \n",
       "1              1                       0                      0   \n",
       "2              1                       0                      0   \n",
       "3              1                       0                      0   \n",
       "4              1                       0                      0   \n",
       "\n",
       "   Sale_Condition_Family  Sale_Condition_Normal  Sale_Condition_Partial  \n",
       "0                      0                      1                       0  \n",
       "1                      0                      1                       0  \n",
       "2                      0                      1                       0  \n",
       "3                      0                      1                       0  \n",
       "4                      0                      1                       0  \n",
       "\n",
       "[5 rows x 307 columns]"
      ]
     },
     "execution_count": 17,
     "metadata": {},
     "output_type": "execute_result"
    }
   ],
   "source": [
    "df=pd.get_dummies(ames, drop_first=True)\n",
    "df.head()"
   ]
  },
  {
   "cell_type": "markdown",
   "metadata": {},
   "source": [
    "2. Use \"Sale_Price\" to create a column vector of responses (y). Create a feature matrix (X) using all of the other variables. (5 pts)"
   ]
  },
  {
   "cell_type": "code",
   "execution_count": 18,
   "metadata": {},
   "outputs": [],
   "source": [
    "X=df.drop(\"Sale_Price\", axis=1).values\n",
    "y=df.Sale_Price.values.reshape(-1, 1)"
   ]
  },
  {
   "cell_type": "code",
   "execution_count": 19,
   "metadata": {
    "scrolled": true
   },
   "outputs": [
    {
     "data": {
      "text/plain": [
       "(2930, 306)"
      ]
     },
     "execution_count": 19,
     "metadata": {},
     "output_type": "execute_result"
    }
   ],
   "source": [
    "X.shape"
   ]
  },
  {
   "cell_type": "code",
   "execution_count": 20,
   "metadata": {},
   "outputs": [
    {
     "data": {
      "text/plain": [
       "(2930, 1)"
      ]
     },
     "execution_count": 20,
     "metadata": {},
     "output_type": "execute_result"
    }
   ],
   "source": [
    "y.shape"
   ]
  },
  {
   "cell_type": "code",
   "execution_count": 79,
   "metadata": {},
   "outputs": [
    {
     "data": {
      "text/plain": [
       "array([[215000],\n",
       "       [105000],\n",
       "       [172000],\n",
       "       ...,\n",
       "       [132000],\n",
       "       [170000],\n",
       "       [188000]])"
      ]
     },
     "execution_count": 79,
     "metadata": {},
     "output_type": "execute_result"
    }
   ],
   "source": [
    "y"
   ]
  },
  {
   "cell_type": "markdown",
   "metadata": {},
   "source": [
    "3. Split the data into training, validation, and testing sets using a 60/20/20 split. Print the dimensions of each of the feature matrices. (5 pts)"
   ]
  },
  {
   "cell_type": "code",
   "execution_count": 36,
   "metadata": {},
   "outputs": [],
   "source": [
    "n = X.shape[0]  # total sample size, n\n",
    "n20 = int(.2*n) # 20% of n\n",
    "X_train, X_test, y_train, y_test = train_test_split(X, y, test_size=n20, random_state=1)\n",
    "X_train, X_valid, y_train, y_valid = train_test_split(X_train, y_train, test_size=n20, random_state=2)"
   ]
  },
  {
   "cell_type": "code",
   "execution_count": 37,
   "metadata": {},
   "outputs": [
    {
     "name": "stdout",
     "output_type": "stream",
     "text": [
      "X shapes:  (1758, 306) (586, 306) (586, 306)\n",
      "y shapes:  (1758, 1) (586, 1) (586, 1)\n"
     ]
    }
   ],
   "source": [
    "print('X shapes: ', X_train.shape, X_valid.shape, X_test.shape)\n",
    "print('y shapes: ', y_train.shape, y_valid.shape, y_test.shape)"
   ]
  },
  {
   "cell_type": "markdown",
   "metadata": {},
   "source": [
    "4. Standardize both the features and responses from the training set. Apply the appropriate transformation to the validation and test sets. (10 pts)\n",
    "\n",
    "Note: standardizing the dummy variables is optional. It's OK if you leave them as is, and it's also OK to standardize them. "
   ]
  },
  {
   "cell_type": "code",
   "execution_count": 68,
   "metadata": {},
   "outputs": [],
   "source": [
    "scaler_x = StandardScaler()\n",
    "X_train = scaler_x.fit_transform(X_train)\n",
    "X_valid = scaler_x.transform(X_valid)\n",
    "X_test = scaler_x.transform(X_test)"
   ]
  },
  {
   "cell_type": "code",
   "execution_count": 69,
   "metadata": {},
   "outputs": [],
   "source": [
    "scaler_y = StandardScaler()  \n",
    "y_train = scaler_y.fit_transform(y_train)\n",
    "y_valid = scaler_y.transform(y_valid)\n",
    "y_test = scaler_y.transform(y_test)"
   ]
  },
  {
   "cell_type": "markdown",
   "metadata": {},
   "source": [
    "5. Before we fit a neural network, we'll first try a simpler model using the Lasso. Fit a Lasso regression model to the training set using alpha=.05 as the tuning parameter. This should be a good choice assuming the data has been standardized. Calculate the mean squared error (MSE) on the training, validation, and test sets. (10 pts)\n",
    "Note: We did not use the validation set yet, so this is just another test set. We will use one when training the neural network, but we shouldn't train the Lasso with it for a fair comparison. "
   ]
  },
  {
   "cell_type": "code",
   "execution_count": 70,
   "metadata": {},
   "outputs": [
    {
     "name": "stdout",
     "output_type": "stream",
     "text": [
      "MSE of training set: 0.15662416279515554\n",
      "MSE of valid set: 0.14813466441967296\n",
      "MSE of test set: 0.11620386153587978\n"
     ]
    }
   ],
   "source": [
    "from sklearn.linear_model import Lasso\n",
    "lasso=Lasso(alpha=.05)\n",
    "lasso.fit(X_train, y_train)\n",
    "print('MSE of training set:', mean_squared_error(y_train, lasso.predict(X_train)))\n",
    "print('MSE of valid set:', mean_squared_error(y_valid, lasso.predict(X_valid)))\n",
    "print('MSE of test set:', mean_squared_error(y_test, lasso.predict(X_test)))"
   ]
  },
  {
   "cell_type": "markdown",
   "metadata": {},
   "source": [
    "6. Fit a neural network using the following architecture, and print the output from training. (15 pts) Use 2 hidden layers with 50 neurons each; Use ReLU activation functions for the hidden layers; Use a linear activation function for the output layer; Use MSE for the loss function; Use the Adam optimizer; Use 100 epochs; Use a batch size of 100."
   ]
  },
  {
   "cell_type": "code",
   "execution_count": 71,
   "metadata": {},
   "outputs": [
    {
     "name": "stdout",
     "output_type": "stream",
     "text": [
      "Model: \"sequential_7\"\n",
      "_________________________________________________________________\n",
      "Layer (type)                 Output Shape              Param #   \n",
      "=================================================================\n",
      "dense_20 (Dense)             (None, 50)                15350     \n",
      "_________________________________________________________________\n",
      "dense_21 (Dense)             (None, 50)                2550      \n",
      "_________________________________________________________________\n",
      "dense_22 (Dense)             (None, 1)                 51        \n",
      "=================================================================\n",
      "Total params: 17,951\n",
      "Trainable params: 17,951\n",
      "Non-trainable params: 0\n",
      "_________________________________________________________________\n"
     ]
    }
   ],
   "source": [
    "model1 = Sequential()\n",
    "model1.add(Dense(50, activation='relu', input_shape=(X_train.shape[1], )))\n",
    "model1.add(Dense(50, activation='relu', input_shape=(X_train.shape[1], )))\n",
    "model1.add(Dense(1, activation='linear'))\n",
    "\n",
    "model1.summary()"
   ]
  },
  {
   "cell_type": "code",
   "execution_count": 72,
   "metadata": {},
   "outputs": [],
   "source": [
    "model1.compile(optimizer='adam',\n",
    "               loss='mean_squared_error',\n",
    "              metrics=['mean_squared_error'])"
   ]
  },
  {
   "cell_type": "code",
   "execution_count": 73,
   "metadata": {},
   "outputs": [
    {
     "name": "stdout",
     "output_type": "stream",
     "text": [
      "Train on 1758 samples, validate on 586 samples\n",
      "Epoch 1/100\n",
      "1758/1758 [==============================] - 1s 325us/sample - loss: 0.6980 - mean_squared_error: 0.6980 - val_loss: 0.3967 - val_mean_squared_error: 0.3967\n",
      "Epoch 2/100\n",
      "1758/1758 [==============================] - 0s 38us/sample - loss: 0.2575 - mean_squared_error: 0.2575 - val_loss: 0.2768 - val_mean_squared_error: 0.2768\n",
      "Epoch 3/100\n",
      "1758/1758 [==============================] - 0s 38us/sample - loss: 0.1575 - mean_squared_error: 0.1575 - val_loss: 0.2409 - val_mean_squared_error: 0.2409\n",
      "Epoch 4/100\n",
      "1758/1758 [==============================] - 0s 37us/sample - loss: 0.1097 - mean_squared_error: 0.1097 - val_loss: 0.2233 - val_mean_squared_error: 0.2233\n",
      "Epoch 5/100\n",
      "1758/1758 [==============================] - 0s 38us/sample - loss: 0.0822 - mean_squared_error: 0.0822 - val_loss: 0.2143 - val_mean_squared_error: 0.2143\n",
      "Epoch 6/100\n",
      "1758/1758 [==============================] - 0s 36us/sample - loss: 0.0662 - mean_squared_error: 0.0662 - val_loss: 0.2075 - val_mean_squared_error: 0.2075\n",
      "Epoch 7/100\n",
      "1758/1758 [==============================] - 0s 37us/sample - loss: 0.0540 - mean_squared_error: 0.0540 - val_loss: 0.2062 - val_mean_squared_error: 0.2062\n",
      "Epoch 8/100\n",
      "1758/1758 [==============================] - 0s 37us/sample - loss: 0.0440 - mean_squared_error: 0.0440 - val_loss: 0.1997 - val_mean_squared_error: 0.1997\n",
      "Epoch 9/100\n",
      "1758/1758 [==============================] - 0s 41us/sample - loss: 0.0372 - mean_squared_error: 0.0372 - val_loss: 0.2028 - val_mean_squared_error: 0.2028\n",
      "Epoch 10/100\n",
      "1758/1758 [==============================] - 0s 34us/sample - loss: 0.0318 - mean_squared_error: 0.0318 - val_loss: 0.1979 - val_mean_squared_error: 0.1979\n",
      "Epoch 11/100\n",
      "1758/1758 [==============================] - 0s 34us/sample - loss: 0.0273 - mean_squared_error: 0.0273 - val_loss: 0.1967 - val_mean_squared_error: 0.1967\n",
      "Epoch 12/100\n",
      "1758/1758 [==============================] - 0s 36us/sample - loss: 0.0242 - mean_squared_error: 0.0242 - val_loss: 0.1961 - val_mean_squared_error: 0.1961\n",
      "Epoch 13/100\n",
      "1758/1758 [==============================] - 0s 35us/sample - loss: 0.0209 - mean_squared_error: 0.0209 - val_loss: 0.1930 - val_mean_squared_error: 0.1930\n",
      "Epoch 14/100\n",
      "1758/1758 [==============================] - 0s 35us/sample - loss: 0.0190 - mean_squared_error: 0.0190 - val_loss: 0.1927 - val_mean_squared_error: 0.1927\n",
      "Epoch 15/100\n",
      "1758/1758 [==============================] - 0s 37us/sample - loss: 0.0171 - mean_squared_error: 0.0171 - val_loss: 0.1923 - val_mean_squared_error: 0.1923\n",
      "Epoch 16/100\n",
      "1758/1758 [==============================] - 0s 37us/sample - loss: 0.0156 - mean_squared_error: 0.0156 - val_loss: 0.1899 - val_mean_squared_error: 0.1899\n",
      "Epoch 17/100\n",
      "1758/1758 [==============================] - 0s 42us/sample - loss: 0.0146 - mean_squared_error: 0.0146 - val_loss: 0.1887 - val_mean_squared_error: 0.1887\n",
      "Epoch 18/100\n",
      "1758/1758 [==============================] - 0s 50us/sample - loss: 0.0152 - mean_squared_error: 0.0152 - val_loss: 0.1893 - val_mean_squared_error: 0.1893\n",
      "Epoch 19/100\n",
      "1758/1758 [==============================] - 0s 37us/sample - loss: 0.0138 - mean_squared_error: 0.0138 - val_loss: 0.1886 - val_mean_squared_error: 0.1886\n",
      "Epoch 20/100\n",
      "1758/1758 [==============================] - 0s 46us/sample - loss: 0.0144 - mean_squared_error: 0.0144 - val_loss: 0.1883 - val_mean_squared_error: 0.1883\n",
      "Epoch 21/100\n",
      "1758/1758 [==============================] - 0s 55us/sample - loss: 0.0147 - mean_squared_error: 0.0147 - val_loss: 0.1868 - val_mean_squared_error: 0.1868\n",
      "Epoch 22/100\n",
      "1758/1758 [==============================] - 0s 57us/sample - loss: 0.0136 - mean_squared_error: 0.0136 - val_loss: 0.1876 - val_mean_squared_error: 0.1876\n",
      "Epoch 23/100\n",
      "1758/1758 [==============================] - 0s 67us/sample - loss: 0.0107 - mean_squared_error: 0.0107 - val_loss: 0.1859 - val_mean_squared_error: 0.1859\n",
      "Epoch 24/100\n",
      "1758/1758 [==============================] - 0s 52us/sample - loss: 0.0106 - mean_squared_error: 0.0106 - val_loss: 0.1850 - val_mean_squared_error: 0.1850\n",
      "Epoch 25/100\n",
      "1758/1758 [==============================] - 0s 54us/sample - loss: 0.0106 - mean_squared_error: 0.0106 - val_loss: 0.1847 - val_mean_squared_error: 0.1847\n",
      "Epoch 26/100\n",
      "1758/1758 [==============================] - 0s 47us/sample - loss: 0.0116 - mean_squared_error: 0.0116 - val_loss: 0.1873 - val_mean_squared_error: 0.1873\n",
      "Epoch 27/100\n",
      "1758/1758 [==============================] - 0s 57us/sample - loss: 0.0101 - mean_squared_error: 0.0101 - val_loss: 0.1855 - val_mean_squared_error: 0.1855\n",
      "Epoch 28/100\n",
      "1758/1758 [==============================] - 0s 61us/sample - loss: 0.0090 - mean_squared_error: 0.0090 - val_loss: 0.1840 - val_mean_squared_error: 0.1840\n",
      "Epoch 29/100\n",
      "1758/1758 [==============================] - 0s 42us/sample - loss: 0.0086 - mean_squared_error: 0.0086 - val_loss: 0.1831 - val_mean_squared_error: 0.1831\n",
      "Epoch 30/100\n",
      "1758/1758 [==============================] - 0s 56us/sample - loss: 0.0073 - mean_squared_error: 0.0073 - val_loss: 0.1838 - val_mean_squared_error: 0.1838\n",
      "Epoch 31/100\n",
      "1758/1758 [==============================] - 0s 56us/sample - loss: 0.0072 - mean_squared_error: 0.0072 - val_loss: 0.1839 - val_mean_squared_error: 0.1839\n",
      "Epoch 32/100\n",
      "1758/1758 [==============================] - 0s 54us/sample - loss: 0.0071 - mean_squared_error: 0.0071 - val_loss: 0.1835 - val_mean_squared_error: 0.1835\n",
      "Epoch 33/100\n",
      "1758/1758 [==============================] - 0s 54us/sample - loss: 0.0061 - mean_squared_error: 0.0061 - val_loss: 0.1828 - val_mean_squared_error: 0.1828\n",
      "Epoch 34/100\n",
      "1758/1758 [==============================] - 0s 49us/sample - loss: 0.0060 - mean_squared_error: 0.0060 - val_loss: 0.1857 - val_mean_squared_error: 0.1857\n",
      "Epoch 35/100\n",
      "1758/1758 [==============================] - 0s 53us/sample - loss: 0.0061 - mean_squared_error: 0.0061 - val_loss: 0.1829 - val_mean_squared_error: 0.1829\n",
      "Epoch 36/100\n",
      "1758/1758 [==============================] - 0s 38us/sample - loss: 0.0069 - mean_squared_error: 0.0069 - val_loss: 0.1876 - val_mean_squared_error: 0.1876\n",
      "Epoch 37/100\n",
      "1758/1758 [==============================] - 0s 37us/sample - loss: 0.0082 - mean_squared_error: 0.0082 - val_loss: 0.1797 - val_mean_squared_error: 0.1797\n",
      "Epoch 38/100\n",
      "1758/1758 [==============================] - 0s 35us/sample - loss: 0.0091 - mean_squared_error: 0.0091 - val_loss: 0.1850 - val_mean_squared_error: 0.1850\n",
      "Epoch 39/100\n",
      "1758/1758 [==============================] - 0s 39us/sample - loss: 0.0083 - mean_squared_error: 0.0083 - val_loss: 0.1800 - val_mean_squared_error: 0.1800\n",
      "Epoch 40/100\n",
      "1758/1758 [==============================] - 0s 36us/sample - loss: 0.0086 - mean_squared_error: 0.0086 - val_loss: 0.1833 - val_mean_squared_error: 0.1833\n",
      "Epoch 41/100\n",
      "1758/1758 [==============================] - 0s 35us/sample - loss: 0.0083 - mean_squared_error: 0.0083 - val_loss: 0.1806 - val_mean_squared_error: 0.1806\n",
      "Epoch 42/100\n",
      "1758/1758 [==============================] - 0s 37us/sample - loss: 0.0068 - mean_squared_error: 0.0068 - val_loss: 0.1809 - val_mean_squared_error: 0.1809\n",
      "Epoch 43/100\n",
      "1758/1758 [==============================] - 0s 37us/sample - loss: 0.0052 - mean_squared_error: 0.0052 - val_loss: 0.1808 - val_mean_squared_error: 0.1808\n",
      "Epoch 44/100\n",
      "1758/1758 [==============================] - 0s 35us/sample - loss: 0.0047 - mean_squared_error: 0.0047 - val_loss: 0.1805 - val_mean_squared_error: 0.1805\n",
      "Epoch 45/100\n",
      "1758/1758 [==============================] - 0s 34us/sample - loss: 0.0043 - mean_squared_error: 0.0043 - val_loss: 0.1813 - val_mean_squared_error: 0.1813\n",
      "Epoch 46/100\n",
      "1758/1758 [==============================] - 0s 34us/sample - loss: 0.0040 - mean_squared_error: 0.0040 - val_loss: 0.1805 - val_mean_squared_error: 0.1805\n",
      "Epoch 47/100\n",
      "1758/1758 [==============================] - 0s 47us/sample - loss: 0.0035 - mean_squared_error: 0.0035 - val_loss: 0.1803 - val_mean_squared_error: 0.1803\n",
      "Epoch 48/100\n",
      "1758/1758 [==============================] - 0s 37us/sample - loss: 0.0031 - mean_squared_error: 0.0031 - val_loss: 0.1821 - val_mean_squared_error: 0.1821\n",
      "Epoch 49/100\n",
      "1758/1758 [==============================] - 0s 47us/sample - loss: 0.0031 - mean_squared_error: 0.0031 - val_loss: 0.1809 - val_mean_squared_error: 0.1809\n",
      "Epoch 50/100\n",
      "1758/1758 [==============================] - 0s 63us/sample - loss: 0.0031 - mean_squared_error: 0.0031 - val_loss: 0.1810 - val_mean_squared_error: 0.1810\n",
      "Epoch 51/100\n",
      "1758/1758 [==============================] - 0s 51us/sample - loss: 0.0031 - mean_squared_error: 0.0031 - val_loss: 0.1812 - val_mean_squared_error: 0.1812\n",
      "Epoch 52/100\n",
      "1758/1758 [==============================] - 0s 56us/sample - loss: 0.0030 - mean_squared_error: 0.0030 - val_loss: 0.1813 - val_mean_squared_error: 0.1813\n",
      "Epoch 53/100\n",
      "1758/1758 [==============================] - 0s 37us/sample - loss: 0.0030 - mean_squared_error: 0.0030 - val_loss: 0.1800 - val_mean_squared_error: 0.1800\n",
      "Epoch 54/100\n",
      "1758/1758 [==============================] - 0s 55us/sample - loss: 0.0028 - mean_squared_error: 0.0028 - val_loss: 0.1826 - val_mean_squared_error: 0.1826\n",
      "Epoch 55/100\n",
      "1758/1758 [==============================] - 0s 49us/sample - loss: 0.0029 - mean_squared_error: 0.0029 - val_loss: 0.1814 - val_mean_squared_error: 0.1814\n",
      "Epoch 56/100\n",
      "1758/1758 [==============================] - 0s 58us/sample - loss: 0.0039 - mean_squared_error: 0.0039 - val_loss: 0.1827 - val_mean_squared_error: 0.1827\n",
      "Epoch 57/100\n",
      "1758/1758 [==============================] - 0s 41us/sample - loss: 0.0072 - mean_squared_error: 0.0072 - val_loss: 0.1870 - val_mean_squared_error: 0.1870\n",
      "Epoch 58/100\n",
      "1758/1758 [==============================] - 0s 53us/sample - loss: 0.0052 - mean_squared_error: 0.0052 - val_loss: 0.1806 - val_mean_squared_error: 0.1806\n",
      "Epoch 59/100\n",
      "1758/1758 [==============================] - 0s 59us/sample - loss: 0.0058 - mean_squared_error: 0.0058 - val_loss: 0.1816 - val_mean_squared_error: 0.1816\n",
      "Epoch 60/100\n",
      "1758/1758 [==============================] - 0s 48us/sample - loss: 0.0081 - mean_squared_error: 0.0081 - val_loss: 0.1836 - val_mean_squared_error: 0.1836\n",
      "Epoch 61/100\n",
      "1758/1758 [==============================] - 0s 43us/sample - loss: 0.0120 - mean_squared_error: 0.0120 - val_loss: 0.1828 - val_mean_squared_error: 0.1828\n",
      "Epoch 62/100\n",
      "1758/1758 [==============================] - 0s 45us/sample - loss: 0.0115 - mean_squared_error: 0.0115 - val_loss: 0.1823 - val_mean_squared_error: 0.1823\n",
      "Epoch 63/100\n",
      "1758/1758 [==============================] - 0s 56us/sample - loss: 0.0115 - mean_squared_error: 0.0115 - val_loss: 0.1808 - val_mean_squared_error: 0.1808\n",
      "Epoch 64/100\n",
      "1758/1758 [==============================] - 0s 54us/sample - loss: 0.0121 - mean_squared_error: 0.0121 - val_loss: 0.1797 - val_mean_squared_error: 0.1797\n",
      "Epoch 65/100\n",
      "1758/1758 [==============================] - 0s 42us/sample - loss: 0.0124 - mean_squared_error: 0.0124 - val_loss: 0.1808 - val_mean_squared_error: 0.1808\n",
      "Epoch 66/100\n",
      "1758/1758 [==============================] - 0s 44us/sample - loss: 0.0124 - mean_squared_error: 0.0124 - val_loss: 0.1794 - val_mean_squared_error: 0.1794\n",
      "Epoch 67/100\n",
      "1758/1758 [==============================] - 0s 59us/sample - loss: 0.0091 - mean_squared_error: 0.0091 - val_loss: 0.1795 - val_mean_squared_error: 0.1795\n",
      "Epoch 68/100\n",
      "1758/1758 [==============================] - 0s 43us/sample - loss: 0.0118 - mean_squared_error: 0.0118 - val_loss: 0.1747 - val_mean_squared_error: 0.1747\n",
      "Epoch 69/100\n",
      "1758/1758 [==============================] - 0s 49us/sample - loss: 0.0075 - mean_squared_error: 0.0075 - val_loss: 0.1756 - val_mean_squared_error: 0.1756\n",
      "Epoch 70/100\n",
      "1758/1758 [==============================] - 0s 47us/sample - loss: 0.0064 - mean_squared_error: 0.0064 - val_loss: 0.1724 - val_mean_squared_error: 0.1724\n",
      "Epoch 71/100\n",
      "1758/1758 [==============================] - 0s 52us/sample - loss: 0.0045 - mean_squared_error: 0.0045 - val_loss: 0.1764 - val_mean_squared_error: 0.1764\n",
      "Epoch 72/100\n",
      "1758/1758 [==============================] - 0s 56us/sample - loss: 0.0038 - mean_squared_error: 0.0038 - val_loss: 0.1718 - val_mean_squared_error: 0.1718\n",
      "Epoch 73/100\n",
      "1758/1758 [==============================] - 0s 48us/sample - loss: 0.0045 - mean_squared_error: 0.0045 - val_loss: 0.1749 - val_mean_squared_error: 0.1749\n",
      "Epoch 74/100\n",
      "1758/1758 [==============================] - 0s 54us/sample - loss: 0.0032 - mean_squared_error: 0.0032 - val_loss: 0.1721 - val_mean_squared_error: 0.1721\n",
      "Epoch 75/100\n",
      "1758/1758 [==============================] - 0s 66us/sample - loss: 0.0024 - mean_squared_error: 0.0024 - val_loss: 0.1732 - val_mean_squared_error: 0.1732\n",
      "Epoch 76/100\n",
      "1758/1758 [==============================] - 0s 45us/sample - loss: 0.0024 - mean_squared_error: 0.0024 - val_loss: 0.1751 - val_mean_squared_error: 0.1751\n",
      "Epoch 77/100\n",
      "1758/1758 [==============================] - 0s 38us/sample - loss: 0.0021 - mean_squared_error: 0.0021 - val_loss: 0.1743 - val_mean_squared_error: 0.1743\n",
      "Epoch 78/100\n",
      "1758/1758 [==============================] - 0s 49us/sample - loss: 0.0021 - mean_squared_error: 0.0021 - val_loss: 0.1734 - val_mean_squared_error: 0.1734\n",
      "Epoch 79/100\n",
      "1758/1758 [==============================] - 0s 54us/sample - loss: 0.0022 - mean_squared_error: 0.0022 - val_loss: 0.1750 - val_mean_squared_error: 0.1750\n",
      "Epoch 80/100\n",
      "1758/1758 [==============================] - 0s 55us/sample - loss: 0.0023 - mean_squared_error: 0.0023 - val_loss: 0.1745 - val_mean_squared_error: 0.1745\n",
      "Epoch 81/100\n",
      "1758/1758 [==============================] - 0s 47us/sample - loss: 0.0022 - mean_squared_error: 0.0022 - val_loss: 0.1734 - val_mean_squared_error: 0.1734\n",
      "Epoch 82/100\n",
      "1758/1758 [==============================] - 0s 49us/sample - loss: 0.0019 - mean_squared_error: 0.0019 - val_loss: 0.1738 - val_mean_squared_error: 0.1738\n",
      "Epoch 83/100\n",
      "1758/1758 [==============================] - 0s 58us/sample - loss: 0.0018 - mean_squared_error: 0.0018 - val_loss: 0.1732 - val_mean_squared_error: 0.1732\n",
      "Epoch 84/100\n",
      "1758/1758 [==============================] - 0s 50us/sample - loss: 0.0019 - mean_squared_error: 0.0019 - val_loss: 0.1755 - val_mean_squared_error: 0.1755\n",
      "Epoch 85/100\n",
      "1758/1758 [==============================] - 0s 49us/sample - loss: 0.0016 - mean_squared_error: 0.0016 - val_loss: 0.1728 - val_mean_squared_error: 0.1728\n",
      "Epoch 86/100\n",
      "1758/1758 [==============================] - 0s 44us/sample - loss: 0.0016 - mean_squared_error: 0.0016 - val_loss: 0.1754 - val_mean_squared_error: 0.1754\n",
      "Epoch 87/100\n",
      "1758/1758 [==============================] - 0s 57us/sample - loss: 0.0016 - mean_squared_error: 0.0016 - val_loss: 0.1727 - val_mean_squared_error: 0.1727\n",
      "Epoch 88/100\n",
      "1758/1758 [==============================] - 0s 50us/sample - loss: 0.0014 - mean_squared_error: 0.0014 - val_loss: 0.1752 - val_mean_squared_error: 0.1752\n",
      "Epoch 89/100\n",
      "1758/1758 [==============================] - 0s 50us/sample - loss: 0.0014 - mean_squared_error: 0.0014 - val_loss: 0.1739 - val_mean_squared_error: 0.1739\n",
      "Epoch 90/100\n",
      "1758/1758 [==============================] - 0s 46us/sample - loss: 0.0014 - mean_squared_error: 0.0014 - val_loss: 0.1744 - val_mean_squared_error: 0.1744\n",
      "Epoch 91/100\n",
      "1758/1758 [==============================] - 0s 64us/sample - loss: 0.0015 - mean_squared_error: 0.0015 - val_loss: 0.1749 - val_mean_squared_error: 0.1749\n",
      "Epoch 92/100\n",
      "1758/1758 [==============================] - 0s 50us/sample - loss: 0.0023 - mean_squared_error: 0.0023 - val_loss: 0.1751 - val_mean_squared_error: 0.1751\n",
      "Epoch 93/100\n",
      "1758/1758 [==============================] - 0s 47us/sample - loss: 0.0027 - mean_squared_error: 0.0027 - val_loss: 0.1769 - val_mean_squared_error: 0.1769\n",
      "Epoch 94/100\n",
      "1758/1758 [==============================] - 0s 50us/sample - loss: 0.0031 - mean_squared_error: 0.0031 - val_loss: 0.1741 - val_mean_squared_error: 0.1741\n",
      "Epoch 95/100\n",
      "1758/1758 [==============================] - 0s 53us/sample - loss: 0.0033 - mean_squared_error: 0.0033 - val_loss: 0.1749 - val_mean_squared_error: 0.1749\n",
      "Epoch 96/100\n",
      "1758/1758 [==============================] - 0s 50us/sample - loss: 0.0034 - mean_squared_error: 0.0034 - val_loss: 0.1747 - val_mean_squared_error: 0.1747\n",
      "Epoch 97/100\n"
     ]
    },
    {
     "name": "stdout",
     "output_type": "stream",
     "text": [
      "1758/1758 [==============================] - 0s 51us/sample - loss: 0.0029 - mean_squared_error: 0.0029 - val_loss: 0.1737 - val_mean_squared_error: 0.1737\n",
      "Epoch 98/100\n",
      "1758/1758 [==============================] - 0s 47us/sample - loss: 0.0028 - mean_squared_error: 0.0028 - val_loss: 0.1749 - val_mean_squared_error: 0.1749\n",
      "Epoch 99/100\n",
      "1758/1758 [==============================] - 0s 57us/sample - loss: 0.0030 - mean_squared_error: 0.0030 - val_loss: 0.1728 - val_mean_squared_error: 0.1728\n",
      "Epoch 100/100\n",
      "1758/1758 [==============================] - 0s 41us/sample - loss: 0.0037 - mean_squared_error: 0.0037 - val_loss: 0.1742 - val_mean_squared_error: 0.1742\n"
     ]
    }
   ],
   "source": [
    "history1 = model1.fit(X_train, y_train, epochs=100, batch_size=100,\n",
    "                     validation_data=(X_valid, y_valid))"
   ]
  },
  {
   "cell_type": "markdown",
   "metadata": {},
   "source": [
    "7. Print the MSE from the test set using the model in (6). How does this compare to the Lasso? (5 pts)"
   ]
  },
  {
   "cell_type": "code",
   "execution_count": 74,
   "metadata": {},
   "outputs": [
    {
     "name": "stdout",
     "output_type": "stream",
     "text": [
      "MSE of test set: 0.13776470854712644\n"
     ]
    }
   ],
   "source": [
    "print('MSE of test set:', mean_squared_error(y_test, model1.predict(X_test)))"
   ]
  },
  {
   "cell_type": "code",
   "execution_count": 106,
   "metadata": {},
   "outputs": [
    {
     "name": "stdout",
     "output_type": "stream",
     "text": [
      "MSE ratio of model1 to Lasso model: 1.1855432919893925\n"
     ]
    }
   ],
   "source": [
    "print('MSE ratio of model1 to Lasso model:', mean_squared_error(y_test, model1.predict(X_test))/mean_squared_error(y_test, lasso.predict(X_test)))"
   ]
  },
  {
   "cell_type": "markdown",
   "metadata": {},
   "source": [
    "Answer: The MSE is a little bit larger than Lasso"
   ]
  },
  {
   "cell_type": "markdown",
   "metadata": {},
   "source": [
    "8. Optimize the neural network you fit in Q6 to get a better MSE than the Lasso model. You should use the validation set to ensure you're not overfitting. Print the output from training this model. Consider changing the following components to improve performance (it's not required to change all of these). (20 pts)\n",
    "Number of layers;\n",
    "Number of neurons per layer;\n",
    "Number of epochs and batch size;\n",
    "Activation functions of hidden layers;\n",
    "Adding regularization (Dropout layers, L1/L2 penalties, early stopping).\n",
    "Note: if for some reason the neural net from Q6 is already better than the Lasso model, then you should instead attempt to reduce the neural net's test MSE by 1%. "
   ]
  },
  {
   "cell_type": "code",
   "execution_count": 1,
   "metadata": {},
   "outputs": [
    {
     "ename": "NameError",
     "evalue": "name 'Sequential' is not defined",
     "output_type": "error",
     "traceback": [
      "\u001b[0;31m---------------------------------------------------------------------------\u001b[0m",
      "\u001b[0;31mNameError\u001b[0m                                 Traceback (most recent call last)",
      "\u001b[0;32m<ipython-input-1-bc6c12ab2e18>\u001b[0m in \u001b[0;36m<module>\u001b[0;34m\u001b[0m\n\u001b[0;32m----> 1\u001b[0;31m \u001b[0mmodel2\u001b[0m \u001b[0;34m=\u001b[0m \u001b[0mSequential\u001b[0m\u001b[0;34m(\u001b[0m\u001b[0;34m)\u001b[0m\u001b[0;34m\u001b[0m\u001b[0;34m\u001b[0m\u001b[0m\n\u001b[0m\u001b[1;32m      2\u001b[0m \u001b[0mmodel2\u001b[0m\u001b[0;34m.\u001b[0m\u001b[0madd\u001b[0m\u001b[0;34m(\u001b[0m\u001b[0mDense\u001b[0m\u001b[0;34m(\u001b[0m\u001b[0;36m50\u001b[0m\u001b[0;34m,\u001b[0m \u001b[0mactivation\u001b[0m\u001b[0;34m=\u001b[0m\u001b[0;34m'relu'\u001b[0m\u001b[0;34m,\u001b[0m \u001b[0minput_shape\u001b[0m\u001b[0;34m=\u001b[0m\u001b[0;34m(\u001b[0m\u001b[0mX_train\u001b[0m\u001b[0;34m.\u001b[0m\u001b[0mshape\u001b[0m\u001b[0;34m[\u001b[0m\u001b[0;36m1\u001b[0m\u001b[0;34m]\u001b[0m\u001b[0;34m,\u001b[0m \u001b[0;34m)\u001b[0m\u001b[0;34m)\u001b[0m\u001b[0;34m)\u001b[0m\u001b[0;34m\u001b[0m\u001b[0;34m\u001b[0m\u001b[0m\n\u001b[1;32m      3\u001b[0m \u001b[0mmodel2\u001b[0m\u001b[0;34m.\u001b[0m\u001b[0madd\u001b[0m\u001b[0;34m(\u001b[0m\u001b[0mDense\u001b[0m\u001b[0;34m(\u001b[0m\u001b[0;36m50\u001b[0m\u001b[0;34m,\u001b[0m \u001b[0mactivation\u001b[0m\u001b[0;34m=\u001b[0m\u001b[0;34m'relu'\u001b[0m\u001b[0;34m,\u001b[0m  \u001b[0minput_shape\u001b[0m\u001b[0;34m=\u001b[0m\u001b[0;34m(\u001b[0m\u001b[0mX_train\u001b[0m\u001b[0;34m.\u001b[0m\u001b[0mshape\u001b[0m\u001b[0;34m[\u001b[0m\u001b[0;36m1\u001b[0m\u001b[0;34m]\u001b[0m\u001b[0;34m,\u001b[0m \u001b[0;34m)\u001b[0m\u001b[0;34m)\u001b[0m\u001b[0;34m)\u001b[0m\u001b[0;34m\u001b[0m\u001b[0;34m\u001b[0m\u001b[0m\n\u001b[1;32m      4\u001b[0m \u001b[0;31m#model2.add(Dense(100, activation='relu', input_shape=(X_train.shape[1], )))\u001b[0m\u001b[0;34m\u001b[0m\u001b[0;34m\u001b[0m\u001b[0;34m\u001b[0m\u001b[0m\n\u001b[1;32m      5\u001b[0m \u001b[0mmodel2\u001b[0m\u001b[0;34m.\u001b[0m\u001b[0madd\u001b[0m\u001b[0;34m(\u001b[0m\u001b[0mDropout\u001b[0m\u001b[0;34m(\u001b[0m\u001b[0;36m0.5\u001b[0m\u001b[0;34m,\u001b[0m \u001b[0minput_shape\u001b[0m\u001b[0;34m=\u001b[0m\u001b[0;34m(\u001b[0m\u001b[0mX_train\u001b[0m\u001b[0;34m.\u001b[0m\u001b[0mshape\u001b[0m\u001b[0;34m[\u001b[0m\u001b[0;36m1\u001b[0m\u001b[0;34m]\u001b[0m\u001b[0;34m,\u001b[0m \u001b[0;34m)\u001b[0m\u001b[0;34m)\u001b[0m\u001b[0;34m)\u001b[0m\u001b[0;34m\u001b[0m\u001b[0;34m\u001b[0m\u001b[0m\n",
      "\u001b[0;31mNameError\u001b[0m: name 'Sequential' is not defined"
     ]
    }
   ],
   "source": [
    "model2 = Sequential()\n",
    "model2.add(Dense(50, activation='relu', input_shape=(X_train.shape[1], )))\n",
    "model2.add(Dense(50, activation='relu',  input_shape=(X_train.shape[1], )))\n",
    "#model2.add(Dense(100, activation='relu', input_shape=(X_train.shape[1], )))\n",
    "model2.add(Dropout(0.5, input_shape=(X_train.shape[1], )))\n",
    "model2.add(Dense(1, activation='linear'))\n",
    "\n",
    "model2.summary()"
   ]
  },
  {
   "cell_type": "code",
   "execution_count": 99,
   "metadata": {},
   "outputs": [],
   "source": [
    "model2.compile(optimizer='adam',\n",
    "               loss='mean_squared_error',\n",
    "              metrics=['mean_squared_error'])\n",
    "#early_stopping = EarlyStopping(monitor='val_loss', patience=10)"
   ]
  },
  {
   "cell_type": "code",
   "execution_count": 100,
   "metadata": {
    "scrolled": false
   },
   "outputs": [
    {
     "name": "stdout",
     "output_type": "stream",
     "text": [
      "Train on 1758 samples, validate on 586 samples\n",
      "Epoch 1/200\n",
      "1758/1758 [==============================] - 1s 399us/sample - loss: 1.6670 - mean_squared_error: 1.6670 - val_loss: 0.6975 - val_mean_squared_error: 0.6975\n",
      "Epoch 2/200\n",
      "1758/1758 [==============================] - 0s 29us/sample - loss: 1.0358 - mean_squared_error: 1.0358 - val_loss: 0.4688 - val_mean_squared_error: 0.4688\n",
      "Epoch 3/200\n",
      "1758/1758 [==============================] - 0s 24us/sample - loss: 0.7212 - mean_squared_error: 0.7212 - val_loss: 0.3471 - val_mean_squared_error: 0.3471\n",
      "Epoch 4/200\n",
      "1758/1758 [==============================] - 0s 27us/sample - loss: 0.6353 - mean_squared_error: 0.6353 - val_loss: 0.3212 - val_mean_squared_error: 0.3212\n",
      "Epoch 5/200\n",
      "1758/1758 [==============================] - 0s 29us/sample - loss: 0.5533 - mean_squared_error: 0.5533 - val_loss: 0.2951 - val_mean_squared_error: 0.2951\n",
      "Epoch 6/200\n",
      "1758/1758 [==============================] - 0s 26us/sample - loss: 0.4236 - mean_squared_error: 0.4236 - val_loss: 0.2677 - val_mean_squared_error: 0.2677\n",
      "Epoch 7/200\n",
      "1758/1758 [==============================] - 0s 28us/sample - loss: 0.4353 - mean_squared_error: 0.4353 - val_loss: 0.2500 - val_mean_squared_error: 0.2500\n",
      "Epoch 8/200\n",
      "1758/1758 [==============================] - 0s 34us/sample - loss: 0.3595 - mean_squared_error: 0.3595 - val_loss: 0.2475 - val_mean_squared_error: 0.2475\n",
      "Epoch 9/200\n",
      "1758/1758 [==============================] - 0s 26us/sample - loss: 0.3272 - mean_squared_error: 0.3272 - val_loss: 0.2322 - val_mean_squared_error: 0.2322\n",
      "Epoch 10/200\n",
      "1758/1758 [==============================] - 0s 25us/sample - loss: 0.2806 - mean_squared_error: 0.2806 - val_loss: 0.2224 - val_mean_squared_error: 0.2224\n",
      "Epoch 11/200\n",
      "1758/1758 [==============================] - 0s 29us/sample - loss: 0.3017 - mean_squared_error: 0.3017 - val_loss: 0.2136 - val_mean_squared_error: 0.2136\n",
      "Epoch 12/200\n",
      "1758/1758 [==============================] - 0s 27us/sample - loss: 0.2662 - mean_squared_error: 0.2662 - val_loss: 0.2066 - val_mean_squared_error: 0.2066\n",
      "Epoch 13/200\n",
      "1758/1758 [==============================] - 0s 29us/sample - loss: 0.2514 - mean_squared_error: 0.2514 - val_loss: 0.1980 - val_mean_squared_error: 0.1980\n",
      "Epoch 14/200\n",
      "1758/1758 [==============================] - 0s 32us/sample - loss: 0.2322 - mean_squared_error: 0.2322 - val_loss: 0.1980 - val_mean_squared_error: 0.1980\n",
      "Epoch 15/200\n",
      "1758/1758 [==============================] - 0s 25us/sample - loss: 0.2046 - mean_squared_error: 0.2046 - val_loss: 0.1977 - val_mean_squared_error: 0.1977\n",
      "Epoch 16/200\n",
      "1758/1758 [==============================] - 0s 24us/sample - loss: 0.2115 - mean_squared_error: 0.2115 - val_loss: 0.1879 - val_mean_squared_error: 0.1879\n",
      "Epoch 17/200\n",
      "1758/1758 [==============================] - 0s 31us/sample - loss: 0.2089 - mean_squared_error: 0.2089 - val_loss: 0.1791 - val_mean_squared_error: 0.1791\n",
      "Epoch 18/200\n",
      "1758/1758 [==============================] - 0s 26us/sample - loss: 0.2027 - mean_squared_error: 0.2027 - val_loss: 0.1751 - val_mean_squared_error: 0.1751\n",
      "Epoch 19/200\n",
      "1758/1758 [==============================] - 0s 26us/sample - loss: 0.1902 - mean_squared_error: 0.1902 - val_loss: 0.1708 - val_mean_squared_error: 0.1708\n",
      "Epoch 20/200\n",
      "1758/1758 [==============================] - 0s 33us/sample - loss: 0.1747 - mean_squared_error: 0.1747 - val_loss: 0.1721 - val_mean_squared_error: 0.1721\n",
      "Epoch 21/200\n",
      "1758/1758 [==============================] - 0s 25us/sample - loss: 0.1619 - mean_squared_error: 0.1619 - val_loss: 0.1742 - val_mean_squared_error: 0.1742\n",
      "Epoch 22/200\n",
      "1758/1758 [==============================] - 0s 29us/sample - loss: 0.1536 - mean_squared_error: 0.1536 - val_loss: 0.1736 - val_mean_squared_error: 0.1736\n",
      "Epoch 23/200\n",
      "1758/1758 [==============================] - 0s 24us/sample - loss: 0.1479 - mean_squared_error: 0.1479 - val_loss: 0.1706 - val_mean_squared_error: 0.1706\n",
      "Epoch 24/200\n",
      "1758/1758 [==============================] - 0s 26us/sample - loss: 0.1425 - mean_squared_error: 0.1425 - val_loss: 0.1674 - val_mean_squared_error: 0.1674\n",
      "Epoch 25/200\n",
      "1758/1758 [==============================] - 0s 27us/sample - loss: 0.1490 - mean_squared_error: 0.1490 - val_loss: 0.1661 - val_mean_squared_error: 0.1661\n",
      "Epoch 26/200\n",
      "1758/1758 [==============================] - 0s 34us/sample - loss: 0.1483 - mean_squared_error: 0.1483 - val_loss: 0.1708 - val_mean_squared_error: 0.1708\n",
      "Epoch 27/200\n",
      "1758/1758 [==============================] - 0s 23us/sample - loss: 0.1595 - mean_squared_error: 0.1595 - val_loss: 0.1663 - val_mean_squared_error: 0.1663\n",
      "Epoch 28/200\n",
      "1758/1758 [==============================] - 0s 27us/sample - loss: 0.1565 - mean_squared_error: 0.1565 - val_loss: 0.1635 - val_mean_squared_error: 0.1635\n",
      "Epoch 29/200\n",
      "1758/1758 [==============================] - 0s 28us/sample - loss: 0.1323 - mean_squared_error: 0.1323 - val_loss: 0.1671 - val_mean_squared_error: 0.1671\n",
      "Epoch 30/200\n",
      "1758/1758 [==============================] - 0s 28us/sample - loss: 0.1266 - mean_squared_error: 0.1266 - val_loss: 0.1634 - val_mean_squared_error: 0.1634\n",
      "Epoch 31/200\n",
      "1758/1758 [==============================] - 0s 29us/sample - loss: 0.1503 - mean_squared_error: 0.1503 - val_loss: 0.1610 - val_mean_squared_error: 0.1610\n",
      "Epoch 32/200\n",
      "1758/1758 [==============================] - 0s 33us/sample - loss: 0.1338 - mean_squared_error: 0.1338 - val_loss: 0.1662 - val_mean_squared_error: 0.1662\n",
      "Epoch 33/200\n",
      "1758/1758 [==============================] - 0s 27us/sample - loss: 0.1170 - mean_squared_error: 0.1170 - val_loss: 0.1612 - val_mean_squared_error: 0.1612\n",
      "Epoch 34/200\n",
      "1758/1758 [==============================] - 0s 28us/sample - loss: 0.1275 - mean_squared_error: 0.1275 - val_loss: 0.1584 - val_mean_squared_error: 0.1584\n",
      "Epoch 35/200\n",
      "1758/1758 [==============================] - 0s 27us/sample - loss: 0.1321 - mean_squared_error: 0.1321 - val_loss: 0.1585 - val_mean_squared_error: 0.1585\n",
      "Epoch 36/200\n",
      "1758/1758 [==============================] - 0s 31us/sample - loss: 0.1137 - mean_squared_error: 0.1137 - val_loss: 0.1552 - val_mean_squared_error: 0.1552\n",
      "Epoch 37/200\n",
      "1758/1758 [==============================] - 0s 44us/sample - loss: 0.1202 - mean_squared_error: 0.1202 - val_loss: 0.1562 - val_mean_squared_error: 0.1562\n",
      "Epoch 38/200\n",
      "1758/1758 [==============================] - 0s 33us/sample - loss: 0.1112 - mean_squared_error: 0.1112 - val_loss: 0.1549 - val_mean_squared_error: 0.1549\n",
      "Epoch 39/200\n",
      "1758/1758 [==============================] - 0s 34us/sample - loss: 0.1275 - mean_squared_error: 0.1275 - val_loss: 0.1526 - val_mean_squared_error: 0.1526\n",
      "Epoch 40/200\n",
      "1758/1758 [==============================] - 0s 35us/sample - loss: 0.1249 - mean_squared_error: 0.1249 - val_loss: 0.1536 - val_mean_squared_error: 0.1536\n",
      "Epoch 41/200\n",
      "1758/1758 [==============================] - 0s 34us/sample - loss: 0.1338 - mean_squared_error: 0.1338 - val_loss: 0.1562 - val_mean_squared_error: 0.1562\n",
      "Epoch 42/200\n",
      "1758/1758 [==============================] - 0s 41us/sample - loss: 0.1191 - mean_squared_error: 0.1191 - val_loss: 0.1514 - val_mean_squared_error: 0.1514\n",
      "Epoch 43/200\n",
      "1758/1758 [==============================] - 0s 27us/sample - loss: 0.1140 - mean_squared_error: 0.1140 - val_loss: 0.1534 - val_mean_squared_error: 0.1534\n",
      "Epoch 44/200\n",
      "1758/1758 [==============================] - 0s 34us/sample - loss: 0.1185 - mean_squared_error: 0.1185 - val_loss: 0.1542 - val_mean_squared_error: 0.1542\n",
      "Epoch 45/200\n",
      "1758/1758 [==============================] - 0s 37us/sample - loss: 0.1009 - mean_squared_error: 0.1009 - val_loss: 0.1591 - val_mean_squared_error: 0.1591\n",
      "Epoch 46/200\n",
      "1758/1758 [==============================] - 0s 35us/sample - loss: 0.1166 - mean_squared_error: 0.1166 - val_loss: 0.1545 - val_mean_squared_error: 0.1545\n",
      "Epoch 47/200\n",
      "1758/1758 [==============================] - 0s 36us/sample - loss: 0.1151 - mean_squared_error: 0.1151 - val_loss: 0.1504 - val_mean_squared_error: 0.1504\n",
      "Epoch 48/200\n",
      "1758/1758 [==============================] - 0s 37us/sample - loss: 0.1148 - mean_squared_error: 0.1148 - val_loss: 0.1508 - val_mean_squared_error: 0.1508\n",
      "Epoch 49/200\n",
      "1758/1758 [==============================] - 0s 51us/sample - loss: 0.1011 - mean_squared_error: 0.1011 - val_loss: 0.1567 - val_mean_squared_error: 0.1567\n",
      "Epoch 50/200\n",
      "1758/1758 [==============================] - 0s 34us/sample - loss: 0.1276 - mean_squared_error: 0.1276 - val_loss: 0.1499 - val_mean_squared_error: 0.1499\n",
      "Epoch 51/200\n",
      "1758/1758 [==============================] - 0s 37us/sample - loss: 0.0921 - mean_squared_error: 0.0921 - val_loss: 0.1525 - val_mean_squared_error: 0.1525\n",
      "Epoch 52/200\n",
      "1758/1758 [==============================] - 0s 26us/sample - loss: 0.1054 - mean_squared_error: 0.1054 - val_loss: 0.1488 - val_mean_squared_error: 0.1488\n",
      "Epoch 53/200\n",
      "1758/1758 [==============================] - 0s 30us/sample - loss: 0.1111 - mean_squared_error: 0.1111 - val_loss: 0.1513 - val_mean_squared_error: 0.1513\n",
      "Epoch 54/200\n",
      "1758/1758 [==============================] - 0s 39us/sample - loss: 0.1043 - mean_squared_error: 0.1043 - val_loss: 0.1518 - val_mean_squared_error: 0.1518\n",
      "Epoch 55/200\n",
      "1758/1758 [==============================] - 0s 40us/sample - loss: 0.0992 - mean_squared_error: 0.0992 - val_loss: 0.1465 - val_mean_squared_error: 0.1465\n",
      "Epoch 56/200\n",
      "1758/1758 [==============================] - 0s 44us/sample - loss: 0.0991 - mean_squared_error: 0.0991 - val_loss: 0.1517 - val_mean_squared_error: 0.1517\n",
      "Epoch 57/200\n",
      "1758/1758 [==============================] - 0s 31us/sample - loss: 0.0918 - mean_squared_error: 0.0918 - val_loss: 0.1512 - val_mean_squared_error: 0.1512\n",
      "Epoch 58/200\n",
      "1758/1758 [==============================] - 0s 34us/sample - loss: 0.0981 - mean_squared_error: 0.0981 - val_loss: 0.1488 - val_mean_squared_error: 0.1488\n",
      "Epoch 59/200\n",
      "1758/1758 [==============================] - 0s 34us/sample - loss: 0.1070 - mean_squared_error: 0.1070 - val_loss: 0.1536 - val_mean_squared_error: 0.1536\n",
      "Epoch 60/200\n",
      "1758/1758 [==============================] - 0s 45us/sample - loss: 0.0973 - mean_squared_error: 0.0973 - val_loss: 0.1485 - val_mean_squared_error: 0.1485\n",
      "Epoch 61/200\n",
      "1758/1758 [==============================] - 0s 38us/sample - loss: 0.0929 - mean_squared_error: 0.0929 - val_loss: 0.1512 - val_mean_squared_error: 0.1512\n",
      "Epoch 62/200\n",
      "1758/1758 [==============================] - 0s 36us/sample - loss: 0.0952 - mean_squared_error: 0.0952 - val_loss: 0.1545 - val_mean_squared_error: 0.1545\n",
      "Epoch 63/200\n",
      "1758/1758 [==============================] - 0s 33us/sample - loss: 0.0982 - mean_squared_error: 0.0982 - val_loss: 0.1513 - val_mean_squared_error: 0.1513\n",
      "Epoch 64/200\n",
      "1758/1758 [==============================] - 0s 31us/sample - loss: 0.0925 - mean_squared_error: 0.0925 - val_loss: 0.1542 - val_mean_squared_error: 0.1542\n",
      "Epoch 65/200\n",
      "1758/1758 [==============================] - 0s 32us/sample - loss: 0.1053 - mean_squared_error: 0.1053 - val_loss: 0.1462 - val_mean_squared_error: 0.1462\n",
      "Epoch 66/200\n",
      "1758/1758 [==============================] - 0s 25us/sample - loss: 0.0950 - mean_squared_error: 0.0950 - val_loss: 0.1499 - val_mean_squared_error: 0.1499\n",
      "Epoch 67/200\n",
      "1758/1758 [==============================] - 0s 25us/sample - loss: 0.0966 - mean_squared_error: 0.0966 - val_loss: 0.1463 - val_mean_squared_error: 0.1463\n",
      "Epoch 68/200\n",
      "1758/1758 [==============================] - 0s 30us/sample - loss: 0.0954 - mean_squared_error: 0.0954 - val_loss: 0.1472 - val_mean_squared_error: 0.1472\n",
      "Epoch 69/200\n",
      "1758/1758 [==============================] - 0s 31us/sample - loss: 0.0947 - mean_squared_error: 0.0947 - val_loss: 0.1441 - val_mean_squared_error: 0.1441\n",
      "Epoch 70/200\n",
      "1758/1758 [==============================] - 0s 37us/sample - loss: 0.0956 - mean_squared_error: 0.0956 - val_loss: 0.1394 - val_mean_squared_error: 0.1394\n",
      "Epoch 71/200\n",
      "1758/1758 [==============================] - 0s 44us/sample - loss: 0.0850 - mean_squared_error: 0.0850 - val_loss: 0.1407 - val_mean_squared_error: 0.1407\n",
      "Epoch 72/200\n",
      "1758/1758 [==============================] - 0s 37us/sample - loss: 0.0878 - mean_squared_error: 0.0878 - val_loss: 0.1381 - val_mean_squared_error: 0.1381\n",
      "Epoch 73/200\n",
      "1758/1758 [==============================] - 0s 34us/sample - loss: 0.1027 - mean_squared_error: 0.1027 - val_loss: 0.1412 - val_mean_squared_error: 0.1412\n",
      "Epoch 74/200\n",
      "1758/1758 [==============================] - 0s 35us/sample - loss: 0.0935 - mean_squared_error: 0.0935 - val_loss: 0.1397 - val_mean_squared_error: 0.1397\n",
      "Epoch 75/200\n",
      "1758/1758 [==============================] - 0s 38us/sample - loss: 0.0860 - mean_squared_error: 0.0860 - val_loss: 0.1383 - val_mean_squared_error: 0.1383\n",
      "Epoch 76/200\n",
      "1758/1758 [==============================] - 0s 32us/sample - loss: 0.0922 - mean_squared_error: 0.0922 - val_loss: 0.1383 - val_mean_squared_error: 0.1383\n",
      "Epoch 77/200\n",
      "1758/1758 [==============================] - 0s 36us/sample - loss: 0.0789 - mean_squared_error: 0.0789 - val_loss: 0.1379 - val_mean_squared_error: 0.1379\n",
      "Epoch 78/200\n",
      "1758/1758 [==============================] - 0s 35us/sample - loss: 0.0858 - mean_squared_error: 0.0858 - val_loss: 0.1380 - val_mean_squared_error: 0.1380\n",
      "Epoch 79/200\n",
      "1758/1758 [==============================] - 0s 43us/sample - loss: 0.0952 - mean_squared_error: 0.0952 - val_loss: 0.1451 - val_mean_squared_error: 0.1451\n",
      "Epoch 80/200\n",
      "1758/1758 [==============================] - 0s 30us/sample - loss: 0.0793 - mean_squared_error: 0.0793 - val_loss: 0.1351 - val_mean_squared_error: 0.1351\n",
      "Epoch 81/200\n",
      "1758/1758 [==============================] - 0s 25us/sample - loss: 0.0894 - mean_squared_error: 0.0894 - val_loss: 0.1367 - val_mean_squared_error: 0.1367\n",
      "Epoch 82/200\n",
      "1758/1758 [==============================] - 0s 25us/sample - loss: 0.0908 - mean_squared_error: 0.0908 - val_loss: 0.1403 - val_mean_squared_error: 0.1403\n",
      "Epoch 83/200\n",
      "1758/1758 [==============================] - 0s 27us/sample - loss: 0.0896 - mean_squared_error: 0.0896 - val_loss: 0.1429 - val_mean_squared_error: 0.1429\n",
      "Epoch 84/200\n",
      "1758/1758 [==============================] - 0s 30us/sample - loss: 0.0867 - mean_squared_error: 0.0867 - val_loss: 0.1424 - val_mean_squared_error: 0.1424\n",
      "Epoch 85/200\n",
      "1758/1758 [==============================] - 0s 39us/sample - loss: 0.0948 - mean_squared_error: 0.0948 - val_loss: 0.1407 - val_mean_squared_error: 0.1407\n",
      "Epoch 86/200\n",
      "1758/1758 [==============================] - 0s 36us/sample - loss: 0.0754 - mean_squared_error: 0.0754 - val_loss: 0.1380 - val_mean_squared_error: 0.1380\n",
      "Epoch 87/200\n",
      "1758/1758 [==============================] - 0s 35us/sample - loss: 0.0827 - mean_squared_error: 0.0827 - val_loss: 0.1394 - val_mean_squared_error: 0.1394\n",
      "Epoch 88/200\n",
      "1758/1758 [==============================] - 0s 32us/sample - loss: 0.0895 - mean_squared_error: 0.0895 - val_loss: 0.1351 - val_mean_squared_error: 0.1351\n",
      "Epoch 89/200\n",
      "1758/1758 [==============================] - 0s 34us/sample - loss: 0.0919 - mean_squared_error: 0.0919 - val_loss: 0.1357 - val_mean_squared_error: 0.1357\n",
      "Epoch 90/200\n",
      "1758/1758 [==============================] - 0s 42us/sample - loss: 0.0856 - mean_squared_error: 0.0856 - val_loss: 0.1350 - val_mean_squared_error: 0.1350\n",
      "Epoch 91/200\n",
      "1758/1758 [==============================] - 0s 29us/sample - loss: 0.0738 - mean_squared_error: 0.0738 - val_loss: 0.1365 - val_mean_squared_error: 0.1365\n",
      "Epoch 92/200\n",
      "1758/1758 [==============================] - 0s 32us/sample - loss: 0.0817 - mean_squared_error: 0.0817 - val_loss: 0.1359 - val_mean_squared_error: 0.1359\n",
      "Epoch 93/200\n",
      "1758/1758 [==============================] - 0s 37us/sample - loss: 0.0853 - mean_squared_error: 0.0853 - val_loss: 0.1409 - val_mean_squared_error: 0.1409\n",
      "Epoch 94/200\n",
      "1758/1758 [==============================] - 0s 40us/sample - loss: 0.0814 - mean_squared_error: 0.0814 - val_loss: 0.1341 - val_mean_squared_error: 0.1341\n",
      "Epoch 95/200\n",
      "1758/1758 [==============================] - 0s 33us/sample - loss: 0.0786 - mean_squared_error: 0.0786 - val_loss: 0.1337 - val_mean_squared_error: 0.1337\n",
      "Epoch 96/200\n",
      "1758/1758 [==============================] - 0s 27us/sample - loss: 0.0800 - mean_squared_error: 0.0800 - val_loss: 0.1338 - val_mean_squared_error: 0.1338\n",
      "Epoch 97/200\n"
     ]
    },
    {
     "name": "stdout",
     "output_type": "stream",
     "text": [
      "1758/1758 [==============================] - 0s 25us/sample - loss: 0.0784 - mean_squared_error: 0.0784 - val_loss: 0.1326 - val_mean_squared_error: 0.1326\n",
      "Epoch 98/200\n",
      "1758/1758 [==============================] - 0s 27us/sample - loss: 0.0797 - mean_squared_error: 0.0797 - val_loss: 0.1401 - val_mean_squared_error: 0.1401\n",
      "Epoch 99/200\n",
      "1758/1758 [==============================] - 0s 25us/sample - loss: 0.0705 - mean_squared_error: 0.0705 - val_loss: 0.1329 - val_mean_squared_error: 0.1329\n",
      "Epoch 100/200\n",
      "1758/1758 [==============================] - 0s 31us/sample - loss: 0.0684 - mean_squared_error: 0.0684 - val_loss: 0.1359 - val_mean_squared_error: 0.1359\n",
      "Epoch 101/200\n",
      "1758/1758 [==============================] - 0s 26us/sample - loss: 0.0742 - mean_squared_error: 0.0742 - val_loss: 0.1364 - val_mean_squared_error: 0.1364\n",
      "Epoch 102/200\n",
      "1758/1758 [==============================] - 0s 26us/sample - loss: 0.0784 - mean_squared_error: 0.0784 - val_loss: 0.1375 - val_mean_squared_error: 0.1375\n",
      "Epoch 103/200\n",
      "1758/1758 [==============================] - 0s 28us/sample - loss: 0.0830 - mean_squared_error: 0.0830 - val_loss: 0.1343 - val_mean_squared_error: 0.1343\n",
      "Epoch 104/200\n",
      "1758/1758 [==============================] - 0s 27us/sample - loss: 0.0800 - mean_squared_error: 0.0800 - val_loss: 0.1296 - val_mean_squared_error: 0.1296\n",
      "Epoch 105/200\n",
      "1758/1758 [==============================] - 0s 32us/sample - loss: 0.0806 - mean_squared_error: 0.0806 - val_loss: 0.1372 - val_mean_squared_error: 0.1372\n",
      "Epoch 106/200\n",
      "1758/1758 [==============================] - 0s 42us/sample - loss: 0.0828 - mean_squared_error: 0.0828 - val_loss: 0.1306 - val_mean_squared_error: 0.1306\n",
      "Epoch 107/200\n",
      "1758/1758 [==============================] - 0s 33us/sample - loss: 0.0786 - mean_squared_error: 0.0786 - val_loss: 0.1396 - val_mean_squared_error: 0.1396\n",
      "Epoch 108/200\n",
      "1758/1758 [==============================] - 0s 35us/sample - loss: 0.0732 - mean_squared_error: 0.0732 - val_loss: 0.1388 - val_mean_squared_error: 0.1388\n",
      "Epoch 109/200\n",
      "1758/1758 [==============================] - 0s 37us/sample - loss: 0.0816 - mean_squared_error: 0.0816 - val_loss: 0.1344 - val_mean_squared_error: 0.1344\n",
      "Epoch 110/200\n",
      "1758/1758 [==============================] - 0s 36us/sample - loss: 0.0823 - mean_squared_error: 0.0823 - val_loss: 0.1411 - val_mean_squared_error: 0.1411\n",
      "Epoch 111/200\n",
      "1758/1758 [==============================] - 0s 43us/sample - loss: 0.0894 - mean_squared_error: 0.0894 - val_loss: 0.1353 - val_mean_squared_error: 0.1353\n",
      "Epoch 112/200\n",
      "1758/1758 [==============================] - 0s 43us/sample - loss: 0.0768 - mean_squared_error: 0.0768 - val_loss: 0.1383 - val_mean_squared_error: 0.1383\n",
      "Epoch 113/200\n",
      "1758/1758 [==============================] - 0s 30us/sample - loss: 0.0783 - mean_squared_error: 0.0783 - val_loss: 0.1357 - val_mean_squared_error: 0.1357\n",
      "Epoch 114/200\n",
      "1758/1758 [==============================] - 0s 26us/sample - loss: 0.0672 - mean_squared_error: 0.0672 - val_loss: 0.1315 - val_mean_squared_error: 0.1315\n",
      "Epoch 115/200\n",
      "1758/1758 [==============================] - 0s 25us/sample - loss: 0.0725 - mean_squared_error: 0.0725 - val_loss: 0.1311 - val_mean_squared_error: 0.1311\n",
      "Epoch 116/200\n",
      "1758/1758 [==============================] - 0s 31us/sample - loss: 0.0715 - mean_squared_error: 0.0715 - val_loss: 0.1293 - val_mean_squared_error: 0.1293\n",
      "Epoch 117/200\n",
      "1758/1758 [==============================] - 0s 28us/sample - loss: 0.0814 - mean_squared_error: 0.0814 - val_loss: 0.1338 - val_mean_squared_error: 0.1338\n",
      "Epoch 118/200\n",
      "1758/1758 [==============================] - 0s 27us/sample - loss: 0.0758 - mean_squared_error: 0.0758 - val_loss: 0.1329 - val_mean_squared_error: 0.1329\n",
      "Epoch 119/200\n",
      "1758/1758 [==============================] - 0s 27us/sample - loss: 0.0801 - mean_squared_error: 0.0801 - val_loss: 0.1350 - val_mean_squared_error: 0.1350\n",
      "Epoch 120/200\n",
      "1758/1758 [==============================] - 0s 28us/sample - loss: 0.0839 - mean_squared_error: 0.0839 - val_loss: 0.1387 - val_mean_squared_error: 0.1387\n",
      "Epoch 121/200\n",
      "1758/1758 [==============================] - 0s 28us/sample - loss: 0.0741 - mean_squared_error: 0.0741 - val_loss: 0.1401 - val_mean_squared_error: 0.1401\n",
      "Epoch 122/200\n",
      "1758/1758 [==============================] - 0s 38us/sample - loss: 0.0775 - mean_squared_error: 0.0775 - val_loss: 0.1353 - val_mean_squared_error: 0.1353\n",
      "Epoch 123/200\n",
      "1758/1758 [==============================] - 0s 37us/sample - loss: 0.0754 - mean_squared_error: 0.0754 - val_loss: 0.1347 - val_mean_squared_error: 0.1347\n",
      "Epoch 124/200\n",
      "1758/1758 [==============================] - 0s 37us/sample - loss: 0.0791 - mean_squared_error: 0.0791 - val_loss: 0.1355 - val_mean_squared_error: 0.1355\n",
      "Epoch 125/200\n",
      "1758/1758 [==============================] - 0s 30us/sample - loss: 0.0771 - mean_squared_error: 0.0771 - val_loss: 0.1388 - val_mean_squared_error: 0.1388\n",
      "Epoch 126/200\n",
      "1758/1758 [==============================] - 0s 41us/sample - loss: 0.0652 - mean_squared_error: 0.0652 - val_loss: 0.1411 - val_mean_squared_error: 0.1411\n",
      "Epoch 127/200\n",
      "1758/1758 [==============================] - 0s 33us/sample - loss: 0.0721 - mean_squared_error: 0.0721 - val_loss: 0.1447 - val_mean_squared_error: 0.1447\n",
      "Epoch 128/200\n",
      "1758/1758 [==============================] - ETA: 0s - loss: 0.0941 - mean_squared_error: 0.09 - 0s 36us/sample - loss: 0.0758 - mean_squared_error: 0.0758 - val_loss: 0.1410 - val_mean_squared_error: 0.1410\n",
      "Epoch 129/200\n",
      "1758/1758 [==============================] - 0s 34us/sample - loss: 0.0734 - mean_squared_error: 0.0734 - val_loss: 0.1394 - val_mean_squared_error: 0.1394\n",
      "Epoch 130/200\n",
      "1758/1758 [==============================] - ETA: 0s - loss: 0.0934 - mean_squared_error: 0.09 - 0s 38us/sample - loss: 0.0707 - mean_squared_error: 0.0707 - val_loss: 0.1469 - val_mean_squared_error: 0.1469\n",
      "Epoch 131/200\n",
      "1758/1758 [==============================] - 0s 57us/sample - loss: 0.0763 - mean_squared_error: 0.0763 - val_loss: 0.1377 - val_mean_squared_error: 0.1377\n",
      "Epoch 132/200\n",
      "1758/1758 [==============================] - 0s 32us/sample - loss: 0.0771 - mean_squared_error: 0.0771 - val_loss: 0.1404 - val_mean_squared_error: 0.1404\n",
      "Epoch 133/200\n",
      "1758/1758 [==============================] - 0s 34us/sample - loss: 0.0748 - mean_squared_error: 0.0748 - val_loss: 0.1321 - val_mean_squared_error: 0.1321\n",
      "Epoch 134/200\n",
      "1758/1758 [==============================] - 0s 27us/sample - loss: 0.0733 - mean_squared_error: 0.0733 - val_loss: 0.1324 - val_mean_squared_error: 0.1324\n",
      "Epoch 135/200\n",
      "1758/1758 [==============================] - 0s 29us/sample - loss: 0.0712 - mean_squared_error: 0.0712 - val_loss: 0.1334 - val_mean_squared_error: 0.1334\n",
      "Epoch 136/200\n",
      "1758/1758 [==============================] - 0s 33us/sample - loss: 0.0739 - mean_squared_error: 0.0739 - val_loss: 0.1376 - val_mean_squared_error: 0.1376\n",
      "Epoch 137/200\n",
      "1758/1758 [==============================] - 0s 36us/sample - loss: 0.0670 - mean_squared_error: 0.0670 - val_loss: 0.1365 - val_mean_squared_error: 0.1365\n",
      "Epoch 138/200\n",
      "1758/1758 [==============================] - 0s 47us/sample - loss: 0.0717 - mean_squared_error: 0.0717 - val_loss: 0.1307 - val_mean_squared_error: 0.1307\n",
      "Epoch 139/200\n",
      "1758/1758 [==============================] - 0s 36us/sample - loss: 0.0650 - mean_squared_error: 0.0650 - val_loss: 0.1315 - val_mean_squared_error: 0.1315\n",
      "Epoch 140/200\n",
      "1758/1758 [==============================] - 0s 41us/sample - loss: 0.0744 - mean_squared_error: 0.0744 - val_loss: 0.1339 - val_mean_squared_error: 0.1339\n",
      "Epoch 141/200\n",
      "1758/1758 [==============================] - 0s 33us/sample - loss: 0.0721 - mean_squared_error: 0.0721 - val_loss: 0.1332 - val_mean_squared_error: 0.1332\n",
      "Epoch 142/200\n",
      "1758/1758 [==============================] - 0s 34us/sample - loss: 0.0738 - mean_squared_error: 0.0738 - val_loss: 0.1352 - val_mean_squared_error: 0.1352\n",
      "Epoch 143/200\n",
      "1758/1758 [==============================] - 0s 38us/sample - loss: 0.0647 - mean_squared_error: 0.0647 - val_loss: 0.1344 - val_mean_squared_error: 0.1344\n",
      "Epoch 144/200\n",
      "1758/1758 [==============================] - 0s 36us/sample - loss: 0.0617 - mean_squared_error: 0.0617 - val_loss: 0.1375 - val_mean_squared_error: 0.1375\n"
     ]
    },
    {
     "name": "stdout",
     "output_type": "stream",
     "text": [
      "Epoch 145/200\n",
      "1758/1758 [==============================] - 0s 34us/sample - loss: 0.0676 - mean_squared_error: 0.0676 - val_loss: 0.1322 - val_mean_squared_error: 0.1322\n",
      "Epoch 146/200\n",
      "1758/1758 [==============================] - 0s 35us/sample - loss: 0.0718 - mean_squared_error: 0.0718 - val_loss: 0.1367 - val_mean_squared_error: 0.1367\n",
      "Epoch 147/200\n",
      "1758/1758 [==============================] - 0s 36us/sample - loss: 0.0742 - mean_squared_error: 0.0742 - val_loss: 0.1325 - val_mean_squared_error: 0.1325\n",
      "Epoch 148/200\n",
      "1758/1758 [==============================] - 0s 31us/sample - loss: 0.0702 - mean_squared_error: 0.0702 - val_loss: 0.1338 - val_mean_squared_error: 0.1338\n",
      "Epoch 149/200\n",
      "1758/1758 [==============================] - 0s 33us/sample - loss: 0.0796 - mean_squared_error: 0.0796 - val_loss: 0.1290 - val_mean_squared_error: 0.1290\n",
      "Epoch 150/200\n",
      "1758/1758 [==============================] - 0s 37us/sample - loss: 0.0735 - mean_squared_error: 0.0735 - val_loss: 0.1307 - val_mean_squared_error: 0.1307\n",
      "Epoch 151/200\n",
      "1758/1758 [==============================] - 0s 37us/sample - loss: 0.0665 - mean_squared_error: 0.0665 - val_loss: 0.1365 - val_mean_squared_error: 0.1365\n",
      "Epoch 152/200\n",
      "1758/1758 [==============================] - 0s 32us/sample - loss: 0.0662 - mean_squared_error: 0.0662 - val_loss: 0.1272 - val_mean_squared_error: 0.1272\n",
      "Epoch 153/200\n",
      "1758/1758 [==============================] - 0s 31us/sample - loss: 0.0691 - mean_squared_error: 0.0691 - val_loss: 0.1307 - val_mean_squared_error: 0.1307\n",
      "Epoch 154/200\n",
      "1758/1758 [==============================] - 0s 40us/sample - loss: 0.0804 - mean_squared_error: 0.0804 - val_loss: 0.1259 - val_mean_squared_error: 0.1259\n",
      "Epoch 155/200\n",
      "1758/1758 [==============================] - 0s 34us/sample - loss: 0.0751 - mean_squared_error: 0.0751 - val_loss: 0.1251 - val_mean_squared_error: 0.1251\n",
      "Epoch 156/200\n",
      "1758/1758 [==============================] - 0s 32us/sample - loss: 0.0674 - mean_squared_error: 0.0674 - val_loss: 0.1269 - val_mean_squared_error: 0.1269\n",
      "Epoch 157/200\n",
      "1758/1758 [==============================] - 0s 34us/sample - loss: 0.0742 - mean_squared_error: 0.0742 - val_loss: 0.1229 - val_mean_squared_error: 0.1229\n",
      "Epoch 158/200\n",
      "1758/1758 [==============================] - 0s 33us/sample - loss: 0.0771 - mean_squared_error: 0.0771 - val_loss: 0.1266 - val_mean_squared_error: 0.1266\n",
      "Epoch 159/200\n",
      "1758/1758 [==============================] - 0s 49us/sample - loss: 0.0635 - mean_squared_error: 0.0635 - val_loss: 0.1271 - val_mean_squared_error: 0.1271\n",
      "Epoch 160/200\n",
      "1758/1758 [==============================] - 0s 33us/sample - loss: 0.0629 - mean_squared_error: 0.0629 - val_loss: 0.1248 - val_mean_squared_error: 0.1248\n",
      "Epoch 161/200\n",
      "1758/1758 [==============================] - 0s 37us/sample - loss: 0.0739 - mean_squared_error: 0.0739 - val_loss: 0.1251 - val_mean_squared_error: 0.1251\n",
      "Epoch 162/200\n",
      "1758/1758 [==============================] - 0s 30us/sample - loss: 0.0640 - mean_squared_error: 0.0640 - val_loss: 0.1270 - val_mean_squared_error: 0.1270\n",
      "Epoch 163/200\n",
      "1758/1758 [==============================] - 0s 35us/sample - loss: 0.0646 - mean_squared_error: 0.0646 - val_loss: 0.1231 - val_mean_squared_error: 0.1231\n",
      "Epoch 164/200\n",
      "1758/1758 [==============================] - 0s 38us/sample - loss: 0.0639 - mean_squared_error: 0.0639 - val_loss: 0.1212 - val_mean_squared_error: 0.1212\n",
      "Epoch 165/200\n",
      "1758/1758 [==============================] - 0s 35us/sample - loss: 0.0636 - mean_squared_error: 0.0636 - val_loss: 0.1232 - val_mean_squared_error: 0.1232\n",
      "Epoch 166/200\n",
      "1758/1758 [==============================] - 0s 37us/sample - loss: 0.0670 - mean_squared_error: 0.0670 - val_loss: 0.1226 - val_mean_squared_error: 0.1226\n",
      "Epoch 167/200\n",
      "1758/1758 [==============================] - 0s 37us/sample - loss: 0.0713 - mean_squared_error: 0.0713 - val_loss: 0.1216 - val_mean_squared_error: 0.1216\n",
      "Epoch 168/200\n",
      "1758/1758 [==============================] - 0s 41us/sample - loss: 0.0751 - mean_squared_error: 0.0751 - val_loss: 0.1307 - val_mean_squared_error: 0.1307\n",
      "Epoch 169/200\n",
      "1758/1758 [==============================] - 0s 34us/sample - loss: 0.0729 - mean_squared_error: 0.0729 - val_loss: 0.1265 - val_mean_squared_error: 0.1265\n",
      "Epoch 170/200\n",
      "1758/1758 [==============================] - 0s 32us/sample - loss: 0.0703 - mean_squared_error: 0.0703 - val_loss: 0.1281 - val_mean_squared_error: 0.1281\n",
      "Epoch 171/200\n",
      "1758/1758 [==============================] - 0s 36us/sample - loss: 0.0759 - mean_squared_error: 0.0759 - val_loss: 0.1324 - val_mean_squared_error: 0.1324\n",
      "Epoch 172/200\n",
      "1758/1758 [==============================] - 0s 39us/sample - loss: 0.0671 - mean_squared_error: 0.0671 - val_loss: 0.1294 - val_mean_squared_error: 0.1294\n",
      "Epoch 173/200\n",
      "1758/1758 [==============================] - 0s 43us/sample - loss: 0.0732 - mean_squared_error: 0.0732 - val_loss: 0.1327 - val_mean_squared_error: 0.1327\n",
      "Epoch 174/200\n",
      "1758/1758 [==============================] - 0s 36us/sample - loss: 0.0653 - mean_squared_error: 0.0653 - val_loss: 0.1273 - val_mean_squared_error: 0.1273\n",
      "Epoch 175/200\n",
      "1758/1758 [==============================] - 0s 36us/sample - loss: 0.0634 - mean_squared_error: 0.0634 - val_loss: 0.1281 - val_mean_squared_error: 0.1281\n",
      "Epoch 176/200\n",
      "1758/1758 [==============================] - 0s 35us/sample - loss: 0.0712 - mean_squared_error: 0.0712 - val_loss: 0.1272 - val_mean_squared_error: 0.1272\n",
      "Epoch 177/200\n",
      "1758/1758 [==============================] - 0s 34us/sample - loss: 0.0785 - mean_squared_error: 0.0785 - val_loss: 0.1223 - val_mean_squared_error: 0.1223\n",
      "Epoch 178/200\n",
      "1758/1758 [==============================] - 0s 27us/sample - loss: 0.0719 - mean_squared_error: 0.0719 - val_loss: 0.1258 - val_mean_squared_error: 0.1258\n",
      "Epoch 179/200\n",
      "1758/1758 [==============================] - 0s 30us/sample - loss: 0.0728 - mean_squared_error: 0.0728 - val_loss: 0.1248 - val_mean_squared_error: 0.1248\n",
      "Epoch 180/200\n",
      "1758/1758 [==============================] - 0s 35us/sample - loss: 0.0676 - mean_squared_error: 0.0676 - val_loss: 0.1243 - val_mean_squared_error: 0.1243\n",
      "Epoch 181/200\n",
      "1758/1758 [==============================] - 0s 43us/sample - loss: 0.0733 - mean_squared_error: 0.0733 - val_loss: 0.1234 - val_mean_squared_error: 0.1234\n",
      "Epoch 182/200\n",
      "1758/1758 [==============================] - 0s 41us/sample - loss: 0.0636 - mean_squared_error: 0.0636 - val_loss: 0.1201 - val_mean_squared_error: 0.1201\n",
      "Epoch 183/200\n",
      "1758/1758 [==============================] - 0s 39us/sample - loss: 0.0689 - mean_squared_error: 0.0689 - val_loss: 0.1225 - val_mean_squared_error: 0.1225\n",
      "Epoch 184/200\n",
      "1758/1758 [==============================] - 0s 40us/sample - loss: 0.0602 - mean_squared_error: 0.0602 - val_loss: 0.1234 - val_mean_squared_error: 0.1234\n",
      "Epoch 185/200\n",
      "1758/1758 [==============================] - 0s 37us/sample - loss: 0.0654 - mean_squared_error: 0.0654 - val_loss: 0.1234 - val_mean_squared_error: 0.1234\n",
      "Epoch 186/200\n",
      "1758/1758 [==============================] - 0s 39us/sample - loss: 0.0723 - mean_squared_error: 0.0723 - val_loss: 0.1236 - val_mean_squared_error: 0.1236\n",
      "Epoch 187/200\n",
      "1758/1758 [==============================] - 0s 35us/sample - loss: 0.0663 - mean_squared_error: 0.0663 - val_loss: 0.1221 - val_mean_squared_error: 0.1221\n",
      "Epoch 188/200\n",
      "1758/1758 [==============================] - 0s 33us/sample - loss: 0.0644 - mean_squared_error: 0.0644 - val_loss: 0.1269 - val_mean_squared_error: 0.1268\n",
      "Epoch 189/200\n",
      "1758/1758 [==============================] - 0s 37us/sample - loss: 0.0761 - mean_squared_error: 0.0761 - val_loss: 0.1245 - val_mean_squared_error: 0.1245\n",
      "Epoch 190/200\n",
      "1758/1758 [==============================] - 0s 39us/sample - loss: 0.0726 - mean_squared_error: 0.0726 - val_loss: 0.1304 - val_mean_squared_error: 0.1304\n",
      "Epoch 191/200\n",
      "1758/1758 [==============================] - 0s 34us/sample - loss: 0.0694 - mean_squared_error: 0.0694 - val_loss: 0.1286 - val_mean_squared_error: 0.1286\n",
      "Epoch 192/200\n",
      "1758/1758 [==============================] - 0s 34us/sample - loss: 0.0775 - mean_squared_error: 0.0775 - val_loss: 0.1267 - val_mean_squared_error: 0.1267\n",
      "Epoch 193/200\n",
      "1758/1758 [==============================] - 0s 36us/sample - loss: 0.0644 - mean_squared_error: 0.0644 - val_loss: 0.1245 - val_mean_squared_error: 0.1245\n",
      "Epoch 194/200\n",
      "1758/1758 [==============================] - 0s 31us/sample - loss: 0.0603 - mean_squared_error: 0.0603 - val_loss: 0.1236 - val_mean_squared_error: 0.1236\n",
      "Epoch 195/200\n",
      "1758/1758 [==============================] - 0s 27us/sample - loss: 0.0698 - mean_squared_error: 0.0698 - val_loss: 0.1267 - val_mean_squared_error: 0.1267\n",
      "Epoch 196/200\n",
      "1758/1758 [==============================] - 0s 26us/sample - loss: 0.0654 - mean_squared_error: 0.0654 - val_loss: 0.1275 - val_mean_squared_error: 0.1275\n",
      "Epoch 197/200\n",
      "1758/1758 [==============================] - 0s 26us/sample - loss: 0.0700 - mean_squared_error: 0.0700 - val_loss: 0.1276 - val_mean_squared_error: 0.1276\n",
      "Epoch 198/200\n",
      "1758/1758 [==============================] - 0s 28us/sample - loss: 0.0637 - mean_squared_error: 0.0637 - val_loss: 0.1286 - val_mean_squared_error: 0.1286\n",
      "Epoch 199/200\n",
      "1758/1758 [==============================] - 0s 38us/sample - loss: 0.0625 - mean_squared_error: 0.0625 - val_loss: 0.1277 - val_mean_squared_error: 0.1277\n",
      "Epoch 200/200\n",
      "1758/1758 [==============================] - 0s 42us/sample - loss: 0.0611 - mean_squared_error: 0.0611 - val_loss: 0.1262 - val_mean_squared_error: 0.1262\n"
     ]
    }
   ],
   "source": [
    "history2 = model2.fit(X_train, y_train, epochs=200, batch_size=200,\n",
    "                     validation_data=(X_valid, y_valid))"
   ]
  },
  {
   "cell_type": "markdown",
   "metadata": {},
   "source": [
    "9. Print the MSE from the test set using the model in Q8. (5 pts) "
   ]
  },
  {
   "cell_type": "code",
   "execution_count": 101,
   "metadata": {},
   "outputs": [
    {
     "name": "stdout",
     "output_type": "stream",
     "text": [
      "MSE of test set: 0.10194027388038597\n"
     ]
    }
   ],
   "source": [
    "print('MSE of test set:', mean_squared_error(y_test, model2.predict(X_test)))"
   ]
  },
  {
   "cell_type": "code",
   "execution_count": 105,
   "metadata": {},
   "outputs": [
    {
     "name": "stdout",
     "output_type": "stream",
     "text": [
      "MSE ratio of optimized model to Lasso model: 0.8772537550218182\n"
     ]
    }
   ],
   "source": [
    "print('MSE ratio of optimized model to Lasso model:', mean_squared_error(y_test, model2.predict(X_test))/mean_squared_error(y_test, lasso.predict(X_test)))"
   ]
  },
  {
   "cell_type": "markdown",
   "metadata": {},
   "source": [
    "10. Plot the training and validation MSE for each epoch. (10 pts)"
   ]
  },
  {
   "cell_type": "code",
   "execution_count": 88,
   "metadata": {},
   "outputs": [],
   "source": [
    "#model2.history.history['val_mean_squared_error']"
   ]
  },
  {
   "cell_type": "code",
   "execution_count": 93,
   "metadata": {},
   "outputs": [
    {
     "data": {
      "text/plain": [
       "<matplotlib.legend.Legend at 0x1a37885c90>"
      ]
     },
     "execution_count": 93,
     "metadata": {},
     "output_type": "execute_result"
    },
    {
     "data": {
      "image/png": "[encoded data removed]",
      "text/plain": [
       "<Figure size 432x288 with 1 Axes>"
      ]
     },
     "metadata": {
      "needs_background": "light"
     },
     "output_type": "display_data"
    }
   ],
   "source": [
    "plt.plot(model2.history.history['mean_squared_error'], label='Training MSE')\n",
    "plt.plot(model2.history.history['val_mean_squared_error'], label='Validation MSE')\n",
    "plt.legend()\n",
    "#validation may good for new tests set"
   ]
  },
  {
   "cell_type": "markdown",
   "metadata": {},
   "source": [
    "11. In a few sentences, describe how you optimized the model in Q8. Did you find that changing certain components had bigger effects on the error rate? (5 pts)"
   ]
  },
  {
   "cell_type": "markdown",
   "metadata": {},
   "source": [
    "I increased a hidden layer with 100 neurons, and also increased Number of epochs and batch size for larger neuron numbers, and received a larger MSE. Then I changed the added regularization L1/L2 penalties to layers, and I still got a larger MSE. Even with early stopping, the MSE increased still. So I felt the original number of neurons could be already high. Thus, I removed the addition hidden layer and add dropout layers, while keeping larger epochs and batch. Finally the MSE reduced lower than that of Lasso model."
   ]
  },
  {
   "cell_type": "markdown",
   "metadata": {},
   "source": [
    "12. How do you know that your model is not overfitting? That is, how do you know you didn't get lucky on the test set? (5 pts)"
   ]
  },
  {
   "cell_type": "code",
   "execution_count": 94,
   "metadata": {},
   "outputs": [
    {
     "data": {
      "text/plain": [
       "<matplotlib.legend.Legend at 0x1a38245dd0>"
      ]
     },
     "execution_count": 94,
     "metadata": {},
     "output_type": "execute_result"
    },
    {
     "data": {
      "image/png": "[encoded data removed]",
      "text/plain": [
       "<Figure size 432x288 with 1 Axes>"
      ]
     },
     "metadata": {
      "needs_background": "light"
     },
     "output_type": "display_data"
    }
   ],
   "source": [
    "plt.plot(model2.history.history['loss'], label='Training loss')\n",
    "plt.plot(model2.history.history['val_loss'], label='Validation loss')\n",
    "plt.legend()"
   ]
  },
  {
   "cell_type": "markdown",
   "metadata": {},
   "source": [
    "I looked at both the validation output and the Train/validation MSE/loss plot. If an overfitting happens, the values of MSE and loss would show oscillating behaviors or went up from a lowest point. If it is not overfitted, the values would drop at the initial validation stage then keep stable at a specific level, like the orange curves shown in my plots. "
   ]
  },
  {
   "cell_type": "code",
   "execution_count": null,
   "metadata": {},
   "outputs": [],
   "source": []
  }
 ],
 "metadata": {
  "kernelspec": {
   "display_name": "Python 3",
   "language": "python",
   "name": "python3"
  },
  "language_info": {
   "codemirror_mode": {
    "name": "ipython",
    "version": 3
   },
   "file_extension": ".py",
   "mimetype": "text/x-python",
   "name": "python",
   "nbconvert_exporter": "python",
   "pygments_lexer": "ipython3",
   "version": "3.7.4"
  }
 },
 "nbformat": 4,
 "nbformat_minor": 2
}

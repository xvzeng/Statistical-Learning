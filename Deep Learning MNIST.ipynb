{
 "cells": [
  {
   "cell_type": "markdown",
   "metadata": {},
   "source": [
    "# Deep Learning MNIST\n",
    "\n",
    "## 1. Load packages and the MNIST data."
   ]
  },
  {
   "cell_type": "code",
   "execution_count": 1,
   "metadata": {},
   "outputs": [],
   "source": [
    "import pandas as pd\n",
    "import numpy as np\n",
    "import matplotlib as mpl\n",
    "import matplotlib.pyplot as plt\n",
    "from sklearn.metrics import accuracy_score\n",
    "from sklearn.model_selection import train_test_split\n",
    "\n",
    "# TensorFlow / Keras functions\n",
    "from tensorflow import keras\n",
    "from tensorflow.keras import Sequential\n",
    "from tensorflow.keras.layers import Dense, Dropout\n",
    "from tensorflow.keras.callbacks import EarlyStopping\n",
    "from tensorflow.keras.datasets import mnist"
   ]
  },
  {
   "cell_type": "code",
   "execution_count": 2,
   "metadata": {},
   "outputs": [
    {
     "name": "stdout",
     "output_type": "stream",
     "text": [
      "(60000, 28, 28) (10000, 28, 28) (60000,) (10000,)\n"
     ]
    }
   ],
   "source": [
    "(X_train, y_train), (X_test, y_test) = mnist.load_data()\n",
    "\n",
    "print(X_train.shape, X_test.shape, y_train.shape, y_test.shape)"
   ]
  },
  {
   "cell_type": "code",
   "execution_count": 3,
   "metadata": {
    "scrolled": true
   },
   "outputs": [
    {
     "name": "stdout",
     "output_type": "stream",
     "text": [
      "0\n"
     ]
    },
    {
     "data": {
      "image/png": "[encoded data removed]",
      "text/plain": [
       "<Figure size 432x288 with 1 Axes>"
      ]
     },
     "metadata": {
      "needs_background": "light"
     },
     "output_type": "display_data"
    }
   ],
   "source": [
    "plt.imshow(X_train[1], cmap=plt.cm.binary)\n",
    "print(y_train[1])"
   ]
  },
  {
   "cell_type": "code",
   "execution_count": 4,
   "metadata": {},
   "outputs": [
    {
     "name": "stdout",
     "output_type": "stream",
     "text": [
      "4\n"
     ]
    },
    {
     "data": {
      "image/png": "[encoded data removed]",
      "text/plain": [
       "<Figure size 432x288 with 1 Axes>"
      ]
     },
     "metadata": {
      "needs_background": "light"
     },
     "output_type": "display_data"
    }
   ],
   "source": [
    "plt.imshow(X_train[2], cmap=plt.cm.binary)\n",
    "print(y_train[2])"
   ]
  },
  {
   "cell_type": "markdown",
   "metadata": {},
   "source": [
    "## 2. Preprocess the data to turn it into a binary classification problem."
   ]
  },
  {
   "cell_type": "code",
   "execution_count": 5,
   "metadata": {},
   "outputs": [],
   "source": [
    "# Filter training and test sets to 2 digits\n",
    "digit0 = 3\n",
    "digit1 = 8\n",
    "\n",
    "train_ind = np.where((y_train == digit0) | (y_train == digit1))[0]\n",
    "test_ind = np.where((y_test == digit0) | (y_test == digit1))[0]\n",
    "\n",
    "y_train = y_train[train_ind]\n",
    "X_train = X_train[train_ind]\n",
    "\n",
    "y_test = y_test[test_ind]\n",
    "X_test = X_test[test_ind]\n",
    "\n",
    "# Relabel digit0 as 0 and digit 1 as 1 for binary classification\n",
    "y_train[y_train == digit0] = 0\n",
    "y_train[y_train == digit1] = 1\n",
    "y_test[y_test == digit0] = 0\n",
    "y_test[y_test == digit1] = 1\n",
    "\n",
    "# Flatten\n",
    "X_train = X_train.reshape(X_train.shape[0], -1)\n",
    "X_test = X_test.reshape(X_test.shape[0], -1)\n",
    "\n",
    "# Create validation set\n",
    "X_train, X_valid, y_train, y_valid = train_test_split(X_train, y_train, test_size=.5, stratify=y_train, random_state=2019)"
   ]
  },
  {
   "cell_type": "code",
   "execution_count": 6,
   "metadata": {},
   "outputs": [
    {
     "name": "stdout",
     "output_type": "stream",
     "text": [
      "(5991, 784) (5991, 784) (1984, 784) (5991,) (5991,) (1984,)\n"
     ]
    }
   ],
   "source": [
    "print(X_train.shape, X_valid.shape, X_test.shape, y_train.shape, y_valid.shape, y_test.shape)"
   ]
  },
  {
   "cell_type": "markdown",
   "metadata": {},
   "source": [
    "## 3. Explore data. Plot a few images. "
   ]
  },
  {
   "cell_type": "code",
   "execution_count": 7,
   "metadata": {},
   "outputs": [
    {
     "data": {
      "text/plain": [
       "array([  0,   0,   0,   0,   0,   0,   0,   0,   0,   0,   0,   0,   0,\n",
       "         0,   0,   0,   0,   0,   0,   0,   0,   0,   0,   0,   0,   0,\n",
       "         0,   0,   0,   0,   0,   0,   0,   0,   0,   0,   0,   0,   0,\n",
       "         0,   0,   0,   0,   0,   0,   0,   0,   0,   0,   0,   0,   0,\n",
       "         0,   0,   0,   0,   0,   0,   0,   0,   0,   0,   0,   0,   0,\n",
       "         0,   0,   0,   0,   0,   0,   0,   0,   0,   0,   0,   0,   0,\n",
       "         0,   0,   0,   0,   0,   0,   0,   0,   0,   0,   0,   0,   0,\n",
       "         0,   0,   0,   0,   0,   0,   0,   0,   0,   0,   0,   0,   0,\n",
       "         0,   0,   0,   0,   0,   0,   0,   0,   0,   0,   0,   0,   0,\n",
       "         0,   0,   0,   0,   0,   0,   0,   0,   0,   0,   0,   0,   0,\n",
       "         0,   0,   0,   0,   0,   0,   0,   0,   0,   0,   0,   0,   0,\n",
       "         0,   0,   0,   0,   0,   0,   0,   0,   0,  44, 255, 230,  54,\n",
       "         0,   0,   0,   0,   0,   0,   0,   0,   0,   0,   0,   0,   0,\n",
       "         0,   0,   0,   0,   0,   0,   0,   0,   0,   0,   0,  14,  84,\n",
       "       165, 221,  13,   0,   0,   0,   0,   0,   0,   0,   0,   0,   0,\n",
       "         0,   0,   0,   0,   0,   0,   0,   0,   0,   0,   0,   0,   0,\n",
       "         2,   2,  49, 254,  45,   0,   0,   0,   0,   0,   0,   0,   0,\n",
       "         0,   0,   0,   0,   0,   0,   0,   0,   0,   0,   0,   0,   0,\n",
       "         0,  36, 182, 177,  39, 198, 184,   0,   0,   0,   0,   0,   0,\n",
       "         0,   0,   0,   0,   0,   0,   0,   0,   0,   0,   0,   0,   0,\n",
       "         0,   0,   0, 201, 222, 128,  93, 163, 213,   0,   0,   0,   0,\n",
       "         0,   0,   0,   0,   0,   0,   0,   0,   0,   0,   0,   0,   0,\n",
       "         0,   0,   0,   0,  13, 235,  78,   0,   0, 143, 246,  18,   0,\n",
       "         0,   0,   0,   0,   0,   0,   0,   0,   0,   0,   0,   0,   0,\n",
       "         0,   0,   0,   0,   0,   0,  23, 192,   0,   0,   0, 152, 230,\n",
       "         9,   0,   0,   0,   0,   0,   0,   0,   0,   0,   0,   0,   0,\n",
       "         0,   0,   0,   0,   0,   0,   0,   0,  82, 166,   0,   0,   0,\n",
       "       201, 213,   0,   0,   0,   0,   0,   0,   0,   0,   0,   0,   0,\n",
       "         0,   0,   0,   0,   0,   0,   0,   0,   0,   0, 126, 166,   0,\n",
       "         0,  53, 250,  84,   0,   0,   0,   0,   0,   0,   0,   0,   0,\n",
       "         0,   0,   0,   0,   0,   0,   0,   0,   0,   0,   0,   0,  28,\n",
       "       209,  14,   0, 106, 207,  10,   0,   0,   0,   0,   0,   0,   0,\n",
       "         0,   0,   0,   0,   0,   0,   0,   0,   0,   0,   0,   0,   0,\n",
       "         0,   0, 205,  86,   5, 220, 106,   0,   0,   0,   0,   0,   0,\n",
       "         0,   0,   0,   0,   0,   0,   0,   0,   0,   0,   0,   0,   0,\n",
       "         0,   0,   0,   0,  96, 207,  81, 222,  10,   0,   0,   0,   0,\n",
       "         0,   0,   0,   0,   0,   0,   0,   0,   0,   0,   0,   0,   0,\n",
       "         0,   0,   0,   0,   0,   0,  37, 229, 254, 131,   0,   0,   0,\n",
       "         0,   0,   0,   0,   0,   0,   0,   0,   0,   0,   0,   0,   0,\n",
       "         0,   0,   0,   0,   0,   0,   0,   0,   0, 180, 254, 131,   0,\n",
       "         0,   0,   0,   0,   0,   0,   0,   0,   0,   0,   0,   0,   0,\n",
       "         0,   0,   0,   0,   0,   0,   0,   0,   0,   0,  13, 235, 182,\n",
       "       207, 161,   5,   0,   0,   0,   0,   0,   0,   0,   0,   0,   0,\n",
       "         0,   0,   0,   0,   0,   0,   0,   0,   0,   0,   0,   0,  68,\n",
       "       246,  28,  22, 144, 125,   0,   0,   0,   0,   0,   0,   0,   0,\n",
       "         0,   0,   0,   0,   0,   0,   0,   0,   0,   0,   0,   0,   0,\n",
       "         0, 102, 181,   0,   0,   2, 218,  29,   0,   0,   0,   0,   0,\n",
       "         0,   0,   0,   0,   0,   0,   0,   0,   0,   0,   0,   0,   0,\n",
       "         0,   0,   6, 221, 103,   0,   0,   0, 215,  85,   0,   0,   0,\n",
       "         0,   0,   0,   0,   0,   0,   0,   0,   0,   0,   0,   0,   0,\n",
       "         0,   0,   0,   0,   0, 152, 101,   0,   0,   0, 212,  54,   0,\n",
       "         0,   0,   0,   0,   0,   0,   0,   0,   0,   0,   0,   0,   0,\n",
       "         0,   0,   0,   0,   0,   0,   0, 105, 178,   0,   0, 100, 233,\n",
       "        11,   0,   0,   0,   0,   0,   0,   0,   0,   0,   0,   0,   0,\n",
       "         0,   0,   0,   0,   0,   0,   0,   0,   0,   0,   0,   0,   0,\n",
       "         0,   0,   0,   0,   0,   0,   0,   0,   0,   0,   0,   0,   0,\n",
       "         0,   0,   0,   0,   0,   0,   0,   0,   0,   0,   0,   0,   0,\n",
       "         0,   0,   0,   0,   0,   0,   0,   0,   0,   0,   0,   0,   0,\n",
       "         0,   0,   0,   0,   0,   0,   0,   0,   0,   0,   0,   0,   0,\n",
       "         0,   0,   0,   0,   0,   0,   0,   0,   0,   0,   0,   0,   0,\n",
       "         0,   0,   0,   0], dtype=uint8)"
      ]
     },
     "execution_count": 7,
     "metadata": {},
     "output_type": "execute_result"
    }
   ],
   "source": [
    "X_train[0]"
   ]
  },
  {
   "cell_type": "code",
   "execution_count": 8,
   "metadata": {},
   "outputs": [
    {
     "name": "stdout",
     "output_type": "stream",
     "text": [
      "0\n"
     ]
    },
    {
     "data": {
      "image/png": "[encoded data removed]",
      "text/plain": [
       "<Figure size 432x288 with 1 Axes>"
      ]
     },
     "metadata": {
      "needs_background": "light"
     },
     "output_type": "display_data"
    }
   ],
   "source": [
    "plt.imshow(X_train[3].reshape(28, 28), plt.cm.binary)\n",
    "print(y_train[3])"
   ]
  },
  {
   "cell_type": "markdown",
   "metadata": {},
   "source": [
    "## 4. Define a neural network. "
   ]
  },
  {
   "cell_type": "code",
   "execution_count": 20,
   "metadata": {},
   "outputs": [
    {
     "name": "stdout",
     "output_type": "stream",
     "text": [
      "Model: \"sequential_3\"\n",
      "_________________________________________________________________\n",
      "Layer (type)                 Output Shape              Param #   \n",
      "=================================================================\n",
      "dense_8 (Dense)              (None, 20)                15700     \n",
      "_________________________________________________________________\n",
      "dense_9 (Dense)              (None, 20)                420       \n",
      "_________________________________________________________________\n",
      "dense_10 (Dense)             (None, 1)                 21        \n",
      "=================================================================\n",
      "Total params: 16,141\n",
      "Trainable params: 16,141\n",
      "Non-trainable params: 0\n",
      "_________________________________________________________________\n"
     ]
    }
   ],
   "source": [
    "model = Sequential()\n",
    "model.add(Dense(20, activation='relu', input_shape=(X_train.shape[1], )))\n",
    "model.add(Dense(20, activation='relu', input_shape=(X_train.shape[1], )))\n",
    "model.add(Dense(1, activation='sigmoid'))#out put between 0 and 1\n",
    "\n",
    "model.summary()"
   ]
  },
  {
   "cell_type": "code",
   "execution_count": 21,
   "metadata": {},
   "outputs": [
    {
     "data": {
      "text/plain": [
       "15700"
      ]
     },
     "execution_count": 21,
     "metadata": {},
     "output_type": "execute_result"
    }
   ],
   "source": [
    "784*20 + 20"
   ]
  },
  {
   "cell_type": "markdown",
   "metadata": {},
   "source": [
    "## 5. Compile and fit the network."
   ]
  },
  {
   "cell_type": "code",
   "execution_count": 22,
   "metadata": {},
   "outputs": [
    {
     "name": "stdout",
     "output_type": "stream",
     "text": [
      "Train on 5991 samples, validate on 5991 samples\n",
      "Epoch 1/20\n",
      "5991/5991 [==============================] - 2s 356us/sample - loss: 4.7905 - accuracy: 0.8484 - val_loss: 1.1969 - val_accuracy: 0.9386\n",
      "Epoch 2/20\n",
      "5991/5991 [==============================] - 1s 89us/sample - loss: 0.9029 - accuracy: 0.9419 - val_loss: 0.7933 - val_accuracy: 0.9441\n",
      "Epoch 3/20\n",
      "5991/5991 [==============================] - 1s 107us/sample - loss: 0.5170 - accuracy: 0.9551 - val_loss: 0.6429 - val_accuracy: 0.9461\n",
      "Epoch 4/20\n",
      "5991/5991 [==============================] - 1s 100us/sample - loss: 0.3441 - accuracy: 0.9628 - val_loss: 0.5199 - val_accuracy: 0.9493\n",
      "Epoch 5/20\n",
      "5991/5991 [==============================] - 1s 92us/sample - loss: 0.2703 - accuracy: 0.9661 - val_loss: 0.4725 - val_accuracy: 0.9516\n",
      "Epoch 6/20\n",
      "5991/5991 [==============================] - 1s 110us/sample - loss: 0.2195 - accuracy: 0.9701 - val_loss: 0.4589 - val_accuracy: 0.9523\n",
      "Epoch 7/20\n",
      "5991/5991 [==============================] - 1s 95us/sample - loss: 0.1550 - accuracy: 0.9758 - val_loss: 0.4186 - val_accuracy: 0.9524\n",
      "Epoch 8/20\n",
      "5991/5991 [==============================] - 1s 111us/sample - loss: 0.1054 - accuracy: 0.9798 - val_loss: 0.4711 - val_accuracy: 0.9543\n",
      "Epoch 9/20\n",
      "5991/5991 [==============================] - 1s 88us/sample - loss: 0.0902 - accuracy: 0.9820 - val_loss: 0.3842 - val_accuracy: 0.9566\n",
      "Epoch 10/20\n",
      "5991/5991 [==============================] - 2s 264us/sample - loss: 0.0646 - accuracy: 0.9845 - val_loss: 0.3830 - val_accuracy: 0.9556\n",
      "Epoch 11/20\n",
      "5991/5991 [==============================] - 1s 239us/sample - loss: 0.0615 - accuracy: 0.9835 - val_loss: 0.3688 - val_accuracy: 0.9581\n",
      "Epoch 12/20\n",
      "5991/5991 [==============================] - 1s 225us/sample - loss: 0.0415 - accuracy: 0.9895 - val_loss: 0.4042 - val_accuracy: 0.9566\n",
      "Epoch 13/20\n",
      "5991/5991 [==============================] - 1s 208us/sample - loss: 0.0359 - accuracy: 0.9893 - val_loss: 0.3789 - val_accuracy: 0.9576\n",
      "Epoch 14/20\n",
      "5991/5991 [==============================] - 1s 150us/sample - loss: 0.0243 - accuracy: 0.9932 - val_loss: 0.3678 - val_accuracy: 0.9569\n",
      "Epoch 15/20\n",
      "5991/5991 [==============================] - 1s 163us/sample - loss: 0.0229 - accuracy: 0.9923 - val_loss: 0.3639 - val_accuracy: 0.9579\n",
      "Epoch 16/20\n",
      "5991/5991 [==============================] - 1s 153us/sample - loss: 0.0191 - accuracy: 0.9942 - val_loss: 0.3693 - val_accuracy: 0.9564\n",
      "Epoch 17/20\n",
      "5991/5991 [==============================] - 1s 162us/sample - loss: 0.0100 - accuracy: 0.9965 - val_loss: 0.3689 - val_accuracy: 0.9591\n",
      "Epoch 18/20\n",
      "5991/5991 [==============================] - 1s 102us/sample - loss: 0.0089 - accuracy: 0.9968 - val_loss: 0.3708 - val_accuracy: 0.9589\n",
      "Epoch 19/20\n",
      "5991/5991 [==============================] - 1s 97us/sample - loss: 0.0074 - accuracy: 0.9972 - val_loss: 0.3806 - val_accuracy: 0.9593\n",
      "Epoch 20/20\n",
      "5991/5991 [==============================] - 1s 89us/sample - loss: 0.0063 - accuracy: 0.9980 - val_loss: 0.3739 - val_accuracy: 0.9581\n"
     ]
    }
   ],
   "source": [
    "model.compile(optimizer='adam',\n",
    "              loss='binary_crossentropy',\n",
    "              metrics=['accuracy'])\n",
    "\n",
    "history = model.fit(X_train, y_train, epochs=20, batch_size=128, \n",
    "                    validation_data=(X_valid, y_valid)) \n",
    "#change the batch_size, need to redo step4"
   ]
  },
  {
   "cell_type": "markdown",
   "metadata": {},
   "source": [
    "## 6. Print accuracy on test set"
   ]
  },
  {
   "cell_type": "code",
   "execution_count": 23,
   "metadata": {},
   "outputs": [
    {
     "name": "stdout",
     "output_type": "stream",
     "text": [
      "['loss', 'accuracy']\n"
     ]
    },
    {
     "data": {
      "text/plain": [
       "[0.3874025709828343, 0.9611895]"
      ]
     },
     "execution_count": 23,
     "metadata": {},
     "output_type": "execute_result"
    }
   ],
   "source": [
    "# Loss (cross-entropy) and accuracy\n",
    "print(model.metrics_names)\n",
    "model.evaluate(X_test, y_test, verbose=0)"
   ]
  },
  {
   "cell_type": "markdown",
   "metadata": {},
   "source": [
    "## 7. Evaluate how well it fit. Did it overfit the validation set?"
   ]
  },
  {
   "cell_type": "code",
   "execution_count": 24,
   "metadata": {},
   "outputs": [
    {
     "data": {
      "text/plain": [
       "[0.93857455,\n",
       " 0.9440828,\n",
       " 0.9460858,\n",
       " 0.9492572,\n",
       " 0.95159405,\n",
       " 0.95226175,\n",
       " 0.95242864,\n",
       " 0.95426476,\n",
       " 0.95660156,\n",
       " 0.9556001,\n",
       " 0.95810384,\n",
       " 0.95660156,\n",
       " 0.9576031,\n",
       " 0.9569354,\n",
       " 0.9579369,\n",
       " 0.95643467,\n",
       " 0.9591053,\n",
       " 0.9589384,\n",
       " 0.95927227,\n",
       " 0.95810384]"
      ]
     },
     "execution_count": 24,
     "metadata": {},
     "output_type": "execute_result"
    }
   ],
   "source": [
    "model.history.history['val_accuracy']"
   ]
  },
  {
   "cell_type": "code",
   "execution_count": 25,
   "metadata": {},
   "outputs": [
    {
     "data": {
      "text/plain": [
       "[0.84843934,\n",
       " 0.9419129,\n",
       " 0.95509934,\n",
       " 0.9627775,\n",
       " 0.96611583,\n",
       " 0.97012186,\n",
       " 0.97579706,\n",
       " 0.979803,\n",
       " 0.98197293,\n",
       " 0.9844767,\n",
       " 0.9834752,\n",
       " 0.98948425,\n",
       " 0.9893173,\n",
       " 0.9931564,\n",
       " 0.9923218,\n",
       " 0.9941579,\n",
       " 0.99649477,\n",
       " 0.99682856,\n",
       " 0.9971624,\n",
       " 0.997997]"
      ]
     },
     "execution_count": 25,
     "metadata": {},
     "output_type": "execute_result"
    }
   ],
   "source": [
    "history.history['accuracy'] #New version TF should include 'model.'"
   ]
  },
  {
   "cell_type": "code",
   "execution_count": 26,
   "metadata": {},
   "outputs": [
    {
     "data": {
      "text/plain": [
       "<matplotlib.legend.Legend at 0x1a3fc0ba10>"
      ]
     },
     "execution_count": 26,
     "metadata": {},
     "output_type": "execute_result"
    },
    {
     "data": {
      "image/png": "[encoded data removed]",
      "text/plain": [
       "<Figure size 432x288 with 1 Axes>"
      ]
     },
     "metadata": {
      "needs_background": "light"
     },
     "output_type": "display_data"
    }
   ],
   "source": [
    "plt.plot(model.history.history['accuracy'], label='Training accuracy')\n",
    "plt.plot(model.history.history['val_accuracy'], label='Validation accuracy')\n",
    "plt.legend()\n",
    "#validation may good for new tests set"
   ]
  },
  {
   "cell_type": "code",
   "execution_count": 16,
   "metadata": {
    "scrolled": true
   },
   "outputs": [
    {
     "data": {
      "text/plain": [
       "<matplotlib.legend.Legend at 0x1a3f0a0e90>"
      ]
     },
     "execution_count": 16,
     "metadata": {},
     "output_type": "execute_result"
    },
    {
     "data": {
      "image/png": "[encoded data removed]",
      "text/plain": [
       "<Figure size 432x288 with 1 Axes>"
      ]
     },
     "metadata": {
      "needs_background": "light"
     },
     "output_type": "display_data"
    }
   ],
   "source": [
    "plt.plot(model.history.history['loss'], label='Training loss')\n",
    "plt.plot(model.history.history['val_loss'], label='Validation loss')\n",
    "plt.legend()"
   ]
  },
  {
   "cell_type": "code",
   "execution_count": 28,
   "metadata": {},
   "outputs": [
    {
     "name": "stdout",
     "output_type": "stream",
     "text": [
      "Model: \"sequential_5\"\n",
      "_________________________________________________________________\n",
      "Layer (type)                 Output Shape              Param #   \n",
      "=================================================================\n",
      "dense_13 (Dense)             (None, 20)                15700     \n",
      "_________________________________________________________________\n",
      "dense_14 (Dense)             (None, 20)                420       \n",
      "_________________________________________________________________\n",
      "dense_15 (Dense)             (None, 1)                 21        \n",
      "=================================================================\n",
      "Total params: 16,141\n",
      "Trainable params: 16,141\n",
      "Non-trainable params: 0\n",
      "_________________________________________________________________\n"
     ]
    }
   ],
   "source": [
    "model = Sequential()\n",
    "model.add(Dense(20, activation='relu', input_shape=(X_train.shape[1], )))#hidden layer can use any functions\n",
    "model.add(Dense(20, activation='sigmoid', input_shape=(X_train.shape[1], )))#hidden layer can use any functions\n",
    "model.add(Dense(1, activation='sigmoid'))#output layer: between 0 and 1\n",
    "\n",
    "model.summary()"
   ]
  },
  {
   "cell_type": "code",
   "execution_count": 29,
   "metadata": {},
   "outputs": [
    {
     "name": "stdout",
     "output_type": "stream",
     "text": [
      "Train on 5991 samples, validate on 5991 samples\n",
      "Epoch 1/20\n",
      "5991/5991 [==============================] - 5s 803us/sample - loss: 0.4357 - accuracy: 0.8514 - val_loss: 0.2910 - val_accuracy: 0.9442\n",
      "Epoch 2/20\n",
      "5991/5991 [==============================] - 1s 245us/sample - loss: 0.2363 - accuracy: 0.9458 - val_loss: 0.1848 - val_accuracy: 0.9579\n",
      "Epoch 3/20\n",
      "5991/5991 [==============================] - 1s 173us/sample - loss: 0.1711 - accuracy: 0.9593 - val_loss: 0.1514 - val_accuracy: 0.9609\n",
      "Epoch 4/20\n",
      "5991/5991 [==============================] - 2s 274us/sample - loss: 0.1431 - accuracy: 0.9651 - val_loss: 0.1381 - val_accuracy: 0.9658\n",
      "Epoch 5/20\n",
      "5991/5991 [==============================] - 1s 159us/sample - loss: 0.1267 - accuracy: 0.9693 - val_loss: 0.1238 - val_accuracy: 0.9673\n",
      "Epoch 6/20\n",
      "5991/5991 [==============================] - 1s 163us/sample - loss: 0.1105 - accuracy: 0.9725 - val_loss: 0.1194 - val_accuracy: 0.9668\n",
      "Epoch 7/20\n",
      "5991/5991 [==============================] - 1s 155us/sample - loss: 0.1039 - accuracy: 0.9728 - val_loss: 0.1081 - val_accuracy: 0.9700\n",
      "Epoch 8/20\n",
      "5991/5991 [==============================] - 1s 107us/sample - loss: 0.0947 - accuracy: 0.9738 - val_loss: 0.1030 - val_accuracy: 0.9723\n",
      "Epoch 9/20\n",
      "5991/5991 [==============================] - 1s 106us/sample - loss: 0.0842 - accuracy: 0.9778 - val_loss: 0.0995 - val_accuracy: 0.9710\n",
      "Epoch 10/20\n",
      "5991/5991 [==============================] - 1s 154us/sample - loss: 0.0788 - accuracy: 0.9795 - val_loss: 0.0958 - val_accuracy: 0.9721\n",
      "Epoch 11/20\n",
      "5991/5991 [==============================] - 1s 116us/sample - loss: 0.0818 - accuracy: 0.9816 - val_loss: 0.0904 - val_accuracy: 0.9718\n",
      "Epoch 12/20\n",
      "5991/5991 [==============================] - 1s 125us/sample - loss: 0.0717 - accuracy: 0.9813 - val_loss: 0.0886 - val_accuracy: 0.9751\n",
      "Epoch 13/20\n",
      "5991/5991 [==============================] - 1s 205us/sample - loss: 0.0654 - accuracy: 0.9828 - val_loss: 0.0953 - val_accuracy: 0.9705\n",
      "Epoch 14/20\n",
      "5991/5991 [==============================] - 1s 206us/sample - loss: 0.0606 - accuracy: 0.9831 - val_loss: 0.0889 - val_accuracy: 0.9755\n",
      "Epoch 15/20\n",
      "5991/5991 [==============================] - 1s 202us/sample - loss: 0.0544 - accuracy: 0.9855 - val_loss: 0.0836 - val_accuracy: 0.9740\n",
      "Epoch 16/20\n",
      "5991/5991 [==============================] - 1s 159us/sample - loss: 0.0508 - accuracy: 0.9866 - val_loss: 0.0839 - val_accuracy: 0.9753\n",
      "Epoch 17/20\n",
      "5991/5991 [==============================] - 1s 222us/sample - loss: 0.0463 - accuracy: 0.9905 - val_loss: 0.0795 - val_accuracy: 0.9760\n",
      "Epoch 18/20\n",
      "5991/5991 [==============================] - 1s 170us/sample - loss: 0.0426 - accuracy: 0.9903 - val_loss: 0.0803 - val_accuracy: 0.9766\n",
      "Epoch 19/20\n",
      "5991/5991 [==============================] - 1s 190us/sample - loss: 0.0433 - accuracy: 0.9897 - val_loss: 0.0826 - val_accuracy: 0.9723\n",
      "Epoch 20/20\n",
      "5991/5991 [==============================] - 1s 162us/sample - loss: 0.0413 - accuracy: 0.9893 - val_loss: 0.0796 - val_accuracy: 0.9751\n"
     ]
    }
   ],
   "source": [
    "model.compile(optimizer='adam',\n",
    "              loss='binary_crossentropy',\n",
    "              metrics=['accuracy'])\n",
    "\n",
    "history = model.fit(X_train, y_train, epochs=20, batch_size=128, \n",
    "                    validation_data=(X_valid, y_valid)) \n",
    "#change the batch_size, need to redo step4"
   ]
  },
  {
   "cell_type": "code",
   "execution_count": 33,
   "metadata": {},
   "outputs": [
    {
     "name": "stdout",
     "output_type": "stream",
     "text": [
      "['loss', 'accuracy']\n"
     ]
    },
    {
     "data": {
      "text/plain": [
       "[0.07771683895900365, 0.9773185]"
      ]
     },
     "execution_count": 33,
     "metadata": {},
     "output_type": "execute_result"
    }
   ],
   "source": [
    "# Loss (cross-entropy) and accuracy\n",
    "print(model.metrics_names)\n",
    "model.evaluate(X_test, y_test, verbose=0) \n",
    "#don't use test_set to see the accurcy. test_set should be use only 1 at last"
   ]
  },
  {
   "cell_type": "markdown",
   "metadata": {},
   "source": [
    "#Original Model#\n",
    "\n",
    "['loss', 'accuracy']\n",
    "\n",
    "[0.16196590158573776, 0.9778226]\n",
    "\n",
    "#Add one hidden layer#\n",
    "\n",
    "['loss', 'accuracy']\n",
    "\n",
    "[0.3874025709828343, 0.9611895]\n",
    "\n",
    "#Change activation function from relu to sigmoid for the added hidden layer#\n",
    "\n",
    "['loss', 'accuracy']\n",
    "\n",
    "[0.07771683895900365, 0.9773185]\n"
   ]
  },
  {
   "cell_type": "code",
   "execution_count": null,
   "metadata": {},
   "outputs": [],
   "source": [
    "model = Sequential()\n",
    "model.add(Dense(20, activation='relu', input_shape=(X_train.shape[1], )))#hidden layer can use any functions\n",
    "model.add(Dense(1, activation='sigmoid'))#output layer: between 0 and 1\n",
    "\n",
    "model.summary()"
   ]
  }
 ],
 "metadata": {
  "kernelspec": {
   "display_name": "Python 3",
   "language": "python",
   "name": "python3"
  },
  "language_info": {
   "codemirror_mode": {
    "name": "ipython",
    "version": 3
   },
   "file_extension": ".py",
   "mimetype": "text/x-python",
   "name": "python",
   "nbconvert_exporter": "python",
   "pygments_lexer": "ipython3",
   "version": "3.7.4"
  }
 },
 "nbformat": 4,
 "nbformat_minor": 2
}
